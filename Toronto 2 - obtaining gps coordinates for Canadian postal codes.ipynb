{
 "cells": [
  {
   "cell_type": "markdown",
   "metadata": {},
   "source": [
    "## Importing and installing libraries though to be used later on...\n"
   ]
  },
  {
   "cell_type": "code",
   "execution_count": 1,
   "metadata": {},
   "outputs": [
    {
     "name": "stdout",
     "output_type": "stream",
     "text": [
      "Requirement already satisfied: geopy in c:\\program files\\python38\\lib\\site-packages (2.1.0)\n",
      "Requirement already satisfied: geographiclib<2,>=1.49 in c:\\program files\\python38\\lib\\site-packages (from geopy) (1.50)\n",
      "Requirement already satisfied: geocoder in c:\\program files\\python38\\lib\\site-packages (1.38.1)\n",
      "Requirement already satisfied: six in c:\\program files\\python38\\lib\\site-packages (from geocoder) (1.14.0)\n",
      "Requirement already satisfied: requests in c:\\program files\\python38\\lib\\site-packages (from geocoder) (2.23.0)\n",
      "Requirement already satisfied: click in c:\\program files\\python38\\lib\\site-packages (from geocoder) (7.1.2)\n",
      "Requirement already satisfied: ratelim in c:\\program files\\python38\\lib\\site-packages (from geocoder) (0.1.6)\n",
      "Requirement already satisfied: future in c:\\program files\\python38\\lib\\site-packages (from geocoder) (0.18.2)\n",
      "Requirement already satisfied: decorator in c:\\program files\\python38\\lib\\site-packages (from ratelim->geocoder) (4.4.2)\n",
      "Requirement already satisfied: chardet<4,>=3.0.2 in c:\\program files\\python38\\lib\\site-packages (from requests->geocoder) (3.0.4)\n",
      "Requirement already satisfied: idna<3,>=2.5 in c:\\program files\\python38\\lib\\site-packages (from requests->geocoder) (2.9)\n",
      "Requirement already satisfied: urllib3!=1.25.0,!=1.25.1,<1.26,>=1.21.1 in c:\\program files\\python38\\lib\\site-packages (from requests->geocoder) (1.25.8)\n",
      "Requirement already satisfied: certifi>=2017.4.17 in c:\\program files\\python38\\lib\\site-packages (from requests->geocoder) (2020.4.5.1)\n"
     ]
    }
   ],
   "source": [
    "import pandas as pd\n",
    "import numpy as np\n",
    "from bs4 import BeautifulSoup\n",
    "import requests\n",
    "import matplotlib.pyplot as plt\n",
    "import os\n",
    "!pip install geopy\n",
    "!pip install geocoder\n",
    "from geopy.geocoders import Nominatim\n",
    "import geocoder"
   ]
  },
  {
   "cell_type": "markdown",
   "metadata": {},
   "source": [
    "## Loading the DataFrame saved during the previous step."
   ]
  },
  {
   "cell_type": "code",
   "execution_count": 16,
   "metadata": {},
   "outputs": [
    {
     "data": {
      "text/plain": [
       "Index(['Unnamed: 0', 'PostalCode', 'Borough', 'Neighbourhood'], dtype='object')"
      ]
     },
     "execution_count": 16,
     "metadata": {},
     "output_type": "execute_result"
    }
   ],
   "source": [
    "scraped_df_path = os.path.join(\".\", \"raw_scraped_canadian_postal_codes.csv\")\n",
    "raw_df = pd.read_csv(scraped_df_path)\n",
    "raw_df.columns"
   ]
  },
  {
   "cell_type": "code",
   "execution_count": 17,
   "metadata": {},
   "outputs": [],
   "source": [
    "raw_df.index.name = \"id\"\n",
    "raw_df.drop(columns = [\"Unnamed: 0\"], inplace = True, axis = 0)"
   ]
  },
  {
   "cell_type": "markdown",
   "metadata": {},
   "source": [
    "## Getting the latitude and longitude values\n",
    "This didn't go as smooth as it was planned. \n",
    "1. Firstly, following the instructions given by IBM, I tried to use geocoder library. That ended up in an infinite loop (I was advised by IBM to create one for some weird reason). Therefore I commented out their version.\n",
    "2. Secondly, I though I would resort to geopy's Nominatim class, by it could only retrieve a fragment (20 geocodes). Perhaps the requests are limited?\n",
    "3. Therefore, as a final attempt, downloaded the geocode file provided by IBM and merged it with the raw scraped data.\n",
    "    "
   ]
  },
  {
   "cell_type": "code",
   "execution_count": 19,
   "metadata": {},
   "outputs": [
    {
     "name": "stdout",
     "output_type": "stream",
     "text": [
      "PostalCode        M3A\n",
      "Longitude    -79.3839\n",
      "Latitude      43.6535\n",
      "Name: 0, dtype: object\n",
      "PostalCode        M7A\n",
      "Longitude    -79.3839\n",
      "Latitude      43.6535\n",
      "Name: 4, dtype: object\n",
      "PostalCode        M1B\n",
      "Longitude    -79.3839\n",
      "Latitude      43.6535\n",
      "Name: 6, dtype: object\n",
      "PostalCode        M1C\n",
      "Longitude    -79.3839\n",
      "Latitude      43.6535\n",
      "Name: 12, dtype: object\n",
      "PostalCode        M9C\n",
      "Longitude    -79.5889\n",
      "Latitude      43.6441\n",
      "Name: 17, dtype: object\n",
      "PostalCode        M5E\n",
      "Longitude    -79.3774\n",
      "Latitude      43.6421\n",
      "Name: 20, dtype: object\n",
      "PostalCode        M1G\n",
      "Longitude    -79.2219\n",
      "Latitude      43.7657\n",
      "Name: 22, dtype: object\n",
      "PostalCode        M5H\n",
      "Longitude    -79.3837\n",
      "Latitude      43.6499\n",
      "Name: 30, dtype: object\n",
      "PostalCode        M2J\n",
      "Longitude    -79.3662\n",
      "Latitude      43.7798\n",
      "Name: 33, dtype: object\n",
      "PostalCode        M5J\n",
      "Longitude    -79.3828\n",
      "Latitude      43.6393\n",
      "Name: 36, dtype: object\n",
      "PostalCode        M6K\n",
      "Longitude     -79.435\n",
      "Latitude      43.6371\n",
      "Name: 43, dtype: object\n",
      "PostalCode       M2M\n",
      "Longitude    -79.416\n",
      "Latitude      43.786\n",
      "Name: 52, dtype: object\n",
      "PostalCode        M2N\n",
      "Longitude    -79.4166\n",
      "Latitude      43.7792\n",
      "Name: 59, dtype: object\n",
      "PostalCode        M6N\n",
      "Longitude    -79.4834\n",
      "Latitude      43.6746\n",
      "Name: 63, dtype: object\n",
      "PostalCode        M6P\n",
      "Longitude    -79.4645\n",
      "Latitude      43.6606\n",
      "Name: 69, dtype: object\n",
      "PostalCode        M9R\n",
      "Longitude    -79.5509\n",
      "Latitude      43.6952\n",
      "Name: 77, dtype: object\n",
      "PostalCode        M6S\n",
      "Longitude    -79.4798\n",
      "Latitude      43.6499\n",
      "Name: 81, dtype: object\n",
      "PostalCode        M5V\n",
      "Longitude     -79.393\n",
      "Latitude      43.6456\n",
      "Name: 87, dtype: object\n",
      "PostalCode        M1W\n",
      "Longitude    -79.3277\n",
      "Latitude      43.8155\n",
      "Name: 90, dtype: object\n",
      "PostalCode        M4X\n",
      "Longitude    -79.3693\n",
      "Latitude       43.668\n",
      "Name: 96, dtype: object\n"
     ]
    }
   ],
   "source": [
    "address_translator = Nominatim(user_agent = \"IBM_data_science_course\")\n",
    "for i in raw_df.index:\n",
    "    postcode = raw_df.loc[i, \"PostalCode\"]\n",
    "    \"\"\"\n",
    "    Endless loop: courtesy of IBM Advanced Data Science Course\n",
    "    lat_lng = None\n",
    "\n",
    "    while (lat_lng is None):\n",
    "        g = geocoder.google('{}, Toronto, Ontario'.format(postcode))\n",
    "        lat_lng = g.latlng\"\"\"\n",
    "    lat_lng = address_translator.geocode('{}, Toronto, Ontario'.format(postcode))\n",
    "    if(lat_lng is not None):\n",
    "        raw_df.loc[i, \"Latitude\"] = lat_lng.latitude\n",
    "        raw_df.loc[i, \"Longitude\"] = lat_lng.longitude\n",
    "        print(raw_df.loc[i, [\"PostalCode\", \"Longitude\", \"Latitude\"]])"
   ]
  },
  {
   "cell_type": "markdown",
   "metadata": {},
   "source": [
    "As you can see from the results below, 83 out of 103 requests were not successful."
   ]
  },
  {
   "cell_type": "code",
   "execution_count": 20,
   "metadata": {},
   "outputs": [
    {
     "data": {
      "text/plain": [
       "PostalCode       83\n",
       "Borough          83\n",
       "Neighbourhood    83\n",
       "Latitude          0\n",
       "Longitude         0\n",
       "dtype: int64"
      ]
     },
     "execution_count": 20,
     "metadata": {},
     "output_type": "execute_result"
    }
   ],
   "source": [
    "raw_df[raw_df[\"Latitude\"].isna()].count()"
   ]
  },
  {
   "cell_type": "markdown",
   "metadata": {},
   "source": [
    "Geopy has let me down as well. Therefore, I have decided to resort to a ready-made file."
   ]
  },
  {
   "cell_type": "code",
   "execution_count": 10,
   "metadata": {},
   "outputs": [
    {
     "data": {
      "text/html": [
       "<div>\n",
       "<style scoped>\n",
       "    .dataframe tbody tr th:only-of-type {\n",
       "        vertical-align: middle;\n",
       "    }\n",
       "\n",
       "    .dataframe tbody tr th {\n",
       "        vertical-align: top;\n",
       "    }\n",
       "\n",
       "    .dataframe thead th {\n",
       "        text-align: right;\n",
       "    }\n",
       "</style>\n",
       "<table border=\"1\" class=\"dataframe\">\n",
       "  <thead>\n",
       "    <tr style=\"text-align: right;\">\n",
       "      <th></th>\n",
       "      <th>Postal Code</th>\n",
       "      <th>Latitude</th>\n",
       "      <th>Longitude</th>\n",
       "    </tr>\n",
       "  </thead>\n",
       "  <tbody>\n",
       "    <tr>\n",
       "      <th>0</th>\n",
       "      <td>M1B</td>\n",
       "      <td>43.806686</td>\n",
       "      <td>-79.194353</td>\n",
       "    </tr>\n",
       "    <tr>\n",
       "      <th>1</th>\n",
       "      <td>M1C</td>\n",
       "      <td>43.784535</td>\n",
       "      <td>-79.160497</td>\n",
       "    </tr>\n",
       "    <tr>\n",
       "      <th>2</th>\n",
       "      <td>M1E</td>\n",
       "      <td>43.763573</td>\n",
       "      <td>-79.188711</td>\n",
       "    </tr>\n",
       "    <tr>\n",
       "      <th>3</th>\n",
       "      <td>M1G</td>\n",
       "      <td>43.770992</td>\n",
       "      <td>-79.216917</td>\n",
       "    </tr>\n",
       "    <tr>\n",
       "      <th>4</th>\n",
       "      <td>M1H</td>\n",
       "      <td>43.773136</td>\n",
       "      <td>-79.239476</td>\n",
       "    </tr>\n",
       "  </tbody>\n",
       "</table>\n",
       "</div>"
      ],
      "text/plain": [
       "  Postal Code   Latitude  Longitude\n",
       "0         M1B  43.806686 -79.194353\n",
       "1         M1C  43.784535 -79.160497\n",
       "2         M1E  43.763573 -79.188711\n",
       "3         M1G  43.770992 -79.216917\n",
       "4         M1H  43.773136 -79.239476"
      ]
     },
     "execution_count": 10,
     "metadata": {},
     "output_type": "execute_result"
    }
   ],
   "source": [
    "provided_url = \"https://cocl.us/Geospatial_data\"\n",
    "downloaded_df = pd.read_csv(provided_url)\n",
    "downloaded_df.head()"
   ]
  },
  {
   "cell_type": "markdown",
   "metadata": {},
   "source": [
    "Getting rid of the latitude and longitude columns"
   ]
  },
  {
   "cell_type": "code",
   "execution_count": 11,
   "metadata": {},
   "outputs": [],
   "source": [
    "raw_df.drop(columns = [\"Latitude\", \"Longitude\"], inplace = True)"
   ]
  },
  {
   "cell_type": "markdown",
   "metadata": {},
   "source": [
    "### Merging the two dataframes"
   ]
  },
  {
   "cell_type": "code",
   "execution_count": 13,
   "metadata": {},
   "outputs": [
    {
     "data": {
      "text/html": [
       "<div>\n",
       "<style scoped>\n",
       "    .dataframe tbody tr th:only-of-type {\n",
       "        vertical-align: middle;\n",
       "    }\n",
       "\n",
       "    .dataframe tbody tr th {\n",
       "        vertical-align: top;\n",
       "    }\n",
       "\n",
       "    .dataframe thead th {\n",
       "        text-align: right;\n",
       "    }\n",
       "</style>\n",
       "<table border=\"1\" class=\"dataframe\">\n",
       "  <thead>\n",
       "    <tr style=\"text-align: right;\">\n",
       "      <th></th>\n",
       "      <th>PostalCode</th>\n",
       "      <th>Borough</th>\n",
       "      <th>Neighbourhood</th>\n",
       "      <th>Latitude</th>\n",
       "      <th>Longitude</th>\n",
       "    </tr>\n",
       "  </thead>\n",
       "  <tbody>\n",
       "    <tr>\n",
       "      <th>0</th>\n",
       "      <td>M3A</td>\n",
       "      <td>North York</td>\n",
       "      <td>Parkwoods</td>\n",
       "      <td>43.753259</td>\n",
       "      <td>-79.329656</td>\n",
       "    </tr>\n",
       "    <tr>\n",
       "      <th>1</th>\n",
       "      <td>M4A</td>\n",
       "      <td>North York</td>\n",
       "      <td>Victoria Village</td>\n",
       "      <td>43.725882</td>\n",
       "      <td>-79.315572</td>\n",
       "    </tr>\n",
       "    <tr>\n",
       "      <th>2</th>\n",
       "      <td>M5A</td>\n",
       "      <td>Downtown Toronto</td>\n",
       "      <td>Regent Park</td>\n",
       "      <td>43.654260</td>\n",
       "      <td>-79.360636</td>\n",
       "    </tr>\n",
       "    <tr>\n",
       "      <th>3</th>\n",
       "      <td>M6A</td>\n",
       "      <td>North York</td>\n",
       "      <td>Lawrence Manor</td>\n",
       "      <td>43.718518</td>\n",
       "      <td>-79.464763</td>\n",
       "    </tr>\n",
       "    <tr>\n",
       "      <th>4</th>\n",
       "      <td>M7A</td>\n",
       "      <td>Downtown Toronto</td>\n",
       "      <td>Queen's Park</td>\n",
       "      <td>43.662301</td>\n",
       "      <td>-79.389494</td>\n",
       "    </tr>\n",
       "  </tbody>\n",
       "</table>\n",
       "</div>"
      ],
      "text/plain": [
       "  PostalCode           Borough     Neighbourhood   Latitude  Longitude\n",
       "0        M3A        North York         Parkwoods  43.753259 -79.329656\n",
       "1        M4A        North York  Victoria Village  43.725882 -79.315572\n",
       "2        M5A  Downtown Toronto       Regent Park  43.654260 -79.360636\n",
       "3        M6A        North York    Lawrence Manor  43.718518 -79.464763\n",
       "4        M7A  Downtown Toronto      Queen's Park  43.662301 -79.389494"
      ]
     },
     "execution_count": 13,
     "metadata": {},
     "output_type": "execute_result"
    }
   ],
   "source": [
    "merged_df = raw_df.merge(downloaded_df, how = \"left\", left_on=\"PostalCode\", right_on = \"Postal Code\")\n",
    "merged_df.drop(columns = \"Postal Code\", inplace = True)\n",
    "merged_df.head()"
   ]
  },
  {
   "cell_type": "code",
   "execution_count": 14,
   "metadata": {},
   "outputs": [
    {
     "data": {
      "text/plain": [
       "(103, 5)"
      ]
     },
     "execution_count": 14,
     "metadata": {},
     "output_type": "execute_result"
    }
   ],
   "source": [
    "merged_df.shape"
   ]
  },
  {
   "cell_type": "code",
   "execution_count": 15,
   "metadata": {},
   "outputs": [],
   "source": [
    "merged_df.to_csv(\"latlng_scraped_canadian_postal_codes.csv\")"
   ]
  }
 ],
 "metadata": {
  "kernelspec": {
   "display_name": "Python 3",
   "language": "python",
   "name": "python3"
  },
  "language_info": {
   "codemirror_mode": {
    "name": "ipython",
    "version": 3
   },
   "file_extension": ".py",
   "mimetype": "text/x-python",
   "name": "python",
   "nbconvert_exporter": "python",
   "pygments_lexer": "ipython3",
   "version": "3.8.2"
  }
 },
 "nbformat": 4,
 "nbformat_minor": 4
}
