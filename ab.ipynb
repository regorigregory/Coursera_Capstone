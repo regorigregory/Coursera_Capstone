{
 "cells": [
  {
   "cell_type": "markdown",
   "metadata": {},
   "source": [
    "# IBM Data Science - Capstone Project\n",
    "## The correlation between COVID-19 cases and a Borough's amenities in London\n",
    "###  by Gergo Endresz"
   ]
  },
  {
   "cell_type": "markdown",
   "metadata": {},
   "source": [
    "### Goal: to substantiate assumption w.r.t"
   ]
  },
  {
   "cell_type": "markdown",
   "metadata": {},
   "source": [
    "### I. Introduction\n",
    "\n",
    "### II. Data gathering\n",
    "1. Borough data - coordinates and codes\n",
    "2. London GeoJson data\n",
    "3. London Covid data\n",
    "\n",
    "### III .Data cleaning & exploration\n",
    "\n",
    "### IV. Model selection\n",
    "\n",
    "### V. Results\n",
    "\n",
    "### VI. Discussion of results\n",
    "\n",
    "### VII. Conclusion"
   ]
  },
  {
   "cell_type": "code",
   "execution_count": null,
   "metadata": {},
   "outputs": [],
   "source": []
  }
 ],
 "metadata": {
  "kernelspec": {
   "display_name": "Python 3",
   "language": "python",
   "name": "python3"
  },
  "language_info": {
   "codemirror_mode": {
    "name": "ipython",
    "version": 3
   },
   "file_extension": ".py",
   "mimetype": "text/x-python",
   "name": "python",
   "nbconvert_exporter": "python",
   "pygments_lexer": "ipython3",
   "version": "3.8.2"
  }
 },
 "nbformat": 4,
 "nbformat_minor": 4
}
