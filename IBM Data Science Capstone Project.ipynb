{
 "cells": [
  {
   "cell_type": "markdown",
   "metadata": {},
   "source": [
    "# IBM Data Science - Capstone Project\n",
    "## MSOA based segmentation of London to aid strategic decision making in selecting the ideal location for an Asian restaurant\n",
    "###  by Gergo Endresz"
   ]
  },
  {
   "cell_type": "markdown",
   "metadata": {},
   "source": [
    "# Introduction\n",
    "\n",
    "Have you ever dreamt of establishing your own restaurant or pub? I most definitely have. However, whether such establishment becomes successful depends on many factors, such as location, brand image, cuisine, competition… This notebook aims to provide assistance for deciding the location of such newly established hospitability unit in a more strategic manner in London taking into consideration competition, income, ethnicity distribution and average rent.\n",
    "\n",
    "# Business problem\n",
    "\n",
    "Let’s assume a hypothetical client who wishes to start their dream restaurant but doesn’t know where to start. They only know that they want it to be of Asian cuisine and the location must be in London. How could we help such client?\n",
    "\n",
    "The following factors/requirements were decided to consider:\n",
    "\n",
    " 1. Granularity of the locational data: UK is divided into Boroughs.\n",
    "    However, there are other ways to divide the territory up. The smallest possible granularity was intended to be used given the project resources (my own PC).\n",
    " 2. Population density: the more people nearby mean more prospective customers, therefore the most populous areas were intended to be used to provide recommendations within each geographical area.\n",
    "    \n",
    " 2.  Overall competition: How many restaurants can be found in a\n",
    "    particular area? Is it already packed with such facilities catering\n",
    "    for the needs of the population of the neighbourhood or the\n",
    "    opposite?\n",
    "    \n",
    "    3. Within class competition: how many Asian restaurants can be found in\n",
    "    the neighbourhood? Percentage of Asian population: while London is\n",
    "    an intercultural city, it is though to be safe to assume that Asian\n",
    "    people are more likely to choose Asian meals than their non-Asian\n",
    "    counterparts.\n",
    "    \n",
    "    4. Average rent costs: if an area is too expensive to rent in, a\n",
    "    budding business might struggle to lay foot on the ground and stay\n",
    "    afloat. At the time of writing, London is under lockdown.\n",
    "    Restaurants are closed leaving their owners having to pay rent while\n",
    "    not having incomes unless have converted their operations to\n",
    "    “takeaway” which might not still be sufficient.\n",
    "    \n",
    "    6. Average income of the population: if the income of the population is\n",
    "    too low, while other factors favour a location, it might be worth\n",
    "    considering the opening of a more affordable restaurant.\n",
    "\n",
    "# Data\n",
    "## Granularity of the datasets\n",
    "The United Kingdom can be diveded up to different geographical areas based on a multitude of administrative purposes ([click here for more details](https://www.ons.gov.uk/methodology/geography/ukgeographies/administrativegeography/england)). In order to perform accurate analytics, all the datasets intended to be used had to conform with the same geographical boundaries. \n",
    "After an initial research, it was decided that the UK's [census geography](https://www.ons.gov.uk/methodology/geography/ukgeographies/censusgeography) would be used. According to census geography, the UK is divided into OAs (Output Areas). There are currently 181,408 OAs in the UK, which was regarded as a detail which could not be sufficiently handled given the resources of the project (however, should this be a real project, such granularity would be more than desirable). Therefore, instead, two levels up in the census geography hierarchy, Middle Layer Super Output Areas (MSOA) were used. There are only 7, 201 MSOAs in the UK with London accounting for 996 of such areas. This was deemed as a dataset easier to handle and perform analytics on.\n",
    "\n",
    "##  Statistical data sources:\n",
    "\n",
    "### Census data 2011\n",
    "While a lot can change in a country in 9 years, unfortunatelly, the most recent census data in the UK is dated at 2011. Not having any other alternative, the ethnicity proportion of each MSOA was decided based on this dataset.\n",
    "The dataset can be downloaded from [here](https://data.parliament.uk/resources/constituencystatistics/Ethnic-group.xlsx).\n",
    "### Income data 2018\n",
    "The latest MSOA based income statistics found were of 2018. This dataset was intended to provide guidance for deciding the prices in the restaurant's menu.\n",
    "The dataset can be downloaded from [here](https://www.ons.gov.uk/file?uri=/employmentandlabourmarket/peopleinwork/earningsandworkinghours/datasets/smallareaincomeestimatesformiddlelayersuperoutputareasenglandandwales/financialyearending2018/totalannualincome2018.csv).\n",
    "### Average rent data\n",
    "The dataset found had a LSOA or in other words, Borough-wise geographical division.  This dataset was intended to be used to provide guidance when it comes to the rent the propspective restaurant owner would have to pay. The most recent data is from 2019 in this dataset.\n",
    "The dataset can be downloaded from [here](https://data.london.gov.uk/download/average-private-rents-borough/73b9fb07-b5bb-4a53-88b7-c17269879a08/voa-average-rent-borough.xls).\n",
    "\n",
    "### MSOA TO LSOA mapping data\n",
    "Since the previous dataset discussed (\"Average rent\") is of LSOA granularity and the \"census\" dataset does not contain LSOA or Borough mappings, a lookup table which contained both LSOA and MSOA codes was needed in order to be able to join the datasets.\n",
    "The dataset can be downloaded from [here](https://data.london.gov.uk/download/average-private-rents-borough/73b9fb07-b5bb-4a53-88b7-c17269879a08/voa-average-rent-borough.xls).\n",
    "## Geographical data sources:\n",
    "### MSOA boundaries\n",
    "Since a future restaurant owner might be more concerned with recipes than figures, it was thought that the best way to present the results would be a choropleth map.\n",
    "These maps use geographical boundaries and each boundary is coloured according to the magnitude of the selected metric. For instance, if the selected metric was population and the color scheme was some variant of \"Cool-Warm\" (from blue to red), highly populated areas would be coloured in red while other less-populated ones closer to blue. One example on the USA's population can be seen [here](https://kieranhealy.org/blog/archives/2015/06/12/americas-ur-choropleths/). \n",
    "The dataset holding Geographical boundary data for each MSOA can be downloaded from [here.](https://opendata.arcgis.com/datasets/826dc85fb600440889480f4d9dbb1a24_1.geojson)\n",
    "### FourSquare data\n",
    "In order to acquire data about competition entailing asian and every other type of hospitality unit, FourSquare's API was used. It was decided that for each MSOA, a 1000 m radius will be explored around its population weighted centers (see next section for more infromation) to find venues.\n",
    "For access to the API, please visit their [site](https://developer.foursquare.com/).\n",
    "### Population weighted MSOA centers\n",
    "In order to find the most populous locations within each MSOA, and provide the most relevant locations to the FourSquare API,  population weighted centers were used within each MSOA. These centers are placed in a way to represent the coordinates of the most populous areas within each area.\n",
    "The dataset can be downloaded from [here.](https://opendata.arcgis.com/datasets/b0a6d8a3dc5d4718b3fd62c548d60f81_0.geojson)\n",
    "# Methodology\n",
    "\n",
    "## Data retrieval\n",
    " As a fist step, data was retrieved from the aforementioned sources and loaded into dataframes.  Exploratory data analysis to find the useful spreadsheets (if of excel format) and skip unnecessary rows was done manually using MS Excel.\n",
    "The relevant columns of the dataframes were merged along their column named \"msoa11cd\" which holds the MSOA id of each entry. Since the datasets contain data for the whole of the UK, the MSOAs narrowed down to be of region \"London\". Additional steps taken were with regards to the \"Average rent\" and FourSquare data.\n",
    "The first one was filtered down to results in 2019, the second one was extracted relevant fields from as in \"venue_name\", \"venue_location\", \"venue_category\" and \"venue_type\". \n",
    "\n",
    "## Feature selection\n",
    "The following columns were selected as relevant ones to the project:\n",
    "\n",
    " 1. \"total_annual_income\": the estimated average annual income for each MSOA\n",
    " 2. \"asian_population_percentage\": the percentage of Asian ethnicity within each MSOA's population\n",
    " 3. \"asian_hospitality_percentage\": the percentage of Asian hospitality facilities with regards to all hospitality facilities. It was derived to demonstrate how likely a restaurant in this area will have to compete with another asian restaurant. The lower the number, the better.\n",
    " 4. \"pop_relative_hospitality_frequency\": the number of restaurants divided by the population of an MSOA. Can be interpreted as the number of restaurants per resident. It was derived to establish how well an area's need for restaurants is catered for. \n",
    " 5. \"asian_pop_relative_asian_hospitality_frequency\": the restaruant / asian resident ratio. While the \"pop_relative_hospitality_frequency\" can give away an underperforming hospitality cometition, this feature can report on under catered-for Asian population\n",
    " 6. \"average_rent\": the average rent paid in that MSOA. The lower the number, the better.\n",
    "## Clustering tendency analysis\n",
    "In order to establish whether the dataset complied contained meaningful clusters the method called \"Hopkins statistics\" was used. This method, using sampling and uniformly distributed sample data measures how likely a dataset is from a uniform distribution. The more greater the result than 0.5, the higher the probability that the dataset is not of an uniformly distributed and contains meaningful clusters. For more on this, please visit this [site.](https://www.datanovia.com/en/lessons/assessing-clustering-tendency/). Please note, that newer interpretations of \"Hopkins statistics\" are given by 1 - H, where H is the \"Hopkins statistics\" number, therefore values below 0.5 are regarded as more probable clusterable dataset.\n",
    "\n",
    "## Data scaling\n",
    "In order to perform clustering tendency analysis, the dataset was scaled using \"MinMaxScaler. This scaling was kept and used when performing clustering as well.\n",
    "\n",
    "## Finding the optimal number of clusters\n",
    "In order to find the optimal number of clusters, multiple methods were used:\n",
    "\n",
    " 1. Distortion score (WSS) \n",
    " 2. Silhouette score \n",
    " 3. Davies-Bouldin score\n",
    " 4. Calinski Harabasz score\n",
    " 5. Agglomerative clustering (visual analysis)"
   ]
  },
  {
   "cell_type": "markdown",
   "metadata": {
    "id": "pPcMof-acNdx"
   },
   "source": [
    "# Installation and importing of the used python libraries"
   ]
  },
  {
   "cell_type": "markdown",
   "metadata": {
    "id": "DlwmNwhgchDU"
   },
   "source": [
    "## Installation"
   ]
  },
  {
   "cell_type": "code",
   "execution_count": 41,
   "metadata": {
    "colab": {
     "base_uri": "https://localhost:8080/"
    },
    "id": "Da-I1-7RcChJ",
    "outputId": "03b68b14-9bd4-4374-b879-717befcbd969"
   },
   "outputs": [
    {
     "name": "stdout",
     "output_type": "stream",
     "text": [
      "Requirement already satisfied: folium in c:\\sdk\\python385\\lib\\site-packages (0.12.1)\n",
      "Requirement already satisfied: jinja2>=2.9 in c:\\sdk\\python385\\lib\\site-packages (from folium) (2.11.2)\n",
      "Requirement already satisfied: numpy in c:\\sdk\\python385\\lib\\site-packages (from folium) (1.19.2)\n",
      "Requirement already satisfied: branca>=0.3.0 in c:\\sdk\\python385\\lib\\site-packages (from folium) (0.4.2)\n",
      "Requirement already satisfied: requests in c:\\sdk\\python385\\lib\\site-packages (from folium) (2.25.1)\n",
      "Requirement already satisfied: MarkupSafe>=0.23 in c:\\sdk\\python385\\lib\\site-packages (from jinja2>=2.9->folium) (1.1.1)\n",
      "Requirement already satisfied: urllib3<1.27,>=1.21.1 in c:\\sdk\\python385\\lib\\site-packages (from requests->folium) (1.26.3)\n",
      "Requirement already satisfied: chardet<5,>=3.0.2 in c:\\sdk\\python385\\lib\\site-packages (from requests->folium) (4.0.0)\n",
      "Requirement already satisfied: certifi>=2017.4.17 in c:\\sdk\\python385\\lib\\site-packages (from requests->folium) (2020.12.5)\n",
      "Requirement already satisfied: idna<3,>=2.5 in c:\\sdk\\python385\\lib\\site-packages (from requests->folium) (2.10)\n"
     ]
    },
    {
     "name": "stderr",
     "output_type": "stream",
     "text": [
      "WARNING: You are using pip version 21.0; however, version 21.0.1 is available.\n",
      "You should consider upgrading via the 'c:\\sdk\\python385\\python.exe -m pip install --upgrade pip' command.\n"
     ]
    },
    {
     "name": "stdout",
     "output_type": "stream",
     "text": [
      "Requirement already satisfied: wordcloud in c:\\sdk\\python385\\lib\\site-packages (1.8.1)\n",
      "Requirement already satisfied: matplotlib in c:\\sdk\\python385\\lib\\site-packages (from wordcloud) (3.3.3)\n",
      "Requirement already satisfied: pillow in c:\\sdk\\python385\\lib\\site-packages (from wordcloud) (8.0.1)\n",
      "Requirement already satisfied: numpy>=1.6.1 in c:\\sdk\\python385\\lib\\site-packages (from wordcloud) (1.19.2)\n",
      "Requirement already satisfied: pyparsing!=2.0.4,!=2.1.2,!=2.1.6,>=2.0.3 in c:\\sdk\\python385\\lib\\site-packages (from matplotlib->wordcloud) (2.4.7)\n",
      "Requirement already satisfied: cycler>=0.10 in c:\\sdk\\python385\\lib\\site-packages (from matplotlib->wordcloud) (0.10.0)\n",
      "Requirement already satisfied: python-dateutil>=2.1 in c:\\sdk\\python385\\lib\\site-packages (from matplotlib->wordcloud) (2.8.1)\n",
      "Requirement already satisfied: kiwisolver>=1.0.1 in c:\\sdk\\python385\\lib\\site-packages (from matplotlib->wordcloud) (1.3.1)\n",
      "Requirement already satisfied: six in c:\\sdk\\python385\\lib\\site-packages (from cycler>=0.10->matplotlib->wordcloud) (1.15.0)\n"
     ]
    },
    {
     "name": "stderr",
     "output_type": "stream",
     "text": [
      "WARNING: You are using pip version 21.0; however, version 21.0.1 is available.\n",
      "You should consider upgrading via the 'c:\\sdk\\python385\\python.exe -m pip install --upgrade pip' command.\n"
     ]
    },
    {
     "name": "stdout",
     "output_type": "stream",
     "text": [
      "Requirement already satisfied: plotly in c:\\sdk\\python385\\lib\\site-packages (4.12.0)\n",
      "Requirement already satisfied: six in c:\\sdk\\python385\\lib\\site-packages (from plotly) (1.15.0)\n",
      "Requirement already satisfied: retrying>=1.3.3 in c:\\sdk\\python385\\lib\\site-packages (from plotly) (1.3.3)\n"
     ]
    },
    {
     "name": "stderr",
     "output_type": "stream",
     "text": [
      "WARNING: You are using pip version 21.0; however, version 21.0.1 is available.\n",
      "You should consider upgrading via the 'c:\\sdk\\python385\\python.exe -m pip install --upgrade pip' command.\n"
     ]
    },
    {
     "name": "stdout",
     "output_type": "stream",
     "text": [
      "Requirement already satisfied: xlrd in c:\\sdk\\python385\\lib\\site-packages (2.0.1)\n"
     ]
    },
    {
     "name": "stderr",
     "output_type": "stream",
     "text": [
      "WARNING: You are using pip version 21.0; however, version 21.0.1 is available.\n",
      "You should consider upgrading via the 'c:\\sdk\\python385\\python.exe -m pip install --upgrade pip' command.\n"
     ]
    },
    {
     "name": "stdout",
     "output_type": "stream",
     "text": [
      "Requirement already satisfied: bs4 in c:\\sdk\\python385\\lib\\site-packages (0.0.1)\n",
      "Requirement already satisfied: beautifulsoup4 in c:\\sdk\\python385\\lib\\site-packages (from bs4) (4.9.3)\n",
      "Requirement already satisfied: soupsieve>1.2 in c:\\sdk\\python385\\lib\\site-packages (from beautifulsoup4->bs4) (2.1)\n"
     ]
    },
    {
     "name": "stderr",
     "output_type": "stream",
     "text": [
      "WARNING: You are using pip version 21.0; however, version 21.0.1 is available.\n",
      "You should consider upgrading via the 'c:\\sdk\\python385\\python.exe -m pip install --upgrade pip' command.\n"
     ]
    },
    {
     "name": "stdout",
     "output_type": "stream",
     "text": [
      "Requirement already satisfied: openpyxl in c:\\sdk\\python385\\lib\\site-packages (3.0.6)"
     ]
    },
    {
     "name": "stderr",
     "output_type": "stream",
     "text": [
      "WARNING: You are using pip version 21.0; however, version 21.0.1 is available.\n",
      "You should consider upgrading via the 'c:\\sdk\\python385\\python.exe -m pip install --upgrade pip' command.\n"
     ]
    },
    {
     "name": "stdout",
     "output_type": "stream",
     "text": [
      "\n",
      "Requirement already satisfied: jdcal in c:\\sdk\\python385\\lib\\site-packages (from openpyxl) (1.4.1)\n",
      "Requirement already satisfied: et-xmlfile in c:\\sdk\\python385\\lib\\site-packages (from openpyxl) (1.0.1)\n",
      "Requirement already satisfied: matplotlib in c:\\sdk\\python385\\lib\\site-packages (3.3.3)\n",
      "Requirement already satisfied: cycler>=0.10 in c:\\sdk\\python385\\lib\\site-packages (from matplotlib) (0.10.0)\n",
      "Requirement already satisfied: pillow>=6.2.0 in c:\\sdk\\python385\\lib\\site-packages (from matplotlib) (8.0.1)\n",
      "Requirement already satisfied: pyparsing!=2.0.4,!=2.1.2,!=2.1.6,>=2.0.3 in c:\\sdk\\python385\\lib\\site-packages (from matplotlib) (2.4.7)\n",
      "Requirement already satisfied: python-dateutil>=2.1 in c:\\sdk\\python385\\lib\\site-packages (from matplotlib) (2.8.1)\n",
      "Requirement already satisfied: kiwisolver>=1.0.1 in c:\\sdk\\python385\\lib\\site-packages (from matplotlib) (1.3.1)\n",
      "Requirement already satisfied: numpy>=1.15 in c:\\sdk\\python385\\lib\\site-packages (from matplotlib) (1.19.2)\n",
      "Requirement already satisfied: six in c:\\sdk\\python385\\lib\\site-packages (from cycler>=0.10->matplotlib) (1.15.0)\n"
     ]
    },
    {
     "name": "stderr",
     "output_type": "stream",
     "text": [
      "WARNING: You are using pip version 21.0; however, version 21.0.1 is available.\n",
      "You should consider upgrading via the 'c:\\sdk\\python385\\python.exe -m pip install --upgrade pip' command.\n"
     ]
    },
    {
     "name": "stdout",
     "output_type": "stream",
     "text": [
      "Requirement already satisfied: pandas in c:\\sdk\\python385\\lib\\site-packages (1.2.1)\n",
      "Requirement already satisfied: python-dateutil>=2.7.3 in c:\\sdk\\python385\\lib\\site-packages (from pandas) (2.8.1)\n",
      "Requirement already satisfied: numpy>=1.16.5 in c:\\sdk\\python385\\lib\\site-packages (from pandas) (1.19.2)\n",
      "Requirement already satisfied: pytz>=2017.3 in c:\\sdk\\python385\\lib\\site-packages (from pandas) (2020.4)\n",
      "Requirement already satisfied: six>=1.5 in c:\\sdk\\python385\\lib\\site-packages (from python-dateutil>=2.7.3->pandas) (1.15.0)\n"
     ]
    },
    {
     "name": "stderr",
     "output_type": "stream",
     "text": [
      "WARNING: You are using pip version 21.0; however, version 21.0.1 is available.\n",
      "You should consider upgrading via the 'c:\\sdk\\python385\\python.exe -m pip install --upgrade pip' command.\n"
     ]
    },
    {
     "name": "stdout",
     "output_type": "stream",
     "text": [
      "Requirement already satisfied: wordcloud in c:\\sdk\\python385\\lib\\site-packages (1.8.1)"
     ]
    },
    {
     "name": "stderr",
     "output_type": "stream",
     "text": [
      "WARNING: You are using pip version 21.0; however, version 21.0.1 is available.\n",
      "You should consider upgrading via the 'c:\\sdk\\python385\\python.exe -m pip install --upgrade pip' command.\n"
     ]
    },
    {
     "name": "stdout",
     "output_type": "stream",
     "text": [
      "\n",
      "Requirement already satisfied: pillow in c:\\sdk\\python385\\lib\\site-packages (from wordcloud) (8.0.1)\n",
      "Requirement already satisfied: numpy>=1.6.1 in c:\\sdk\\python385\\lib\\site-packages (from wordcloud) (1.19.2)\n",
      "Requirement already satisfied: matplotlib in c:\\sdk\\python385\\lib\\site-packages (from wordcloud) (3.3.3)\n",
      "Requirement already satisfied: cycler>=0.10 in c:\\sdk\\python385\\lib\\site-packages (from matplotlib->wordcloud) (0.10.0)\n",
      "Requirement already satisfied: python-dateutil>=2.1 in c:\\sdk\\python385\\lib\\site-packages (from matplotlib->wordcloud) (2.8.1)\n",
      "Requirement already satisfied: kiwisolver>=1.0.1 in c:\\sdk\\python385\\lib\\site-packages (from matplotlib->wordcloud) (1.3.1)\n",
      "Requirement already satisfied: pyparsing!=2.0.4,!=2.1.2,!=2.1.6,>=2.0.3 in c:\\sdk\\python385\\lib\\site-packages (from matplotlib->wordcloud) (2.4.7)\n",
      "Requirement already satisfied: six in c:\\sdk\\python385\\lib\\site-packages (from cycler>=0.10->matplotlib->wordcloud) (1.15.0)\n",
      "Requirement already satisfied: numpy in c:\\sdk\\python385\\lib\\site-packages (1.19.2)\n"
     ]
    },
    {
     "name": "stderr",
     "output_type": "stream",
     "text": [
      "WARNING: You are using pip version 21.0; however, version 21.0.1 is available.\n",
      "You should consider upgrading via the 'c:\\sdk\\python385\\python.exe -m pip install --upgrade pip' command.\n"
     ]
    },
    {
     "name": "stdout",
     "output_type": "stream",
     "text": [
      "Requirement already satisfied: ipywidgets in c:\\sdk\\python385\\lib\\site-packages (7.6.3)\n",
      "Requirement already satisfied: nbformat>=4.2.0 in c:\\sdk\\python385\\lib\\site-packages (from ipywidgets) (5.1.2)\n",
      "Requirement already satisfied: ipykernel>=4.5.1 in c:\\sdk\\python385\\lib\\site-packages (from ipywidgets) (5.4.3)\n",
      "Requirement already satisfied: jupyterlab-widgets>=1.0.0 in c:\\sdk\\python385\\lib\\site-packages (from ipywidgets) (1.0.0)\n",
      "Requirement already satisfied: widgetsnbextension~=3.5.0 in c:\\sdk\\python385\\lib\\site-packages (from ipywidgets) (3.5.1)\n",
      "Requirement already satisfied: ipython>=4.0.0 in c:\\sdk\\python385\\lib\\site-packages (from ipywidgets) (7.19.0)\n",
      "Requirement already satisfied: traitlets>=4.3.1 in c:\\sdk\\python385\\lib\\site-packages (from ipywidgets) (5.0.5)\n",
      "Requirement already satisfied: tornado>=4.2 in c:\\sdk\\python385\\lib\\site-packages (from ipykernel>=4.5.1->ipywidgets) (6.1)\n",
      "Requirement already satisfied: jupyter-client in c:\\sdk\\python385\\lib\\site-packages (from ipykernel>=4.5.1->ipywidgets) (6.1.11)\n",
      "Requirement already satisfied: pickleshare in c:\\sdk\\python385\\lib\\site-packages (from ipython>=4.0.0->ipywidgets) (0.7.5)\n",
      "Requirement already satisfied: jedi>=0.10 in c:\\sdk\\python385\\lib\\site-packages (from ipython>=4.0.0->ipywidgets) (0.18.0)\n",
      "Requirement already satisfied: setuptools>=18.5 in c:\\sdk\\python385\\lib\\site-packages (from ipython>=4.0.0->ipywidgets) (47.1.0)\n",
      "Requirement already satisfied: prompt-toolkit!=3.0.0,!=3.0.1,<3.1.0,>=2.0.0 in c:\\sdk\\python385\\lib\\site-packages (from ipython>=4.0.0->ipywidgets) (3.0.14)\n",
      "Requirement already satisfied: decorator in c:\\sdk\\python385\\lib\\site-packages (from ipython>=4.0.0->ipywidgets) (4.4.2)\n",
      "Requirement already satisfied: colorama in c:\\sdk\\python385\\lib\\site-packages (from ipython>=4.0.0->ipywidgets) (0.4.4)\n",
      "Requirement already satisfied: backcall in c:\\sdk\\python385\\lib\\site-packages (from ipython>=4.0.0->ipywidgets) (0.2.0)\n",
      "Requirement already satisfied: pygments in c:\\sdk\\python385\\lib\\site-packages (from ipython>=4.0.0->ipywidgets) (2.7.4)\n",
      "Requirement already satisfied: parso<0.9.0,>=0.8.0 in c:\\sdk\\python385\\lib\\site-packages (from jedi>=0.10->ipython>=4.0.0->ipywidgets) (0.8.1)\n",
      "Requirement already satisfied: jsonschema!=2.5.0,>=2.4 in c:\\sdk\\python385\\lib\\site-packages (from nbformat>=4.2.0->ipywidgets) (3.2.0)\n",
      "Requirement already satisfied: ipython-genutils in c:\\sdk\\python385\\lib\\site-packages (from nbformat>=4.2.0->ipywidgets) (0.2.0)\n",
      "Requirement already satisfied: jupyter-core in c:\\sdk\\python385\\lib\\site-packages (from nbformat>=4.2.0->ipywidgets) (4.7.0)\n",
      "Requirement already satisfied: pyrsistent>=0.14.0 in c:\\sdk\\python385\\lib\\site-packages (from jsonschema!=2.5.0,>=2.4->nbformat>=4.2.0->ipywidgets) (0.17.3)\n",
      "Requirement already satisfied: six>=1.11.0 in c:\\sdk\\python385\\lib\\site-packages (from jsonschema!=2.5.0,>=2.4->nbformat>=4.2.0->ipywidgets) (1.15.0)\n",
      "Requirement already satisfied: attrs>=17.4.0 in c:\\sdk\\python385\\lib\\site-packages (from jsonschema!=2.5.0,>=2.4->nbformat>=4.2.0->ipywidgets) (20.3.0)\n",
      "Requirement already satisfied: wcwidth in c:\\sdk\\python385\\lib\\site-packages (from prompt-toolkit!=3.0.0,!=3.0.1,<3.1.0,>=2.0.0->ipython>=4.0.0->ipywidgets) (0.2.5)\n",
      "Requirement already satisfied: notebook>=4.4.1 in c:\\sdk\\python385\\lib\\site-packages (from widgetsnbextension~=3.5.0->ipywidgets) (6.2.0)\n",
      "Requirement already satisfied: nbconvert in c:\\sdk\\python385\\lib\\site-packages (from notebook>=4.4.1->widgetsnbextension~=3.5.0->ipywidgets) (6.0.7)\n",
      "Requirement already satisfied: jinja2 in c:\\sdk\\python385\\lib\\site-packages (from notebook>=4.4.1->widgetsnbextension~=3.5.0->ipywidgets) (2.11.2)\n",
      "Requirement already satisfied: terminado>=0.8.3 in c:\\sdk\\python385\\lib\\site-packages (from notebook>=4.4.1->widgetsnbextension~=3.5.0->ipywidgets) (0.9.2)\n",
      "Requirement already satisfied: Send2Trash>=1.5.0 in c:\\sdk\\python385\\lib\\site-packages (from notebook>=4.4.1->widgetsnbextension~=3.5.0->ipywidgets) (1.5.0)\n",
      "Requirement already satisfied: prometheus-client in c:\\sdk\\python385\\lib\\site-packages (from notebook>=4.4.1->widgetsnbextension~=3.5.0->ipywidgets) (0.9.0)\n",
      "Requirement already satisfied: pyzmq>=17 in c:\\sdk\\python385\\lib\\site-packages (from notebook>=4.4.1->widgetsnbextension~=3.5.0->ipywidgets) (21.0.2)\n",
      "Requirement already satisfied: argon2-cffi in c:\\sdk\\python385\\lib\\site-packages (from notebook>=4.4.1->widgetsnbextension~=3.5.0->ipywidgets) (20.1.0)\n",
      "Requirement already satisfied: python-dateutil>=2.1 in c:\\sdk\\python385\\lib\\site-packages (from jupyter-client->ipykernel>=4.5.1->ipywidgets) (2.8.1)\n",
      "Requirement already satisfied: pywin32>=1.0 in c:\\sdk\\python385\\lib\\site-packages (from jupyter-core->nbformat>=4.2.0->ipywidgets) (300)\n",
      "Requirement already satisfied: pywinpty>=0.5 in c:\\sdk\\python385\\lib\\site-packages (from terminado>=0.8.3->notebook>=4.4.1->widgetsnbextension~=3.5.0->ipywidgets) (0.5.7)\n",
      "Requirement already satisfied: cffi>=1.0.0 in c:\\sdk\\python385\\lib\\site-packages (from argon2-cffi->notebook>=4.4.1->widgetsnbextension~=3.5.0->ipywidgets) (1.14.3)\n",
      "Requirement already satisfied: pycparser in c:\\sdk\\python385\\lib\\site-packages (from cffi>=1.0.0->argon2-cffi->notebook>=4.4.1->widgetsnbextension~=3.5.0->ipywidgets) (2.20)\n",
      "Requirement already satisfied: MarkupSafe>=0.23 in c:\\sdk\\python385\\lib\\site-packages (from jinja2->notebook>=4.4.1->widgetsnbextension~=3.5.0->ipywidgets) (1.1.1)\n",
      "Requirement already satisfied: jupyterlab-pygments in c:\\sdk\\python385\\lib\\site-packages (from nbconvert->notebook>=4.4.1->widgetsnbextension~=3.5.0->ipywidgets) (0.1.2)\n",
      "Requirement already satisfied: bleach in c:\\sdk\\python385\\lib\\site-packages (from nbconvert->notebook>=4.4.1->widgetsnbextension~=3.5.0->ipywidgets) (3.2.3)\n",
      "Requirement already satisfied: defusedxml in c:\\sdk\\python385\\lib\\site-packages (from nbconvert->notebook>=4.4.1->widgetsnbextension~=3.5.0->ipywidgets) (0.6.0)\n",
      "Requirement already satisfied: entrypoints>=0.2.2 in c:\\sdk\\python385\\lib\\site-packages (from nbconvert->notebook>=4.4.1->widgetsnbextension~=3.5.0->ipywidgets) (0.3)\n",
      "Requirement already satisfied: pandocfilters>=1.4.1 in c:\\sdk\\python385\\lib\\site-packages (from nbconvert->notebook>=4.4.1->widgetsnbextension~=3.5.0->ipywidgets) (1.4.3)\n",
      "Requirement already satisfied: nbclient<0.6.0,>=0.5.0 in c:\\sdk\\python385\\lib\\site-packages (from nbconvert->notebook>=4.4.1->widgetsnbextension~=3.5.0->ipywidgets) (0.5.1)\n",
      "Requirement already satisfied: mistune<2,>=0.8.1 in c:\\sdk\\python385\\lib\\site-packages (from nbconvert->notebook>=4.4.1->widgetsnbextension~=3.5.0->ipywidgets) (0.8.4)\n",
      "Requirement already satisfied: testpath in c:\\sdk\\python385\\lib\\site-packages (from nbconvert->notebook>=4.4.1->widgetsnbextension~=3.5.0->ipywidgets) (0.4.4)\n",
      "Requirement already satisfied: async-generator in c:\\sdk\\python385\\lib\\site-packages (from nbclient<0.6.0,>=0.5.0->nbconvert->notebook>=4.4.1->widgetsnbextension~=3.5.0->ipywidgets) (1.10)\n",
      "Requirement already satisfied: nest-asyncio in c:\\sdk\\python385\\lib\\site-packages (from nbclient<0.6.0,>=0.5.0->nbconvert->notebook>=4.4.1->widgetsnbextension~=3.5.0->ipywidgets) (1.5.1)\n",
      "Requirement already satisfied: packaging in c:\\sdk\\python385\\lib\\site-packages (from bleach->nbconvert->notebook>=4.4.1->widgetsnbextension~=3.5.0->ipywidgets) (20.8)\n",
      "Requirement already satisfied: webencodings in c:\\sdk\\python385\\lib\\site-packages (from bleach->nbconvert->notebook>=4.4.1->widgetsnbextension~=3.5.0->ipywidgets) (0.5.1)\n",
      "Requirement already satisfied: pyparsing>=2.0.2 in c:\\sdk\\python385\\lib\\site-packages (from packaging->bleach->nbconvert->notebook>=4.4.1->widgetsnbextension~=3.5.0->ipywidgets) (2.4.7)\n"
     ]
    },
    {
     "name": "stderr",
     "output_type": "stream",
     "text": [
      "WARNING: You are using pip version 21.0; however, version 21.0.1 is available.\n",
      "You should consider upgrading via the 'c:\\sdk\\python385\\python.exe -m pip install --upgrade pip' command.\n"
     ]
    },
    {
     "name": "stdout",
     "output_type": "stream",
     "text": [
      "Requirement already satisfied: pyclustertend in c:\\sdk\\python385\\lib\\site-packages (1.4.9)"
     ]
    },
    {
     "name": "stderr",
     "output_type": "stream",
     "text": [
      "WARNING: You are using pip version 21.0; however, version 21.0.1 is available.\n",
      "You should consider upgrading via the 'c:\\sdk\\python385\\python.exe -m pip install --upgrade pip' command.\n"
     ]
    },
    {
     "name": "stdout",
     "output_type": "stream",
     "text": [
      "\n",
      "Requirement already satisfied: scikit-learn in c:\\sdk\\python385\\lib\\site-packages (0.24.1)"
     ]
    },
    {
     "name": "stderr",
     "output_type": "stream",
     "text": [
      "WARNING: You are using pip version 21.0; however, version 21.0.1 is available.\n",
      "You should consider upgrading via the 'c:\\sdk\\python385\\python.exe -m pip install --upgrade pip' command.\n"
     ]
    },
    {
     "name": "stdout",
     "output_type": "stream",
     "text": [
      "\n",
      "Requirement already satisfied: numpy>=1.13.3 in c:\\sdk\\python385\\lib\\site-packages (from scikit-learn) (1.19.2)\n",
      "Requirement already satisfied: threadpoolctl>=2.0.0 in c:\\sdk\\python385\\lib\\site-packages (from scikit-learn) (2.1.0)\n",
      "Requirement already satisfied: joblib>=0.11 in c:\\sdk\\python385\\lib\\site-packages (from scikit-learn) (1.0.1)\n",
      "Requirement already satisfied: scipy>=0.19.1 in c:\\sdk\\python385\\lib\\site-packages (from scikit-learn) (1.6.0)\n"
     ]
    }
   ],
   "source": [
    "!pip install folium\n",
    "!pip install wordcloud\n",
    "!pip install plotly\n",
    "!pip install xlrd\n",
    "!pip install bs4\n",
    "!pip install openpyxl\n",
    "!pip install matplotlib\n",
    "!pip install pandas\n",
    "!pip install wordcloud\n",
    "!pip install numpy\n",
    "!pip install ipywidgets\n",
    "!pip install pyclustertend\n",
    "!pip install scikit-learn"
   ]
  },
  {
   "cell_type": "markdown",
   "metadata": {
    "id": "Cr45xdcucy4-"
   },
   "source": [
    "## Importing used libraries"
   ]
  },
  {
   "cell_type": "code",
   "execution_count": 42,
   "metadata": {
    "id": "T3RaSIEQcgA-"
   },
   "outputs": [],
   "source": [
    "import folium\n",
    "import pandas as pd\n",
    "from pandas.io.json import json_normalize\n",
    "import numpy as np\n",
    "import matplotlib.pyplot as plt\n",
    "import matplotlib as mpl\n",
    "from matplotlib import rcParams\n",
    "import requests\n",
    "import plotly\n",
    "from wordcloud import WordCloud, STOPWORDS\n",
    "from bs4 import BeautifulSoup\n",
    "import io\n",
    "from zipfile import ZipFile\n",
    "import time\n",
    "from ipywidgets import widgets\n",
    "from IPython.display import display\n",
    "import re\n",
    "from sklearn.neighbors import NearestNeighbors\n",
    "from sklearn.preprocessing import StandardScaler\n",
    "from sklearn.preprocessing import scale\n",
    "from sklearn.preprocessing import MinMaxScaler\n",
    "from pyclustertend import hopkins\n",
    "import plotly.express as px"
   ]
  },
  {
   "cell_type": "code",
   "execution_count": 43,
   "metadata": {},
   "outputs": [],
   "source": [
    "a = 14\n",
    "pickle.dump(a, open(\"test.pkl\", \"wb\"))"
   ]
  },
  {
   "cell_type": "code",
   "execution_count": null,
   "metadata": {},
   "outputs": [],
   "source": []
  }
 ],
 "metadata": {
  "kernelspec": {
   "display_name": "Python 3",
   "language": "python",
   "name": "python3"
  },
  "language_info": {
   "codemirror_mode": {
    "name": "ipython",
    "version": 3
   },
   "file_extension": ".py",
   "mimetype": "text/x-python",
   "name": "python",
   "nbconvert_exporter": "python",
   "pygments_lexer": "ipython3",
   "version": "3.8.5"
  }
 },
 "nbformat": 4,
 "nbformat_minor": 4
}
