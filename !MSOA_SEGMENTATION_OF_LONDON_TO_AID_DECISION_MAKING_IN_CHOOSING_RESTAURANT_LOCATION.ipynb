{
 "cells": [
  {
   "cell_type": "markdown",
   "metadata": {
    "id": "oC4m9EyJbTQr"
   },
   "source": [
    "# Introduction\n",
    "\n",
    "Have you ever dreamt of establishing your own restaurant or pub? I most definitely have. However, whether such establishment becomes successful depends on many factors, such as location, brand image, cuisine, competition… This notebook aims to provide assistance for deciding the location of such newly established hospitability unit in a more strategic manner in London taking into consideration competition, income, ethnicity distribution and average rent.\n",
    "\n",
    "# Business problem\n",
    "\n",
    "Let’s assume a hypothetical client who wishes to start their dream restaurant but doesn’t know where to start. They only know that they want it to be of Asian cuisine and the location must be in London. How could we help such client?\n",
    "\n",
    "The following factors/requirements were decided to consider:\n",
    "\n",
    " 1. Granularity of the locational data: UK is divided into Boroughs.\n",
    "    However, there are other ways to divide the territory up. The smallest possible granularity was intended to be used given the project resources (my own PC).\n",
    " 2. Population density: the more people nearby mean more prospective customers, therefore the most populous areas were intended to be used to provide recommendations within each geographical area.\n",
    "    \n",
    " 2.  Overall competition: How many restaurants can be found in a\n",
    "    particular area? Is it already packed with such facilities catering\n",
    "    for the needs of the population of the neighbourhood or the\n",
    "    opposite?\n",
    "    \n",
    "    3. Within class competition: how many Asian restaurants can be found in\n",
    "    the neighbourhood? Percentage of Asian population: while London is\n",
    "    an intercultural city, it is though to be safe to assume that Asian\n",
    "    people are more likely to choose Asian meals than their non-Asian\n",
    "    counterparts.\n",
    "    \n",
    "    4. Average rent costs: if an area is too expensive to rent in, a\n",
    "    budding business might struggle to lay foot on the ground and stay\n",
    "    afloat. At the time of writing, London is under lockdown.\n",
    "    Restaurants are closed leaving their owners having to pay rent while\n",
    "    not having incomes unless have converted their operations to\n",
    "    “takeaway” which might not still be sufficient.\n",
    "    \n",
    "    6. Average income of the population: if the income of the population is\n",
    "    too low, while other factors favour a location, it might be worth\n",
    "    considering the opening of a more affordable restaurant.\n",
    "\n",
    "# Data\n",
    "## Granularity of the datasets\n",
    "The United Kingdom can be diveded up to different geographical areas based on a multitude of administrative purposes ([click here for more details](https://www.ons.gov.uk/methodology/geography/ukgeographies/administrativegeography/england)). In order to perform accurate analytics, all the datasets intended to be used had to conform with the same geographical boundaries. \n",
    "After an initial research, it was decided that the UK's [census geography](https://www.ons.gov.uk/methodology/geography/ukgeographies/censusgeography) would be used. According to census geography, the UK is divided into OAs (Output Areas). There are currently 181,408 OAs in the UK, which was regarded as a detail which could not be sufficiently handled given the resources of the project (however, should this be a real project, such granularity would be more than desirable). Therefore, instead, two levels up in the census geography hierarchy, Middle Layer Super Output Areas (MSOA) were used. There are only 7, 201 MSOAs in the UK with London accounting for 996 of such areas. This was deemed as a dataset easier to handle and perform analytics on.\n",
    "\n",
    "##  Statistical data sources:\n",
    "\n",
    "### Census data 2011\n",
    "While a lot can change in a country in 9 years, unfortunatelly, the most recent census data in the UK is dated at 2011. Not having any other alternative, the ethnicity proportion of each MSOA was decided based on this dataset.\n",
    "The dataset can be downloaded from [here](https://data.parliament.uk/resources/constituencystatistics/Ethnic-group.xlsx).\n",
    "### Income data 2018\n",
    "The latest MSOA based income statistics found were of 2018. This dataset was intended to provide guidance for deciding the prices in the restaurant's menu.\n",
    "The dataset can be downloaded from [here](https://www.ons.gov.uk/file?uri=/employmentandlabourmarket/peopleinwork/earningsandworkinghours/datasets/smallareaincomeestimatesformiddlelayersuperoutputareasenglandandwales/financialyearending2018/totalannualincome2018.csv).\n",
    "### Average rent data\n",
    "The dataset found had a LSOA or in other words, Borough-wise geographical division.  This dataset was intended to be used to provide guidance when it comes to the rent the propspective restaurant owner would have to pay. The most recent data is from 2019 in this dataset.\n",
    "The dataset can be downloaded from [here](https://data.london.gov.uk/download/average-private-rents-borough/73b9fb07-b5bb-4a53-88b7-c17269879a08/voa-average-rent-borough.xls).\n",
    "\n",
    "### MSOA TO LSOA mapping data\n",
    "Since the previous dataset discussed (\"Average rent\") is of LSOA granularity and the \"census\" dataset does not contain LSOA or Borough mappings, a lookup table which contained both LSOA and MSOA codes was needed in order to be able to join the datasets.\n",
    "The dataset can be downloaded from [here](https://data.london.gov.uk/download/average-private-rents-borough/73b9fb07-b5bb-4a53-88b7-c17269879a08/voa-average-rent-borough.xls).\n",
    "## Geographical data sources\n",
    "### MSOA boundaries\n",
    "Since a future restaurant owner might be more concerned with recipes than figures, it was thought that the best way to present the results would be a choropleth map.\n",
    "These maps use geographical boundaries and each boundary is coloured according to the magnitude of the selected metric. For instance, if the selected metric was population and the color scheme was some variant of \"Cool-Warm\" (from blue to red), highly populated areas would be coloured in red while other less-populated ones closer to blue. One example on the USA's population can be seen [here](https://kieranhealy.org/blog/archives/2015/06/12/americas-ur-choropleths/). \n",
    "The dataset holding Geographical boundary data for each MSOA can be downloaded from [here.](https://opendata.arcgis.com/datasets/826dc85fb600440889480f4d9dbb1a24_1.geojson)\n",
    "### FourSquare data\n",
    "In order to acquire data about competition entailing asian and every other type of hospitality unit, FourSquare's API was used. \n",
    "For access to the API, please visit their [site](https://developer.foursquare.com/).\n",
    "### Population weighted MSOA centers\n",
    "In order to find the most populous locations within each MSOA, and provide the most relevant locations to the FourSquare API,  population weighted centers were used within each MSOA. These centers are placed in a way to represent the coordinates of the most populous areas within each area.\n",
    "The dataset can be downloaded from [here.](https://opendata.arcgis.com/datasets/b0a6d8a3dc5d4718b3fd62c548d60f81_0.geojson)\n"
   ]
  },
  {
   "cell_type": "markdown",
   "metadata": {
    "id": "4BM01wAgWmjO"
   },
   "source": [
    "## Todo\n",
    "1. Remove unnecessary columns\n",
    "2. <strike>Add wordCloud cluster analysis....</strike>\n",
    "3. <strike>Add new tooltip template</strike>\n",
    "    1. All relevant stats, including clusters\n",
    "1. <strike>Analyse optimal cluster </strike>\n",
    "4. Write narrative\n",
    "5. Revise mips"
   ]
  },
  {
   "cell_type": "markdown",
   "metadata": {
    "id": "IhauBkl_cIMx"
   },
   "source": [
    "## Introduction"
   ]
  },
  {
   "cell_type": "markdown",
   "metadata": {
    "id": "94xPYNaycIP1"
   },
   "source": [
    "## Background\n"
   ]
  },
  {
   "cell_type": "markdown",
   "metadata": {
    "id": "4JzQMeZ1cISr"
   },
   "source": [
    "## Data\n"
   ]
  },
  {
   "cell_type": "markdown",
   "metadata": {
    "id": "OrL3GgC3cIVa"
   },
   "source": [
    "### Used datasets"
   ]
  },
  {
   "cell_type": "markdown",
   "metadata": {
    "id": "SjLokcQzcNWQ"
   },
   "source": [
    "## Applied techniques"
   ]
  },
  {
   "cell_type": "markdown",
   "metadata": {
    "id": "HvwFwn3xcNZI"
   },
   "source": [
    "## Results and discussion"
   ]
  },
  {
   "cell_type": "markdown",
   "metadata": {
    "id": "tWtJzQtvcNbv"
   },
   "source": [
    "## Conclusion"
   ]
  },
  {
   "cell_type": "markdown",
   "metadata": {
    "id": "pPcMof-acNdx"
   },
   "source": [
    "# Installation and importing of the used python libraries"
   ]
  },
  {
   "cell_type": "markdown",
   "metadata": {
    "id": "DlwmNwhgchDU"
   },
   "source": [
    "## Installation"
   ]
  },
  {
   "cell_type": "code",
   "execution_count": 1,
   "metadata": {
    "colab": {
     "base_uri": "https://localhost:8080/"
    },
    "id": "Da-I1-7RcChJ",
    "outputId": "03b68b14-9bd4-4374-b879-717befcbd969"
   },
   "outputs": [
    {
     "name": "stdout",
     "output_type": "stream",
     "text": [
      "Requirement already satisfied: folium in c:\\sdk\\python385\\lib\\site-packages (0.12.1)"
     ]
    },
    {
     "name": "stderr",
     "output_type": "stream",
     "text": [
      "WARNING: You are using pip version 21.0; however, version 21.0.1 is available.\n",
      "You should consider upgrading via the 'c:\\sdk\\python385\\python.exe -m pip install --upgrade pip' command.\n"
     ]
    },
    {
     "name": "stdout",
     "output_type": "stream",
     "text": [
      "\n",
      "Requirement already satisfied: branca>=0.3.0 in c:\\sdk\\python385\\lib\\site-packages (from folium) (0.4.2)\n",
      "Requirement already satisfied: jinja2>=2.9 in c:\\sdk\\python385\\lib\\site-packages (from folium) (2.11.2)\n",
      "Requirement already satisfied: requests in c:\\sdk\\python385\\lib\\site-packages (from folium) (2.25.1)\n",
      "Requirement already satisfied: numpy in c:\\sdk\\python385\\lib\\site-packages (from folium) (1.19.2)\n",
      "Requirement already satisfied: MarkupSafe>=0.23 in c:\\sdk\\python385\\lib\\site-packages (from jinja2>=2.9->folium) (1.1.1)\n",
      "Requirement already satisfied: idna<3,>=2.5 in c:\\sdk\\python385\\lib\\site-packages (from requests->folium) (2.10)\n",
      "Requirement already satisfied: urllib3<1.27,>=1.21.1 in c:\\sdk\\python385\\lib\\site-packages (from requests->folium) (1.26.3)\n",
      "Requirement already satisfied: certifi>=2017.4.17 in c:\\sdk\\python385\\lib\\site-packages (from requests->folium) (2020.12.5)\n",
      "Requirement already satisfied: chardet<5,>=3.0.2 in c:\\sdk\\python385\\lib\\site-packages (from requests->folium) (4.0.0)\n",
      "Requirement already satisfied: wordcloud in c:\\sdk\\python385\\lib\\site-packages (1.8.1)\n",
      "Requirement already satisfied: matplotlib in c:\\sdk\\python385\\lib\\site-packages (from wordcloud) (3.3.3)\n",
      "Requirement already satisfied: pillow in c:\\sdk\\python385\\lib\\site-packages (from wordcloud) (8.0.1)\n",
      "Requirement already satisfied: numpy>=1.6.1 in c:\\sdk\\python385\\lib\\site-packages (from wordcloud) (1.19.2)\n",
      "Requirement already satisfied: python-dateutil>=2.1 in c:\\sdk\\python385\\lib\\site-packages (from matplotlib->wordcloud) (2.8.1)\n",
      "Requirement already satisfied: cycler>=0.10 in c:\\sdk\\python385\\lib\\site-packages (from matplotlib->wordcloud) (0.10.0)\n",
      "Requirement already satisfied: pyparsing!=2.0.4,!=2.1.2,!=2.1.6,>=2.0.3 in c:\\sdk\\python385\\lib\\site-packages (from matplotlib->wordcloud) (2.4.7)\n",
      "Requirement already satisfied: kiwisolver>=1.0.1 in c:\\sdk\\python385\\lib\\site-packages (from matplotlib->wordcloud) (1.3.1)\n",
      "Requirement already satisfied: six in c:\\sdk\\python385\\lib\\site-packages (from cycler>=0.10->matplotlib->wordcloud) (1.15.0)\n"
     ]
    },
    {
     "name": "stderr",
     "output_type": "stream",
     "text": [
      "WARNING: You are using pip version 21.0; however, version 21.0.1 is available.\n",
      "You should consider upgrading via the 'c:\\sdk\\python385\\python.exe -m pip install --upgrade pip' command.\n"
     ]
    },
    {
     "name": "stdout",
     "output_type": "stream",
     "text": [
      "Requirement already satisfied: plotly in c:\\sdk\\python385\\lib\\site-packages (4.12.0)\n",
      "Requirement already satisfied: six in c:\\sdk\\python385\\lib\\site-packages (from plotly) (1.15.0)\n",
      "Requirement already satisfied: retrying>=1.3.3 in c:\\sdk\\python385\\lib\\site-packages (from plotly) (1.3.3)\n"
     ]
    },
    {
     "name": "stderr",
     "output_type": "stream",
     "text": [
      "WARNING: You are using pip version 21.0; however, version 21.0.1 is available.\n",
      "You should consider upgrading via the 'c:\\sdk\\python385\\python.exe -m pip install --upgrade pip' command.\n"
     ]
    },
    {
     "name": "stdout",
     "output_type": "stream",
     "text": [
      "Requirement already satisfied: xlrd in c:\\sdk\\python385\\lib\\site-packages (2.0.1)\n"
     ]
    },
    {
     "name": "stderr",
     "output_type": "stream",
     "text": [
      "WARNING: You are using pip version 21.0; however, version 21.0.1 is available.\n",
      "You should consider upgrading via the 'c:\\sdk\\python385\\python.exe -m pip install --upgrade pip' command.\n"
     ]
    },
    {
     "name": "stdout",
     "output_type": "stream",
     "text": [
      "Requirement already satisfied: bs4 in c:\\sdk\\python385\\lib\\site-packages (0.0.1)\n",
      "Requirement already satisfied: beautifulsoup4 in c:\\sdk\\python385\\lib\\site-packages (from bs4) (4.9.3)\n",
      "Requirement already satisfied: soupsieve>1.2 in c:\\sdk\\python385\\lib\\site-packages (from beautifulsoup4->bs4) (2.1)\n"
     ]
    },
    {
     "name": "stderr",
     "output_type": "stream",
     "text": [
      "WARNING: You are using pip version 21.0; however, version 21.0.1 is available.\n",
      "You should consider upgrading via the 'c:\\sdk\\python385\\python.exe -m pip install --upgrade pip' command.\n"
     ]
    },
    {
     "name": "stdout",
     "output_type": "stream",
     "text": [
      "Requirement already satisfied: openpyxl in c:\\sdk\\python385\\lib\\site-packages (3.0.6)\n",
      "Requirement already satisfied: jdcal in c:\\sdk\\python385\\lib\\site-packages (from openpyxl) (1.4.1)\n",
      "Requirement already satisfied: et-xmlfile in c:\\sdk\\python385\\lib\\site-packages (from openpyxl) (1.0.1)\n"
     ]
    },
    {
     "name": "stderr",
     "output_type": "stream",
     "text": [
      "WARNING: You are using pip version 21.0; however, version 21.0.1 is available.\n",
      "You should consider upgrading via the 'c:\\sdk\\python385\\python.exe -m pip install --upgrade pip' command.\n"
     ]
    },
    {
     "name": "stdout",
     "output_type": "stream",
     "text": [
      "Requirement already satisfied: matplotlib in c:\\sdk\\python385\\lib\\site-packages (3.3.3)\n",
      "Requirement already satisfied: cycler>=0.10 in c:\\sdk\\python385\\lib\\site-packages (from matplotlib) (0.10.0)\n",
      "Requirement already satisfied: numpy>=1.15 in c:\\sdk\\python385\\lib\\site-packages (from matplotlib) (1.19.2)\n",
      "Requirement already satisfied: python-dateutil>=2.1 in c:\\sdk\\python385\\lib\\site-packages (from matplotlib) (2.8.1)\n",
      "Requirement already satisfied: kiwisolver>=1.0.1 in c:\\sdk\\python385\\lib\\site-packages (from matplotlib) (1.3.1)\n",
      "Requirement already satisfied: pillow>=6.2.0 in c:\\sdk\\python385\\lib\\site-packages (from matplotlib) (8.0.1)\n",
      "Requirement already satisfied: pyparsing!=2.0.4,!=2.1.2,!=2.1.6,>=2.0.3 in c:\\sdk\\python385\\lib\\site-packages (from matplotlib) (2.4.7)\n",
      "Requirement already satisfied: six in c:\\sdk\\python385\\lib\\site-packages (from cycler>=0.10->matplotlib) (1.15.0)\n"
     ]
    },
    {
     "name": "stderr",
     "output_type": "stream",
     "text": [
      "WARNING: You are using pip version 21.0; however, version 21.0.1 is available.\n",
      "You should consider upgrading via the 'c:\\sdk\\python385\\python.exe -m pip install --upgrade pip' command.\n"
     ]
    },
    {
     "name": "stdout",
     "output_type": "stream",
     "text": [
      "Requirement already satisfied: pandas in c:\\sdk\\python385\\lib\\site-packages (1.2.1)\n",
      "Requirement already satisfied: pytz>=2017.3 in c:\\sdk\\python385\\lib\\site-packages (from pandas) (2020.4)\n",
      "Requirement already satisfied: numpy>=1.16.5 in c:\\sdk\\python385\\lib\\site-packages (from pandas) (1.19.2)\n",
      "Requirement already satisfied: python-dateutil>=2.7.3 in c:\\sdk\\python385\\lib\\site-packages (from pandas) (2.8.1)\n",
      "Requirement already satisfied: six>=1.5 in c:\\sdk\\python385\\lib\\site-packages (from python-dateutil>=2.7.3->pandas) (1.15.0)\n"
     ]
    },
    {
     "name": "stderr",
     "output_type": "stream",
     "text": [
      "WARNING: You are using pip version 21.0; however, version 21.0.1 is available.\n",
      "You should consider upgrading via the 'c:\\sdk\\python385\\python.exe -m pip install --upgrade pip' command.\n"
     ]
    },
    {
     "name": "stdout",
     "output_type": "stream",
     "text": [
      "Requirement already satisfied: wordcloud in c:\\sdk\\python385\\lib\\site-packages (1.8.1)\n",
      "Requirement already satisfied: numpy>=1.6.1 in c:\\sdk\\python385\\lib\\site-packages (from wordcloud) (1.19.2)\n",
      "Requirement already satisfied: pillow in c:\\sdk\\python385\\lib\\site-packages (from wordcloud) (8.0.1)\n",
      "Requirement already satisfied: matplotlib in c:\\sdk\\python385\\lib\\site-packages (from wordcloud) (3.3.3)\n",
      "Requirement already satisfied: python-dateutil>=2.1 in c:\\sdk\\python385\\lib\\site-packages (from matplotlib->wordcloud) (2.8.1)\n",
      "Requirement already satisfied: pyparsing!=2.0.4,!=2.1.2,!=2.1.6,>=2.0.3 in c:\\sdk\\python385\\lib\\site-packages (from matplotlib->wordcloud) (2.4.7)\n",
      "Requirement already satisfied: kiwisolver>=1.0.1 in c:\\sdk\\python385\\lib\\site-packages (from matplotlib->wordcloud) (1.3.1)\n",
      "Requirement already satisfied: cycler>=0.10 in c:\\sdk\\python385\\lib\\site-packages (from matplotlib->wordcloud) (0.10.0)\n",
      "Requirement already satisfied: six in c:\\sdk\\python385\\lib\\site-packages (from cycler>=0.10->matplotlib->wordcloud) (1.15.0)\n"
     ]
    },
    {
     "name": "stderr",
     "output_type": "stream",
     "text": [
      "WARNING: You are using pip version 21.0; however, version 21.0.1 is available.\n",
      "You should consider upgrading via the 'c:\\sdk\\python385\\python.exe -m pip install --upgrade pip' command.\n"
     ]
    },
    {
     "name": "stdout",
     "output_type": "stream",
     "text": [
      "Requirement already satisfied: numpy in c:\\sdk\\python385\\lib\\site-packages (1.19.2)\n"
     ]
    },
    {
     "name": "stderr",
     "output_type": "stream",
     "text": [
      "WARNING: You are using pip version 21.0; however, version 21.0.1 is available.\n",
      "You should consider upgrading via the 'c:\\sdk\\python385\\python.exe -m pip install --upgrade pip' command.\n"
     ]
    },
    {
     "name": "stdout",
     "output_type": "stream",
     "text": [
      "Requirement already satisfied: ipywidgets in c:\\sdk\\python385\\lib\\site-packages (7.6.3)\n",
      "Requirement already satisfied: ipykernel>=4.5.1 in c:\\sdk\\python385\\lib\\site-packages (from ipywidgets) (5.4.3)\n",
      "Requirement already satisfied: ipython>=4.0.0 in c:\\sdk\\python385\\lib\\site-packages (from ipywidgets) (7.19.0)\n",
      "Requirement already satisfied: widgetsnbextension~=3.5.0 in c:\\sdk\\python385\\lib\\site-packages (from ipywidgets) (3.5.1)\n",
      "Requirement already satisfied: traitlets>=4.3.1 in c:\\sdk\\python385\\lib\\site-packages (from ipywidgets) (5.0.5)\n",
      "Requirement already satisfied: jupyterlab-widgets>=1.0.0 in c:\\sdk\\python385\\lib\\site-packages (from ipywidgets) (1.0.0)\n",
      "Requirement already satisfied: nbformat>=4.2.0 in c:\\sdk\\python385\\lib\\site-packages (from ipywidgets) (5.1.2)\n",
      "Requirement already satisfied: tornado>=4.2 in c:\\sdk\\python385\\lib\\site-packages (from ipykernel>=4.5.1->ipywidgets) (6.1)\n",
      "Requirement already satisfied: jupyter-client in c:\\sdk\\python385\\lib\\site-packages (from ipykernel>=4.5.1->ipywidgets) (6.1.11)\n",
      "Requirement already satisfied: pygments in c:\\sdk\\python385\\lib\\site-packages (from ipython>=4.0.0->ipywidgets) (2.7.4)\n",
      "Requirement already satisfied: colorama in c:\\sdk\\python385\\lib\\site-packages (from ipython>=4.0.0->ipywidgets) (0.4.4)\n",
      "Requirement already satisfied: backcall in c:\\sdk\\python385\\lib\\site-packages (from ipython>=4.0.0->ipywidgets) (0.2.0)\n",
      "Requirement already satisfied: decorator in c:\\sdk\\python385\\lib\\site-packages (from ipython>=4.0.0->ipywidgets) (4.4.2)\n",
      "Requirement already satisfied: jedi>=0.10 in c:\\sdk\\python385\\lib\\site-packages (from ipython>=4.0.0->ipywidgets) (0.18.0)\n",
      "Requirement already satisfied: setuptools>=18.5 in c:\\sdk\\python385\\lib\\site-packages (from ipython>=4.0.0->ipywidgets) (47.1.0)\n",
      "Requirement already satisfied: prompt-toolkit!=3.0.0,!=3.0.1,<3.1.0,>=2.0.0 in c:\\sdk\\python385\\lib\\site-packages (from ipython>=4.0.0->ipywidgets) (3.0.14)\n",
      "Requirement already satisfied: pickleshare in c:\\sdk\\python385\\lib\\site-packages (from ipython>=4.0.0->ipywidgets) (0.7.5)\n",
      "Requirement already satisfied: parso<0.9.0,>=0.8.0 in c:\\sdk\\python385\\lib\\site-packages (from jedi>=0.10->ipython>=4.0.0->ipywidgets) (0.8.1)\n",
      "Requirement already satisfied: jupyter-core in c:\\sdk\\python385\\lib\\site-packages (from nbformat>=4.2.0->ipywidgets) (4.7.0)\n",
      "Requirement already satisfied: ipython-genutils in c:\\sdk\\python385\\lib\\site-packages (from nbformat>=4.2.0->ipywidgets) (0.2.0)\n",
      "Requirement already satisfied: jsonschema!=2.5.0,>=2.4 in c:\\sdk\\python385\\lib\\site-packages (from nbformat>=4.2.0->ipywidgets) (3.2.0)\n",
      "Requirement already satisfied: six>=1.11.0 in c:\\sdk\\python385\\lib\\site-packages (from jsonschema!=2.5.0,>=2.4->nbformat>=4.2.0->ipywidgets) (1.15.0)\n",
      "Requirement already satisfied: pyrsistent>=0.14.0 in c:\\sdk\\python385\\lib\\site-packages (from jsonschema!=2.5.0,>=2.4->nbformat>=4.2.0->ipywidgets) (0.17.3)\n",
      "Requirement already satisfied: attrs>=17.4.0 in c:\\sdk\\python385\\lib\\site-packages (from jsonschema!=2.5.0,>=2.4->nbformat>=4.2.0->ipywidgets) (20.3.0)\n",
      "Requirement already satisfied: wcwidth in c:\\sdk\\python385\\lib\\site-packages (from prompt-toolkit!=3.0.0,!=3.0.1,<3.1.0,>=2.0.0->ipython>=4.0.0->ipywidgets) (0.2.5)\n",
      "Requirement already satisfied: notebook>=4.4.1 in c:\\sdk\\python385\\lib\\site-packages (from widgetsnbextension~=3.5.0->ipywidgets) (6.2.0)\n",
      "Requirement already satisfied: pyzmq>=17 in c:\\sdk\\python385\\lib\\site-packages (from notebook>=4.4.1->widgetsnbextension~=3.5.0->ipywidgets) (21.0.2)\n",
      "Requirement already satisfied: jinja2 in c:\\sdk\\python385\\lib\\site-packages (from notebook>=4.4.1->widgetsnbextension~=3.5.0->ipywidgets) (2.11.2)\n",
      "Requirement already satisfied: terminado>=0.8.3 in c:\\sdk\\python385\\lib\\site-packages (from notebook>=4.4.1->widgetsnbextension~=3.5.0->ipywidgets) (0.9.2)\n",
      "Requirement already satisfied: argon2-cffi in c:\\sdk\\python385\\lib\\site-packages (from notebook>=4.4.1->widgetsnbextension~=3.5.0->ipywidgets) (20.1.0)\n",
      "Requirement already satisfied: nbconvert in c:\\sdk\\python385\\lib\\site-packages (from notebook>=4.4.1->widgetsnbextension~=3.5.0->ipywidgets) (6.0.7)\n",
      "Requirement already satisfied: Send2Trash>=1.5.0 in c:\\sdk\\python385\\lib\\site-packages (from notebook>=4.4.1->widgetsnbextension~=3.5.0->ipywidgets) (1.5.0)\n",
      "Requirement already satisfied: prometheus-client in c:\\sdk\\python385\\lib\\site-packages (from notebook>=4.4.1->widgetsnbextension~=3.5.0->ipywidgets) (0.9.0)\n",
      "Requirement already satisfied: python-dateutil>=2.1 in c:\\sdk\\python385\\lib\\site-packages (from jupyter-client->ipykernel>=4.5.1->ipywidgets) (2.8.1)\n",
      "Requirement already satisfied: pywin32>=1.0 in c:\\sdk\\python385\\lib\\site-packages (from jupyter-core->nbformat>=4.2.0->ipywidgets) (300)\n",
      "Requirement already satisfied: pywinpty>=0.5 in c:\\sdk\\python385\\lib\\site-packages (from terminado>=0.8.3->notebook>=4.4.1->widgetsnbextension~=3.5.0->ipywidgets) (0.5.7)\n",
      "Requirement already satisfied: cffi>=1.0.0 in c:\\sdk\\python385\\lib\\site-packages (from argon2-cffi->notebook>=4.4.1->widgetsnbextension~=3.5.0->ipywidgets) (1.14.3)\n",
      "Requirement already satisfied: pycparser in c:\\sdk\\python385\\lib\\site-packages (from cffi>=1.0.0->argon2-cffi->notebook>=4.4.1->widgetsnbextension~=3.5.0->ipywidgets) (2.20)\n",
      "Requirement already satisfied: MarkupSafe>=0.23 in c:\\sdk\\python385\\lib\\site-packages (from jinja2->notebook>=4.4.1->widgetsnbextension~=3.5.0->ipywidgets) (1.1.1)\n",
      "Requirement already satisfied: jupyterlab-pygments in c:\\sdk\\python385\\lib\\site-packages (from nbconvert->notebook>=4.4.1->widgetsnbextension~=3.5.0->ipywidgets) (0.1.2)\n",
      "Requirement already satisfied: nbclient<0.6.0,>=0.5.0 in c:\\sdk\\python385\\lib\\site-packages (from nbconvert->notebook>=4.4.1->widgetsnbextension~=3.5.0->ipywidgets) (0.5.1)\n",
      "Requirement already satisfied: bleach in c:\\sdk\\python385\\lib\\site-packages (from nbconvert->notebook>=4.4.1->widgetsnbextension~=3.5.0->ipywidgets) (3.2.3)\n",
      "Requirement already satisfied: mistune<2,>=0.8.1 in c:\\sdk\\python385\\lib\\site-packages (from nbconvert->notebook>=4.4.1->widgetsnbextension~=3.5.0->ipywidgets) (0.8.4)\n",
      "Requirement already satisfied: entrypoints>=0.2.2 in c:\\sdk\\python385\\lib\\site-packages (from nbconvert->notebook>=4.4.1->widgetsnbextension~=3.5.0->ipywidgets) (0.3)\n",
      "Requirement already satisfied: testpath in c:\\sdk\\python385\\lib\\site-packages (from nbconvert->notebook>=4.4.1->widgetsnbextension~=3.5.0->ipywidgets) (0.4.4)\n",
      "Requirement already satisfied: defusedxml in c:\\sdk\\python385\\lib\\site-packages (from nbconvert->notebook>=4.4.1->widgetsnbextension~=3.5.0->ipywidgets) (0.6.0)\n",
      "Requirement already satisfied: pandocfilters>=1.4.1 in c:\\sdk\\python385\\lib\\site-packages (from nbconvert->notebook>=4.4.1->widgetsnbextension~=3.5.0->ipywidgets) (1.4.3)"
     ]
    },
    {
     "name": "stderr",
     "output_type": "stream",
     "text": [
      "WARNING: You are using pip version 21.0; however, version 21.0.1 is available.\n",
      "You should consider upgrading via the 'c:\\sdk\\python385\\python.exe -m pip install --upgrade pip' command.\n"
     ]
    },
    {
     "name": "stdout",
     "output_type": "stream",
     "text": [
      "\n",
      "Requirement already satisfied: async-generator in c:\\sdk\\python385\\lib\\site-packages (from nbclient<0.6.0,>=0.5.0->nbconvert->notebook>=4.4.1->widgetsnbextension~=3.5.0->ipywidgets) (1.10)\n",
      "Requirement already satisfied: nest-asyncio in c:\\sdk\\python385\\lib\\site-packages (from nbclient<0.6.0,>=0.5.0->nbconvert->notebook>=4.4.1->widgetsnbextension~=3.5.0->ipywidgets) (1.5.1)\n",
      "Requirement already satisfied: webencodings in c:\\sdk\\python385\\lib\\site-packages (from bleach->nbconvert->notebook>=4.4.1->widgetsnbextension~=3.5.0->ipywidgets) (0.5.1)\n",
      "Requirement already satisfied: packaging in c:\\sdk\\python385\\lib\\site-packages (from bleach->nbconvert->notebook>=4.4.1->widgetsnbextension~=3.5.0->ipywidgets) (20.8)\n",
      "Requirement already satisfied: pyparsing>=2.0.2 in c:\\sdk\\python385\\lib\\site-packages (from packaging->bleach->nbconvert->notebook>=4.4.1->widgetsnbextension~=3.5.0->ipywidgets) (2.4.7)\n",
      "Requirement already satisfied: pyclustertend in c:\\sdk\\python385\\lib\\site-packages (1.4.9)\n"
     ]
    },
    {
     "name": "stderr",
     "output_type": "stream",
     "text": [
      "WARNING: You are using pip version 21.0; however, version 21.0.1 is available.\n",
      "You should consider upgrading via the 'c:\\sdk\\python385\\python.exe -m pip install --upgrade pip' command.\n"
     ]
    },
    {
     "name": "stdout",
     "output_type": "stream",
     "text": [
      "Requirement already satisfied: scikit-learn in c:\\sdk\\python385\\lib\\site-packages (0.24.1)\n",
      "Requirement already satisfied: scipy>=0.19.1 in c:\\sdk\\python385\\lib\\site-packages (from scikit-learn) (1.6.0)\n",
      "Requirement already satisfied: joblib>=0.11 in c:\\sdk\\python385\\lib\\site-packages (from scikit-learn) (1.0.1)\n",
      "Requirement already satisfied: numpy>=1.13.3 in c:\\sdk\\python385\\lib\\site-packages (from scikit-learn) (1.19.2)\n",
      "Requirement already satisfied: threadpoolctl>=2.0.0 in c:\\sdk\\python385\\lib\\site-packages (from scikit-learn) (2.1.0)\n"
     ]
    },
    {
     "name": "stderr",
     "output_type": "stream",
     "text": [
      "WARNING: You are using pip version 21.0; however, version 21.0.1 is available.\n",
      "You should consider upgrading via the 'c:\\sdk\\python385\\python.exe -m pip install --upgrade pip' command.\n"
     ]
    }
   ],
   "source": [
    "!pip install folium\n",
    "!pip install wordcloud\n",
    "!pip install plotly\n",
    "!pip install xlrd\n",
    "!pip install bs4\n",
    "!pip install openpyxl\n",
    "!pip install matplotlib\n",
    "!pip install pandas\n",
    "!pip install wordcloud\n",
    "!pip install numpy\n",
    "!pip install ipywidgets\n",
    "!pip install pyclustertend\n",
    "!pip install scikit-learn"
   ]
  },
  {
   "cell_type": "markdown",
   "metadata": {
    "id": "Cr45xdcucy4-"
   },
   "source": [
    "## Importing the libraries"
   ]
  },
  {
   "cell_type": "code",
   "execution_count": 99,
   "metadata": {
    "id": "T3RaSIEQcgA-"
   },
   "outputs": [],
   "source": [
    "import folium\n",
    "import pandas as pd\n",
    "from pandas.io.json import json_normalize\n",
    "import numpy as np\n",
    "import matplotlib.pyplot as plt\n",
    "import matplotlib as mpl\n",
    "from matplotlib import rcParams\n",
    "import requests\n",
    "import plotly\n",
    "from wordcloud import WordCloud, STOPWORDS\n",
    "from bs4 import BeautifulSoup\n",
    "import io\n",
    "from zipfile import ZipFile\n",
    "import time\n",
    "from ipywidgets import widgets\n",
    "from IPython.display import display\n",
    "import re\n",
    "from sklearn.neighbors import NearestNeighbors\n",
    "from sklearn.preprocessing import StandardScaler\n",
    "from sklearn.preprocessing import scale\n",
    "from sklearn.preprocessing import MinMaxScaler\n",
    "from pyclustertend import hopkins\n",
    "import plotly.express as px"
   ]
  },
  {
   "cell_type": "markdown",
   "metadata": {
    "id": "-JgpCqkKc8rk"
   },
   "source": [
    "# Variable initialisation and data source urls"
   ]
  },
  {
   "cell_type": "markdown",
   "metadata": {
    "id": "RafjmGL7Xt6z"
   },
   "source": [
    "## Initialisation of variables and matplotlib configuration"
   ]
  },
  {
   "cell_type": "code",
   "execution_count": 3,
   "metadata": {
    "id": "Zj1TZ56Mc38N"
   },
   "outputs": [],
   "source": [
    "LONDON_COORDS = [51.5074, 0.1278]\n",
    "\n",
    "#### setting default figure size for our convenience\n",
    "\n",
    "rcParams[\"figure.figsize\"] = 20, 10\n",
    "\n",
    "#### changing style of matplotlib\n",
    "\n",
    "mpl.style.use('ggplot')\n",
    "\n",
    "#### dictionary for the urls\n",
    "urls = dict()\n",
    "\n",
    "#### dictionary for the dataframes\n",
    "\n",
    "dfs = dict()\n",
    "maps = dict()\n",
    "maps[\"base_map\"] = lambda : folium.Map(LONDON_COORDS, zoom_start = 10, tiles='Stamen Toner')"
   ]
  },
  {
   "cell_type": "markdown",
   "metadata": {
    "id": "Kf_hJaWqh1eI"
   },
   "source": [
    "## Data sources (URLs)"
   ]
  },
  {
   "cell_type": "code",
   "execution_count": 4,
   "metadata": {
    "id": "xGF5ALX9h4ev"
   },
   "outputs": [],
   "source": [
    "urls[\"MSOA_ETH_2011\"] = \"https://data.parliament.uk/resources/constituencystatistics/Ethnic-group.xlsx\"\n",
    "\n",
    "urls[\"MSOA_INCOME_2018\"] = \"https://www.ons.gov.uk/file?uri=%2femploymentandlabourmarket%2fpeopleinwork%2fearningsandworkinghours%2fdatasets%2fsmallareaincomeestimatesformiddlelayersuperoutputareasenglandandwales%2ffinancialyearending2018/totalannualincome2018.csv\"\n",
    "\n",
    "urls[\"MSOA_TO_LSOA_MAPPING\"] = \"https://opendata.arcgis.com/datasets/fe6c55f0924b4734adf1cf7104a0173e_0.csv\"\n",
    "\n",
    "urls[\"MSOA_POP_WEIGHTED_COORDS\"] = \"https://opendata.arcgis.com/datasets/b0a6d8a3dc5d4718b3fd62c548d60f81_0.geojson\"\n",
    "urls[\"LSOA_AVERAGE_RENTS\"] = \"https://data.london.gov.uk/download/average-private-rents-borough/73b9fb07-b5bb-4a53-88b7-c17269879a08/voa-average-rent-borough.xls\"\n",
    "\n",
    "urls[\"MSOA_GSON\"] = \"https://opendata.arcgis.com/datasets/826dc85fb600440889480f4d9dbb1a24_1.geojson\"\n",
    "urls[\"FOURSQUARE_PULLED_DATA\"] = \"https://github.com/regorigregory/neigh_segm/blob/master/fsquare_all.csv?raw=true\""
   ]
  },
  {
   "cell_type": "markdown",
   "metadata": {
    "id": "WR7gNmFYXzSm"
   },
   "source": [
    "# Functions"
   ]
  },
  {
   "cell_type": "markdown",
   "metadata": {
    "id": "pL4I-QfrYQXr"
   },
   "source": [
    "## \"Adding markers to map\" function"
   ]
  },
  {
   "cell_type": "code",
   "execution_count": 5,
   "metadata": {
    "id": "XvkMTUhBYbsX"
   },
   "outputs": [],
   "source": [
    "def add_msoa_markers(passed_map, dfs_all, key_attribute_col):\n",
    "  for i in dfs_all.index:\n",
    "    row = dfs_all.loc[i]\n",
    "    loc = row[\"coordinates\"]\n",
    "    msoa11nn = row[\"msoa11nm\"]\n",
    "    msoa11cd = row[\"msoa11cd\"]\n",
    "    key_attribute_value = row[key_attribute_col] \n",
    "    pop = \"{} ({})\\n{}: {}\".format(msoa11nn, msoa11cd, key_attribute_col, key_attribute_value)\n",
    "    folium.Marker([loc[1], loc[0]],\n",
    "                        radius = 5,\n",
    "                        popup= pop                   \n",
    "                        ).add_to(passed_map)\n"
   ]
  },
  {
   "cell_type": "markdown",
   "metadata": {
    "id": "zYqJJNmoYVuI"
   },
   "source": [
    "## \"Adding tooltip column to JSON response\" function"
   ]
  },
  {
   "cell_type": "code",
   "execution_count": 6,
   "metadata": {
    "id": "XJQlihRfYeNg"
   },
   "outputs": [],
   "source": [
    "def filter_geo_json_with_tooltip(json_response_backup, unique_msoa_codes, dfs_all = None, dfs_tooltip_cols = None, tooltip_name = None):\n",
    "    \n",
    "    filtered_list = list()\n",
    "    \n",
    "    for row in json_response[\"features\"]:\n",
    "        current_msoa11cd = row[\"properties\"][\"msoa11cd\"]\n",
    "        \n",
    "        if current_msoa11cd in unique_msoa_codes:\n",
    "            tooltip_temp = \"MSOA ID: {} MSOA name:{}<br>\"\\\n",
    "            .format(row[\"properties\"][\"msoa11cd\"], row[\"properties\"][\"msoa11nm\"])\n",
    "            \n",
    "            if((dfs_all is not None) and (dfs_tooltip_cols is not None)):\n",
    "                if not isinstance(dfs_tooltip_cols, list):\n",
    "                    dfs_tooltip_cols = [dfs_tooltip_cols]\n",
    "                boolean_mask = dfs_all[\"msoa11cd\"] == current_msoa11cd\n",
    "                row_dict = dfs_all[boolean_mask].to_dict(orient = \"list\")\n",
    "                for dfs_tooltip_col in dfs_tooltip_cols:\n",
    "                    dfs_tooltip_val = row_dict[dfs_tooltip_col][0]\n",
    "                    float_formatter = \"{:.5f}\" if isinstance(dfs_tooltip_val, np.float) else \"{}\"\n",
    "                    to_be_formatted = \"{}: \" + float_formatter +\"<br>\"\n",
    "                    tooltip_temp += to_be_formatted.format(dfs_tooltip_col, dfs_tooltip_val)\n",
    "                if tooltip_name is not None:\n",
    "                    row[\"properties\"][tooltip_name] = tooltip_temp\n",
    "                else:\n",
    "                    row[\"properties\"][dfs_tooltip_col[0]] = tooltip_temp\n",
    "            else:\n",
    "                row[\"properties\"][\"tooltip\"] = tooltip_temp\n",
    "            filtered_list.append(row)\n",
    "            \n",
    "    print(len(filtered_list))\n",
    "    return filtered_list"
   ]
  },
  {
   "cell_type": "markdown",
   "metadata": {
    "id": "2U9N4Gz_X1aL"
   },
   "source": [
    "## Foursquare data acquisition function"
   ]
  },
  {
   "cell_type": "code",
   "execution_count": 7,
   "metadata": {
    "id": "wi35aydeX5W-"
   },
   "outputs": [],
   "source": [
    " #### Requesting data for one specific location on the map.\n",
    "\n",
    "def explore_area_nearby(client_id, client_secret, access_token, lat, lng, radius = 500, limit = 100):\n",
    "    version = '20180605' # Foursquare API version\n",
    "    base_url_template = 'https://api.foursquare.com/v2/venues/explore?client_id={}&client_secret={}&oauth_token={}&v={}&radius={}&limit={}'\n",
    "    lat_lng_suffix = \"&ll={},{}\"\n",
    "    base_url = base_url_template.format(client_id, client_secret, access_token, version, radius, limit)\n",
    "    request_url = base_url + lat_lng_suffix.format(lat, lng)\n",
    "    #print(request_url)\n",
    "    resp = requests.get(request_url)\n",
    "    return resp.json()\n",
    "\n",
    "#### Helper wrapper function to be used for the function above (\"explore_area_nearby\")\n",
    "\n",
    "def get_fs_for_latlng(data, raw = False):\n",
    "    lat_lng = data\n",
    "    client_id = \"OCJNVVQEBW4JMRT1XQWOMUA4D3BSVJ1ABPSFVWIGNQZ4MHKT\"\n",
    "    client_secret = \"4XAPAWARYQL5Y0OLDVCABVNFTC5SXUUH4Q0YYVVHSHNJJ44F\"\n",
    "    access_token = \"N2LGNKF1ZJBDYCFOYITCMFEUSMFYEXSZWEOEG2TNH15H1GEC\"\n",
    "    radius = 1000\n",
    "    limit = 500\n",
    "    raw_response = explore_area_nearby(client_id, client_secret, access_token, lat_lng[1], lat_lng[0], radius, limit)\n",
    "    if(raw):\n",
    "        return raw_response\n",
    "    \n",
    "    return raw_response[\"response\"][\"groups\"][0][\"items\"]\n",
    "\n",
    "#### Helper functions to extract relevant fields from the JSON response of FourSquare's API\n",
    "\n",
    "def get_venue_category(i, raw_response):\n",
    "    return raw_response[\"response\"][\"groups\"][0][\"items\"][i][\"venue\"][\"categories\"][0][\"name\"]\n",
    "\n",
    "    \n",
    "def get_venue_type(i, raw_response):\n",
    "    return raw_response[\"response\"][\"groups\"][0][\"items\"][i][\"reasons\"][\"items\"][0][\"type\"]\n",
    "\n",
    "def get_venue_name(i, raw_response):\n",
    "    return raw_response[\"response\"][\"groups\"][0][\"items\"][i][\"venue\"][\"name\"]\n",
    "\n",
    "def get_venue_lat_lng(i, raw_response):\n",
    "        return [raw_response[\"response\"][\"groups\"][0][\"items\"][i][\"venue\"][\"location\"][\"lat\"], \n",
    "                raw_response[\"response\"][\"groups\"][0][\"items\"][i][\"venue\"][\"location\"][\"lng\"]]\n",
    "\n",
    "#### Placing the above functions into a dictionary for programming convenience\n",
    "venue_extractor_functions = dict(venue_name = get_venue_name, \n",
    "                                 venue_location = get_venue_lat_lng,\n",
    "                                 venue_type =  get_venue_type, \n",
    "                                 venue_category = get_venue_category)\n",
    "\n",
    "#### Function to be used in a loop to extract each selected relevant field with one of the above functions\n",
    "\n",
    "def get_venue_fields(raw_response, venue_field_extractor_function):\n",
    "    extracted_fields = []\n",
    "    for i in range(0, len(raw_response[\"response\"][\"groups\"][0][\"items\"])):\n",
    "        extracted_fields.append(venue_field_extractor_function(i, raw_response))\n",
    "    return extracted_fields\n",
    "\n",
    "#### Since FourSquare's free tier only allows for 500 requests within an hour \n",
    "#### and rejects calls with the same API credentials in the next 2 hours,\n",
    "#### the helper function below aims to automatize this waiting process\n",
    "\n",
    "def patient_foursquare_calls(dfs):\n",
    "    #### Venue dataframe template\n",
    "    venue_ds_template = dict(venue_name = \"\", venue_location = \"\", venue_type = \"\", venue_category = \"\")\n",
    "\n",
    "    #### the dataframe to hold the extracted fields, each identified by its MSOA ID.\n",
    "\n",
    "    dfs[\"venue_df\"] = pd.DataFrame([], columns = [\"msoa_id\", \"venue_name\", \"venue_location\", \"venue_category\", \"venue_type\"])\n",
    "\n",
    "    #### Due to the aforementioned limitation of FourSquare's free tier, raw responses are decieded\n",
    "    #### to be saved in a serialized format,\n",
    "    #### should additional data be intended to be extracted.\n",
    "\n",
    "    raw_responses = []\n",
    "    data_length = len(dfs[\"all\"].index)\n",
    "    i = 0\n",
    "    #### Main loop to iterate through each MSOA center within the dataframe.\n",
    "\n",
    "    while(i < data_length):\n",
    "        try:\n",
    "            msoa_id =  dfs[\"all\"].loc[i, \"msoa11cd\"]\n",
    "\n",
    "            #### Getting the raw response data for the location\n",
    "            raw_response = get_fs_for_latlng(dfs[\"all\"].loc[i, \"coordinates\"], raw = True)\n",
    "            raw_responses.append(raw_response)\n",
    "            venue_ds_temp = venue_ds_template.copy()\n",
    "            for k,v in venue_extractor_functions.items():\n",
    "                temp_list =  get_venue_fields(raw_response, v)\n",
    "                venue_ds_temp[k] = temp_list\n",
    "            venue_ds_temp[\"msoa_id\"] = [msoa_id for i in range(0, len(temp_list))]\n",
    "            dfs[\"venue_df\"] = dfs[\"venue_df\"].append(pd.DataFrame(venue_ds_temp))\n",
    "            print(\"\\rPulled data for {:d}/{:d}. Last MSOID: {:s}\".format(i+1, data_length, msoa_id))\n",
    "            i+=1\n",
    "        except:\n",
    "            print(\"*\"*50 + \"\\nI will go to sleep for 2 hours since have reached the limit of FourSquare's free tier.\\n\" + \"*\"*50)\n",
    "            time.sleep(60*60*2+10)\n",
    "    return raw_responses"
   ]
  },
  {
   "cell_type": "markdown",
   "metadata": {
    "id": "fRRGIA0NbaIi"
   },
   "source": [
    "## Clustering tendency analysis: Hopkins statistics"
   ]
  },
  {
   "cell_type": "code",
   "execution_count": 8,
   "metadata": {
    "id": "BVXOSyvZbed9"
   },
   "outputs": [],
   "source": [
    "def get_hopkins_statistics(dataset, sample_percentage = 0.1):\n",
    "\n",
    "    np.random.seed(0)\n",
    "    ds_shape = dataset.shape\n",
    "\n",
    "    sample_size = int(ds_shape[0] * sample_percentage)\n",
    "    \n",
    "    artificial_ds = np.random.uniform(np.amin(dataset, axis = 0), np.amax(dataset, axis = 0), size = [sample_size, ds_shape[1]])\n",
    "\n",
    "    sample_indices = np.random.choice(range(0, ds_shape[0]), sample_size)\n",
    "    ds_samples = dataset[sample_indices]\n",
    "\n",
    "    m = NearestNeighbors().fit(dataset)\n",
    "    \n",
    "    u_dist, _ = m.kneighbors(artificial_ds, n_neighbors = 2, return_distance = True)\n",
    "    w_dist, _ = m.kneighbors(ds_samples, n_neighbors = 2, return_distance = True)\n",
    "    \n",
    "    # Why n_neighbors = 2?\n",
    "    # If n_neighbors = 1 is given, instead of a calculated distance as one sum it returns the distance dimensionwise\n",
    "    \n",
    "    # For w_dist it is the second neighbor, hence the 1th index. \n",
    "    # The first neighbour is the data point itself since it has been sampled from the dataset.\n",
    "    # For u_dist, it is the first neighbor (hence the 0th index), because\n",
    "    # the artificial datapoints are assumed to be not part of the original dataset.\n",
    "\n",
    "    w_dist = w_dist[:,1]\n",
    "    u_dist = u_dist[:, 0]\n",
    "    return np.sum(u_dist)/(np.sum(w_dist) + np.sum(u_dist))"
   ]
  },
  {
   "cell_type": "markdown",
   "metadata": {},
   "source": [
    "## Gap statistics"
   ]
  },
  {
   "cell_type": "code",
   "execution_count": null,
   "metadata": {},
   "outputs": [],
   "source": []
  },
  {
   "cell_type": "markdown",
   "metadata": {
    "id": "MOyN_lWBiPZI"
   },
   "source": [
    "# Data acquisition and transformation"
   ]
  },
  {
   "cell_type": "markdown",
   "metadata": {
    "id": "0oJ92GZUi1Au"
   },
   "source": [
    "## Obtaining ethnical data of UK"
   ]
  },
  {
   "cell_type": "code",
   "execution_count": 9,
   "metadata": {
    "colab": {
     "base_uri": "https://localhost:8080/",
     "height": 0
    },
    "id": "DSqQC25hipmy",
    "outputId": "2ccfa284-2c75-4717-e96f-f2c39ca75f0f"
   },
   "outputs": [
    {
     "data": {
      "text/html": [
       "<div>\n",
       "<style scoped>\n",
       "    .dataframe tbody tr th:only-of-type {\n",
       "        vertical-align: middle;\n",
       "    }\n",
       "\n",
       "    .dataframe tbody tr th {\n",
       "        vertical-align: top;\n",
       "    }\n",
       "\n",
       "    .dataframe thead th {\n",
       "        text-align: right;\n",
       "    }\n",
       "</style>\n",
       "<table border=\"1\" class=\"dataframe\">\n",
       "  <thead>\n",
       "    <tr style=\"text-align: right;\">\n",
       "      <th></th>\n",
       "      <th>ONSConstID</th>\n",
       "      <th>ConstituencyName</th>\n",
       "      <th>MSOAID</th>\n",
       "      <th>MSOAName</th>\n",
       "      <th>DateThisUpdate</th>\n",
       "      <th>DateOfDataset</th>\n",
       "      <th>PopWhiteNbhdNum</th>\n",
       "      <th>PopMixedNbhdNum</th>\n",
       "      <th>PopAsianNbhdNum</th>\n",
       "      <th>PopBlackNbhdNum</th>\n",
       "      <th>PopOtherNbhdNum</th>\n",
       "      <th>PopWhiteNbhd%</th>\n",
       "      <th>PopMixedNbhd%</th>\n",
       "      <th>PopAsianNbhd%</th>\n",
       "      <th>PopBlackNbhd%</th>\n",
       "      <th>PopOtherNbhd%</th>\n",
       "    </tr>\n",
       "  </thead>\n",
       "  <tbody>\n",
       "    <tr>\n",
       "      <th>0</th>\n",
       "      <td>E14000530</td>\n",
       "      <td>Aldershot</td>\n",
       "      <td>E02004753</td>\n",
       "      <td>Blackwater, Frogmore &amp; Minley</td>\n",
       "      <td>2020-11-12</td>\n",
       "      <td>2011</td>\n",
       "      <td>9368</td>\n",
       "      <td>161</td>\n",
       "      <td>402</td>\n",
       "      <td>137</td>\n",
       "      <td>47</td>\n",
       "      <td>0.926149</td>\n",
       "      <td>0.015917</td>\n",
       "      <td>0.039743</td>\n",
       "      <td>0.013544</td>\n",
       "      <td>0.004647</td>\n",
       "    </tr>\n",
       "    <tr>\n",
       "      <th>1</th>\n",
       "      <td>E14000530</td>\n",
       "      <td>Aldershot</td>\n",
       "      <td>E02004802</td>\n",
       "      <td>Hawley Lane &amp; Fox Lane</td>\n",
       "      <td>2020-11-12</td>\n",
       "      <td>2011</td>\n",
       "      <td>5709</td>\n",
       "      <td>141</td>\n",
       "      <td>887</td>\n",
       "      <td>77</td>\n",
       "      <td>40</td>\n",
       "      <td>0.832944</td>\n",
       "      <td>0.020572</td>\n",
       "      <td>0.129413</td>\n",
       "      <td>0.011234</td>\n",
       "      <td>0.005836</td>\n",
       "    </tr>\n",
       "    <tr>\n",
       "      <th>2</th>\n",
       "      <td>E14000530</td>\n",
       "      <td>Aldershot</td>\n",
       "      <td>E02004803</td>\n",
       "      <td>Mayfield</td>\n",
       "      <td>2020-11-12</td>\n",
       "      <td>2011</td>\n",
       "      <td>5603</td>\n",
       "      <td>229</td>\n",
       "      <td>1499</td>\n",
       "      <td>153</td>\n",
       "      <td>68</td>\n",
       "      <td>0.741923</td>\n",
       "      <td>0.030323</td>\n",
       "      <td>0.198490</td>\n",
       "      <td>0.020260</td>\n",
       "      <td>0.009004</td>\n",
       "    </tr>\n",
       "  </tbody>\n",
       "</table>\n",
       "</div>"
      ],
      "text/plain": [
       "  ONSConstID ConstituencyName     MSOAID                       MSOAName  \\\n",
       "0  E14000530        Aldershot  E02004753  Blackwater, Frogmore & Minley   \n",
       "1  E14000530        Aldershot  E02004802         Hawley Lane & Fox Lane   \n",
       "2  E14000530        Aldershot  E02004803                       Mayfield   \n",
       "\n",
       "  DateThisUpdate  DateOfDataset  PopWhiteNbhdNum  PopMixedNbhdNum  \\\n",
       "0     2020-11-12           2011             9368              161   \n",
       "1     2020-11-12           2011             5709              141   \n",
       "2     2020-11-12           2011             5603              229   \n",
       "\n",
       "   PopAsianNbhdNum  PopBlackNbhdNum  PopOtherNbhdNum  PopWhiteNbhd%  \\\n",
       "0              402              137               47       0.926149   \n",
       "1              887               77               40       0.832944   \n",
       "2             1499              153               68       0.741923   \n",
       "\n",
       "   PopMixedNbhd%  PopAsianNbhd%  PopBlackNbhd%  PopOtherNbhd%  \n",
       "0       0.015917       0.039743       0.013544       0.004647  \n",
       "1       0.020572       0.129413       0.011234       0.005836  \n",
       "2       0.030323       0.198490       0.020260       0.009004  "
      ]
     },
     "execution_count": 9,
     "metadata": {},
     "output_type": "execute_result"
    }
   ],
   "source": [
    "dfs = dict()\n",
    "dfs[\"MSOA_ETH_2011\"] = pd.read_excel(urls[\"MSOA_ETH_2011\"], sheet_name = \"Neighbourhood data\")\n",
    "dfs[\"MSOA_ETH_2011\"].head(3)"
   ]
  },
  {
   "cell_type": "code",
   "execution_count": 10,
   "metadata": {
    "id": "LtO3bGGSWmjU"
   },
   "outputs": [],
   "source": [
    "dfs[\"MSOA_ETH_2011\"][\"total_population\"] = dfs[\"MSOA_ETH_2011\"][[\"PopWhiteNbhdNum\", \"PopMixedNbhdNum\", \"PopAsianNbhdNum\", \"PopBlackNbhdNum\", \"PopOtherNbhdNum\"]].sum(axis = 1)"
   ]
  },
  {
   "cell_type": "markdown",
   "metadata": {
    "id": "BbPVGeYri9Q4"
   },
   "source": [
    "### Filtering the Dataframe to relevant features"
   ]
  },
  {
   "cell_type": "code",
   "execution_count": 11,
   "metadata": {
    "colab": {
     "base_uri": "https://localhost:8080/"
    },
    "id": "4YWBHNFzi4xx",
    "outputId": "e60cc7db-a823-4500-8d10-d00f2b6a3391"
   },
   "outputs": [
    {
     "name": "stderr",
     "output_type": "stream",
     "text": [
      "c:\\sdk\\python385\\lib\\site-packages\\pandas\\core\\frame.py:4438: SettingWithCopyWarning: \n",
      "A value is trying to be set on a copy of a slice from a DataFrame\n",
      "\n",
      "See the caveats in the documentation: https://pandas.pydata.org/pandas-docs/stable/user_guide/indexing.html#returning-a-view-versus-a-copy\n",
      "  return super().rename(\n"
     ]
    }
   ],
   "source": [
    "dfs[\"MSOA_ETH_2011_mod\"] = dfs[\"MSOA_ETH_2011\"][[\"MSOAID\",\"total_population\",\n",
    "                                                 \"PopAsianNbhd%\"]]\n",
    "dfs[\"MSOA_ETH_2011_mod\"].rename(columns = {'MSOAID': \"msoa11cd\",\n",
    "                                       \"PopAsianNbhd%\": \"asian_population_percentage\"\n",
    "                                       }, inplace = True)"
   ]
  },
  {
   "cell_type": "code",
   "execution_count": 12,
   "metadata": {},
   "outputs": [
    {
     "name": "stderr",
     "output_type": "stream",
     "text": [
      "<ipython-input-12-d04bd8949ae9>:1: SettingWithCopyWarning: \n",
      "A value is trying to be set on a copy of a slice from a DataFrame.\n",
      "Try using .loc[row_indexer,col_indexer] = value instead\n",
      "\n",
      "See the caveats in the documentation: https://pandas.pydata.org/pandas-docs/stable/user_guide/indexing.html#returning-a-view-versus-a-copy\n",
      "  dfs[\"MSOA_ETH_2011_mod\"][\"asian_population_count\"] = dfs[\"MSOA_ETH_2011_mod\"][\"asian_population_percentage\"] * dfs[\"MSOA_ETH_2011_mod\"][\"total_population\"]\n"
     ]
    }
   ],
   "source": [
    "dfs[\"MSOA_ETH_2011_mod\"][\"asian_population_count\"] = dfs[\"MSOA_ETH_2011_mod\"][\"asian_population_percentage\"] * dfs[\"MSOA_ETH_2011_mod\"][\"total_population\"]"
   ]
  },
  {
   "cell_type": "code",
   "execution_count": 13,
   "metadata": {
    "colab": {
     "base_uri": "https://localhost:8080/",
     "height": 0
    },
    "id": "CXi9XJijWmjU",
    "outputId": "463352cc-0c6a-4dc7-f22b-46ff4788540a"
   },
   "outputs": [
    {
     "data": {
      "text/html": [
       "<div>\n",
       "<style scoped>\n",
       "    .dataframe tbody tr th:only-of-type {\n",
       "        vertical-align: middle;\n",
       "    }\n",
       "\n",
       "    .dataframe tbody tr th {\n",
       "        vertical-align: top;\n",
       "    }\n",
       "\n",
       "    .dataframe thead th {\n",
       "        text-align: right;\n",
       "    }\n",
       "</style>\n",
       "<table border=\"1\" class=\"dataframe\">\n",
       "  <thead>\n",
       "    <tr style=\"text-align: right;\">\n",
       "      <th></th>\n",
       "      <th>msoa11cd</th>\n",
       "      <th>total_population</th>\n",
       "      <th>asian_population_percentage</th>\n",
       "      <th>asian_population_count</th>\n",
       "    </tr>\n",
       "  </thead>\n",
       "  <tbody>\n",
       "    <tr>\n",
       "      <th>0</th>\n",
       "      <td>E02004753</td>\n",
       "      <td>10115</td>\n",
       "      <td>0.039743</td>\n",
       "      <td>402.0</td>\n",
       "    </tr>\n",
       "    <tr>\n",
       "      <th>1</th>\n",
       "      <td>E02004802</td>\n",
       "      <td>6854</td>\n",
       "      <td>0.129413</td>\n",
       "      <td>887.0</td>\n",
       "    </tr>\n",
       "    <tr>\n",
       "      <th>2</th>\n",
       "      <td>E02004803</td>\n",
       "      <td>7552</td>\n",
       "      <td>0.198490</td>\n",
       "      <td>1499.0</td>\n",
       "    </tr>\n",
       "  </tbody>\n",
       "</table>\n",
       "</div>"
      ],
      "text/plain": [
       "    msoa11cd  total_population  asian_population_percentage  \\\n",
       "0  E02004753             10115                     0.039743   \n",
       "1  E02004802              6854                     0.129413   \n",
       "2  E02004803              7552                     0.198490   \n",
       "\n",
       "   asian_population_count  \n",
       "0                   402.0  \n",
       "1                   887.0  \n",
       "2                  1499.0  "
      ]
     },
     "execution_count": 13,
     "metadata": {},
     "output_type": "execute_result"
    }
   ],
   "source": [
    "dfs[\"MSOA_ETH_2011_mod\"].head(3)"
   ]
  },
  {
   "cell_type": "markdown",
   "metadata": {
    "id": "2y8fEMfNjVo_"
   },
   "source": [
    "## Obtaining income data of UK\n",
    "This proved to be a bit trickier since by default, non-browser requests are blocked from the source domain. Therefore, the requests library was used."
   ]
  },
  {
   "cell_type": "code",
   "execution_count": 14,
   "metadata": {
    "colab": {
     "base_uri": "https://localhost:8080/",
     "height": 0
    },
    "id": "RddcT32xjY86",
    "outputId": "d1c3abdd-8389-40ec-fea7-3c6f60f18c19"
   },
   "outputs": [
    {
     "data": {
      "text/html": [
       "<div>\n",
       "<style scoped>\n",
       "    .dataframe tbody tr th:only-of-type {\n",
       "        vertical-align: middle;\n",
       "    }\n",
       "\n",
       "    .dataframe tbody tr th {\n",
       "        vertical-align: top;\n",
       "    }\n",
       "\n",
       "    .dataframe thead th {\n",
       "        text-align: right;\n",
       "    }\n",
       "</style>\n",
       "<table border=\"1\" class=\"dataframe\">\n",
       "  <thead>\n",
       "    <tr style=\"text-align: right;\">\n",
       "      <th></th>\n",
       "      <th>MSOA code</th>\n",
       "      <th>MSOA name</th>\n",
       "      <th>Local authority code</th>\n",
       "      <th>Local authority name</th>\n",
       "      <th>Region code</th>\n",
       "      <th>Region name</th>\n",
       "      <th>Total annual income (Ł)</th>\n",
       "      <th>Upper confidence limit (Ł)</th>\n",
       "      <th>Lower confidence limit (Ł)</th>\n",
       "      <th>Confidence interval (Ł)</th>\n",
       "    </tr>\n",
       "  </thead>\n",
       "  <tbody>\n",
       "    <tr>\n",
       "      <th>0</th>\n",
       "      <td>E02004297</td>\n",
       "      <td>County Durham 001</td>\n",
       "      <td>E06000047</td>\n",
       "      <td>County Durham</td>\n",
       "      <td>E12000001</td>\n",
       "      <td>North East</td>\n",
       "      <td>39,800</td>\n",
       "      <td>47,800</td>\n",
       "      <td>33,100</td>\n",
       "      <td>14,700</td>\n",
       "    </tr>\n",
       "    <tr>\n",
       "      <th>1</th>\n",
       "      <td>E02004290</td>\n",
       "      <td>County Durham 002</td>\n",
       "      <td>E06000047</td>\n",
       "      <td>County Durham</td>\n",
       "      <td>E12000001</td>\n",
       "      <td>North East</td>\n",
       "      <td>42,200</td>\n",
       "      <td>50,700</td>\n",
       "      <td>35,200</td>\n",
       "      <td>15,500</td>\n",
       "    </tr>\n",
       "    <tr>\n",
       "      <th>2</th>\n",
       "      <td>E02004298</td>\n",
       "      <td>County Durham 003</td>\n",
       "      <td>E06000047</td>\n",
       "      <td>County Durham</td>\n",
       "      <td>E12000001</td>\n",
       "      <td>North East</td>\n",
       "      <td>40,100</td>\n",
       "      <td>48,000</td>\n",
       "      <td>33,400</td>\n",
       "      <td>14,600</td>\n",
       "    </tr>\n",
       "  </tbody>\n",
       "</table>\n",
       "</div>"
      ],
      "text/plain": [
       "   MSOA code          MSOA name Local authority code Local authority name  \\\n",
       "0  E02004297  County Durham 001            E06000047        County Durham   \n",
       "1  E02004290  County Durham 002            E06000047        County Durham   \n",
       "2  E02004298  County Durham 003            E06000047        County Durham   \n",
       "\n",
       "  Region code Region name Total annual income (Ł) Upper confidence limit (Ł)  \\\n",
       "0   E12000001  North East                  39,800                     47,800   \n",
       "1   E12000001  North East                  42,200                     50,700   \n",
       "2   E12000001  North East                  40,100                     48,000   \n",
       "\n",
       "  Lower confidence limit (Ł) Confidence interval (Ł)  \n",
       "0                     33,100                  14,700  \n",
       "1                     35,200                  15,500  \n",
       "2                     33,400                  14,600  "
      ]
     },
     "execution_count": 14,
     "metadata": {},
     "output_type": "execute_result"
    }
   ],
   "source": [
    "faking_browser = {'User-Agent': 'Mozilla/5.0 (X11; Ubuntu; Linux x86_64; rv:77.0) Gecko/20100101 Firefox/77.0'}\n",
    "req = requests.get(urls[\"MSOA_INCOME_2018\"], headers = faking_browser)\n",
    "io_buff = io.BytesIO(req.content)\n",
    "dfs[\"MSOA_INCOME_2018\"] = pd.read_csv(io_buff, skiprows = 4, encoding= \"ISO8859-2\")\n",
    "dfs[\"MSOA_INCOME_2018\"].head(3)"
   ]
  },
  {
   "cell_type": "markdown",
   "metadata": {
    "id": "4746SXUAjuQC"
   },
   "source": [
    "### Filtering the Dataframe to relevant features\n",
    "Additionally, the result set will be limited to MSOA ID's whose parent region is London."
   ]
  },
  {
   "cell_type": "code",
   "execution_count": 15,
   "metadata": {
    "id": "mQCPG0Toju0y"
   },
   "outputs": [],
   "source": [
    "dfs[\"MSOA_INCOME_2018_mod\"] =\\\n",
    " dfs[\"MSOA_INCOME_2018\"][dfs[\"MSOA_INCOME_2018\"][\"Region name\"].str.match(\"London\")]\n",
    "dfs[\"MSOA_INCOME_2018_mod\"] = dfs[\"MSOA_INCOME_2018_mod\"]\\\n",
    "[[\"MSOA code\", \"Region name\", \"Total annual income (Ł)\"]]"
   ]
  },
  {
   "cell_type": "code",
   "execution_count": 16,
   "metadata": {
    "colab": {
     "base_uri": "https://localhost:8080/"
    },
    "id": "I78wgzp_pVZ_",
    "outputId": "11400ac2-9e4b-4c29-8b2f-c673e8ad000b"
   },
   "outputs": [
    {
     "data": {
      "text/plain": [
       "dtype('O')"
      ]
     },
     "execution_count": 16,
     "metadata": {},
     "output_type": "execute_result"
    }
   ],
   "source": [
    "dfs[\"MSOA_INCOME_2018_mod\"][\"Total annual income (Ł)\"].dtypes"
   ]
  },
  {
   "cell_type": "code",
   "execution_count": 17,
   "metadata": {
    "id": "0qKSyHlZpKvl"
   },
   "outputs": [],
   "source": [
    "#### Fixing income formatting related value errors\n",
    "dfs[\"MSOA_INCOME_2018_mod\"][\"Total annual income (Ł)\"] = dfs[\"MSOA_INCOME_2018_mod\"][\"Total annual income (Ł)\"].str.replace(\",\", \"\").map(int)"
   ]
  },
  {
   "cell_type": "code",
   "execution_count": 18,
   "metadata": {
    "id": "oZyusgu-WmjW"
   },
   "outputs": [],
   "source": [
    "dfs[\"MSOA_INCOME_2018_mod\"].rename(columns = {\"MSOA code\": \"msoa11cd\", \"Region name\": \"region_name\", \"Total annual income (Ł)\": \"total_annual_income\"}, inplace = True)"
   ]
  },
  {
   "cell_type": "code",
   "execution_count": 19,
   "metadata": {
    "colab": {
     "base_uri": "https://localhost:8080/",
     "height": 0
    },
    "id": "PqtWTCQ4WmjW",
    "outputId": "6b3b209a-25f0-4494-cd61-540a9552b1e3"
   },
   "outputs": [
    {
     "data": {
      "text/html": [
       "<div>\n",
       "<style scoped>\n",
       "    .dataframe tbody tr th:only-of-type {\n",
       "        vertical-align: middle;\n",
       "    }\n",
       "\n",
       "    .dataframe tbody tr th {\n",
       "        vertical-align: top;\n",
       "    }\n",
       "\n",
       "    .dataframe thead th {\n",
       "        text-align: right;\n",
       "    }\n",
       "</style>\n",
       "<table border=\"1\" class=\"dataframe\">\n",
       "  <thead>\n",
       "    <tr style=\"text-align: right;\">\n",
       "      <th></th>\n",
       "      <th>msoa11cd</th>\n",
       "      <th>region_name</th>\n",
       "      <th>total_annual_income</th>\n",
       "    </tr>\n",
       "  </thead>\n",
       "  <tbody>\n",
       "    <tr>\n",
       "      <th>4000</th>\n",
       "      <td>E02000166</td>\n",
       "      <td>London</td>\n",
       "      <td>52900</td>\n",
       "    </tr>\n",
       "    <tr>\n",
       "      <th>4001</th>\n",
       "      <td>E02000167</td>\n",
       "      <td>London</td>\n",
       "      <td>68200</td>\n",
       "    </tr>\n",
       "    <tr>\n",
       "      <th>4002</th>\n",
       "      <td>E02000168</td>\n",
       "      <td>London</td>\n",
       "      <td>57000</td>\n",
       "    </tr>\n",
       "  </tbody>\n",
       "</table>\n",
       "</div>"
      ],
      "text/plain": [
       "       msoa11cd region_name  total_annual_income\n",
       "4000  E02000166      London                52900\n",
       "4001  E02000167      London                68200\n",
       "4002  E02000168      London                57000"
      ]
     },
     "execution_count": 19,
     "metadata": {},
     "output_type": "execute_result"
    }
   ],
   "source": [
    "dfs[\"MSOA_INCOME_2018_mod\"].head(3)"
   ]
  },
  {
   "cell_type": "markdown",
   "metadata": {
    "id": "fuUmfOqfWmjW"
   },
   "source": [
    "### Obtaining average rent data"
   ]
  },
  {
   "cell_type": "code",
   "execution_count": 20,
   "metadata": {
    "id": "Kx2pjtIzWmjX"
   },
   "outputs": [],
   "source": [
    "raw_data = requests.get(urls['LSOA_AVERAGE_RENTS'], headers = faking_browser).content"
   ]
  },
  {
   "cell_type": "code",
   "execution_count": 21,
   "metadata": {
    "colab": {
     "base_uri": "https://localhost:8080/"
    },
    "id": "uEYrYortWmjX",
    "outputId": "47426cc9-79a9-4be8-ede9-2b9aac2cbdb1"
   },
   "outputs": [
    {
     "data": {
      "text/plain": [
       "['Metadata', 'Summary', 'Pivot Table', 'Raw data']"
      ]
     },
     "execution_count": 21,
     "metadata": {},
     "output_type": "execute_result"
    }
   ],
   "source": [
    "io_buff = io.BytesIO(raw_data)\n",
    "excel_file = pd.ExcelFile(io_buff)\n",
    "excel_file.sheet_names"
   ]
  },
  {
   "cell_type": "code",
   "execution_count": 22,
   "metadata": {
    "id": "enXGffIYWmjX"
   },
   "outputs": [],
   "source": [
    "dfs['LSOA_AVERAGE_RENTS'] = excel_file.parse('Raw data', skiprows = 2)"
   ]
  },
  {
   "cell_type": "code",
   "execution_count": 23,
   "metadata": {
    "colab": {
     "base_uri": "https://localhost:8080/",
     "height": 0
    },
    "id": "1uFQxPdpWmjX",
    "outputId": "fed5e0d4-a38f-49ca-db5e-abbf00abbaed"
   },
   "outputs": [
    {
     "data": {
      "text/html": [
       "<div>\n",
       "<style scoped>\n",
       "    .dataframe tbody tr th:only-of-type {\n",
       "        vertical-align: middle;\n",
       "    }\n",
       "\n",
       "    .dataframe tbody tr th {\n",
       "        vertical-align: top;\n",
       "    }\n",
       "\n",
       "    .dataframe thead th {\n",
       "        text-align: right;\n",
       "    }\n",
       "</style>\n",
       "<table border=\"1\" class=\"dataframe\">\n",
       "  <thead>\n",
       "    <tr style=\"text-align: right;\">\n",
       "      <th></th>\n",
       "      <th>Year</th>\n",
       "      <th>Quarter</th>\n",
       "      <th>Code</th>\n",
       "      <th>Area</th>\n",
       "      <th>Category</th>\n",
       "      <th>Count of rents</th>\n",
       "      <th>Average</th>\n",
       "      <th>Lower quartile</th>\n",
       "      <th>Median</th>\n",
       "      <th>Upper quartile</th>\n",
       "    </tr>\n",
       "  </thead>\n",
       "  <tbody>\n",
       "    <tr>\n",
       "      <th>0</th>\n",
       "      <td>2011</td>\n",
       "      <td>Q2</td>\n",
       "      <td>E09000001</td>\n",
       "      <td>City of London</td>\n",
       "      <td>Room</td>\n",
       "      <td>-</td>\n",
       "      <td>-</td>\n",
       "      <td>-</td>\n",
       "      <td>-</td>\n",
       "      <td>-</td>\n",
       "    </tr>\n",
       "    <tr>\n",
       "      <th>1</th>\n",
       "      <td>2011</td>\n",
       "      <td>Q2</td>\n",
       "      <td>E09000002</td>\n",
       "      <td>Barking and Dagenham</td>\n",
       "      <td>Room</td>\n",
       "      <td>92</td>\n",
       "      <td>336</td>\n",
       "      <td>282</td>\n",
       "      <td>347</td>\n",
       "      <td>390</td>\n",
       "    </tr>\n",
       "    <tr>\n",
       "      <th>2</th>\n",
       "      <td>2011</td>\n",
       "      <td>Q2</td>\n",
       "      <td>E09000003</td>\n",
       "      <td>Barnet</td>\n",
       "      <td>Room</td>\n",
       "      <td>945</td>\n",
       "      <td>450</td>\n",
       "      <td>399</td>\n",
       "      <td>433</td>\n",
       "      <td>500</td>\n",
       "    </tr>\n",
       "  </tbody>\n",
       "</table>\n",
       "</div>"
      ],
      "text/plain": [
       "   Year Quarter       Code                  Area Category Count of rents  \\\n",
       "0  2011      Q2  E09000001        City of London     Room              -   \n",
       "1  2011      Q2  E09000002  Barking and Dagenham     Room             92   \n",
       "2  2011      Q2  E09000003                Barnet     Room            945   \n",
       "\n",
       "  Average Lower quartile Median Upper quartile  \n",
       "0       -              -      -              -  \n",
       "1     336            282    347            390  \n",
       "2     450            399    433            500  "
      ]
     },
     "execution_count": 23,
     "metadata": {},
     "output_type": "execute_result"
    }
   ],
   "source": [
    "dfs['LSOA_AVERAGE_RENTS'].head(3)"
   ]
  },
  {
   "cell_type": "code",
   "execution_count": 24,
   "metadata": {
    "id": "EUqDJQIfWmjX"
   },
   "outputs": [],
   "source": [
    "dfs['LSOA_AVERAGE_RENTS_MOD'] = dfs['LSOA_AVERAGE_RENTS'][dfs['LSOA_AVERAGE_RENTS'][\"Year\"] == 2019]"
   ]
  },
  {
   "cell_type": "code",
   "execution_count": 25,
   "metadata": {
    "colab": {
     "base_uri": "https://localhost:8080/"
    },
    "id": "eG-69ecIWmjX",
    "outputId": "502cab9a-ed81-4ec7-faaf-b9020f988830"
   },
   "outputs": [
    {
     "data": {
      "text/plain": [
       "array(['Room', 'Studio', 'One Bedroom', 'Two Bedroom', 'Three Bedroom',\n",
       "       'Four or more Bedrooms', 'All categories'], dtype=object)"
      ]
     },
     "execution_count": 25,
     "metadata": {},
     "output_type": "execute_result"
    }
   ],
   "source": [
    "dfs['LSOA_AVERAGE_RENTS_MOD'][\"Category\"].unique()"
   ]
  },
  {
   "cell_type": "code",
   "execution_count": 26,
   "metadata": {
    "colab": {
     "base_uri": "https://localhost:8080/",
     "height": 0
    },
    "id": "-aqmLpnvWmjX",
    "outputId": "35bb65bb-0f42-4023-c02c-f8329ff38af9"
   },
   "outputs": [
    {
     "data": {
      "text/html": [
       "<div>\n",
       "<style scoped>\n",
       "    .dataframe tbody tr th:only-of-type {\n",
       "        vertical-align: middle;\n",
       "    }\n",
       "\n",
       "    .dataframe tbody tr th {\n",
       "        vertical-align: top;\n",
       "    }\n",
       "\n",
       "    .dataframe thead th {\n",
       "        text-align: right;\n",
       "    }\n",
       "</style>\n",
       "<table border=\"1\" class=\"dataframe\">\n",
       "  <thead>\n",
       "    <tr style=\"text-align: right;\">\n",
       "      <th></th>\n",
       "      <th>Year</th>\n",
       "      <th>Quarter</th>\n",
       "      <th>Code</th>\n",
       "      <th>Area</th>\n",
       "      <th>Count of rents</th>\n",
       "      <th>Average</th>\n",
       "      <th>Lower quartile</th>\n",
       "      <th>Median</th>\n",
       "      <th>Upper quartile</th>\n",
       "    </tr>\n",
       "    <tr>\n",
       "      <th>Category</th>\n",
       "      <th></th>\n",
       "      <th></th>\n",
       "      <th></th>\n",
       "      <th></th>\n",
       "      <th></th>\n",
       "      <th></th>\n",
       "      <th></th>\n",
       "      <th></th>\n",
       "      <th></th>\n",
       "    </tr>\n",
       "  </thead>\n",
       "  <tbody>\n",
       "    <tr>\n",
       "      <th>All categories</th>\n",
       "      <td>44</td>\n",
       "      <td>44</td>\n",
       "      <td>44</td>\n",
       "      <td>44</td>\n",
       "      <td>44</td>\n",
       "      <td>44</td>\n",
       "      <td>44</td>\n",
       "      <td>44</td>\n",
       "      <td>44</td>\n",
       "    </tr>\n",
       "    <tr>\n",
       "      <th>Four or more Bedrooms</th>\n",
       "      <td>44</td>\n",
       "      <td>44</td>\n",
       "      <td>44</td>\n",
       "      <td>44</td>\n",
       "      <td>44</td>\n",
       "      <td>44</td>\n",
       "      <td>44</td>\n",
       "      <td>44</td>\n",
       "      <td>44</td>\n",
       "    </tr>\n",
       "    <tr>\n",
       "      <th>One Bedroom</th>\n",
       "      <td>44</td>\n",
       "      <td>44</td>\n",
       "      <td>44</td>\n",
       "      <td>44</td>\n",
       "      <td>44</td>\n",
       "      <td>44</td>\n",
       "      <td>44</td>\n",
       "      <td>44</td>\n",
       "      <td>44</td>\n",
       "    </tr>\n",
       "    <tr>\n",
       "      <th>Room</th>\n",
       "      <td>44</td>\n",
       "      <td>44</td>\n",
       "      <td>44</td>\n",
       "      <td>44</td>\n",
       "      <td>44</td>\n",
       "      <td>44</td>\n",
       "      <td>44</td>\n",
       "      <td>44</td>\n",
       "      <td>44</td>\n",
       "    </tr>\n",
       "    <tr>\n",
       "      <th>Studio</th>\n",
       "      <td>44</td>\n",
       "      <td>44</td>\n",
       "      <td>44</td>\n",
       "      <td>44</td>\n",
       "      <td>44</td>\n",
       "      <td>44</td>\n",
       "      <td>44</td>\n",
       "      <td>44</td>\n",
       "      <td>44</td>\n",
       "    </tr>\n",
       "    <tr>\n",
       "      <th>Three Bedroom</th>\n",
       "      <td>44</td>\n",
       "      <td>44</td>\n",
       "      <td>44</td>\n",
       "      <td>44</td>\n",
       "      <td>44</td>\n",
       "      <td>44</td>\n",
       "      <td>44</td>\n",
       "      <td>44</td>\n",
       "      <td>44</td>\n",
       "    </tr>\n",
       "    <tr>\n",
       "      <th>Two Bedroom</th>\n",
       "      <td>44</td>\n",
       "      <td>44</td>\n",
       "      <td>44</td>\n",
       "      <td>44</td>\n",
       "      <td>44</td>\n",
       "      <td>44</td>\n",
       "      <td>44</td>\n",
       "      <td>44</td>\n",
       "      <td>44</td>\n",
       "    </tr>\n",
       "  </tbody>\n",
       "</table>\n",
       "</div>"
      ],
      "text/plain": [
       "                       Year  Quarter  Code  Area  Count of rents  Average  \\\n",
       "Category                                                                    \n",
       "All categories           44       44    44    44              44       44   \n",
       "Four or more Bedrooms    44       44    44    44              44       44   \n",
       "One Bedroom              44       44    44    44              44       44   \n",
       "Room                     44       44    44    44              44       44   \n",
       "Studio                   44       44    44    44              44       44   \n",
       "Three Bedroom            44       44    44    44              44       44   \n",
       "Two Bedroom              44       44    44    44              44       44   \n",
       "\n",
       "                       Lower quartile  Median  Upper quartile  \n",
       "Category                                                       \n",
       "All categories                     44      44              44  \n",
       "Four or more Bedrooms              44      44              44  \n",
       "One Bedroom                        44      44              44  \n",
       "Room                               44      44              44  \n",
       "Studio                             44      44              44  \n",
       "Three Bedroom                      44      44              44  \n",
       "Two Bedroom                        44      44              44  "
      ]
     },
     "execution_count": 26,
     "metadata": {},
     "output_type": "execute_result"
    }
   ],
   "source": [
    "dfs['LSOA_AVERAGE_RENTS_MOD'].groupby(by=\"Category\").count()"
   ]
  },
  {
   "cell_type": "code",
   "execution_count": 27,
   "metadata": {
    "id": "zqU7iv1WWmjY"
   },
   "outputs": [],
   "source": [
    "dfs['LSOA_AVERAGE_RENTS_MOD'] = dfs['LSOA_AVERAGE_RENTS_MOD'][[\"Code\", \"Category\",\"Average\"]][dfs['LSOA_AVERAGE_RENTS_MOD'][\"Category\"] == \"All categories\"]"
   ]
  },
  {
   "cell_type": "code",
   "execution_count": 28,
   "metadata": {
    "colab": {
     "base_uri": "https://localhost:8080/",
     "height": 0
    },
    "id": "-fXRwFWzWmjY",
    "outputId": "dd1fc4c5-f615-4596-fd5a-067a2289cd9d"
   },
   "outputs": [
    {
     "data": {
      "text/html": [
       "<div>\n",
       "<style scoped>\n",
       "    .dataframe tbody tr th:only-of-type {\n",
       "        vertical-align: middle;\n",
       "    }\n",
       "\n",
       "    .dataframe tbody tr th {\n",
       "        vertical-align: top;\n",
       "    }\n",
       "\n",
       "    .dataframe thead th {\n",
       "        text-align: right;\n",
       "    }\n",
       "</style>\n",
       "<table border=\"1\" class=\"dataframe\">\n",
       "  <thead>\n",
       "    <tr style=\"text-align: right;\">\n",
       "      <th></th>\n",
       "      <th>Code</th>\n",
       "      <th>Category</th>\n",
       "      <th>Average</th>\n",
       "    </tr>\n",
       "  </thead>\n",
       "  <tbody>\n",
       "    <tr>\n",
       "      <th>6116</th>\n",
       "      <td>E09000001</td>\n",
       "      <td>All categories</td>\n",
       "      <td>2377</td>\n",
       "    </tr>\n",
       "    <tr>\n",
       "      <th>6117</th>\n",
       "      <td>E09000002</td>\n",
       "      <td>All categories</td>\n",
       "      <td>1192</td>\n",
       "    </tr>\n",
       "    <tr>\n",
       "      <th>6118</th>\n",
       "      <td>E09000003</td>\n",
       "      <td>All categories</td>\n",
       "      <td>1548</td>\n",
       "    </tr>\n",
       "    <tr>\n",
       "      <th>6119</th>\n",
       "      <td>E09000004</td>\n",
       "      <td>All categories</td>\n",
       "      <td>1084</td>\n",
       "    </tr>\n",
       "    <tr>\n",
       "      <th>6120</th>\n",
       "      <td>E09000005</td>\n",
       "      <td>All categories</td>\n",
       "      <td>1578</td>\n",
       "    </tr>\n",
       "  </tbody>\n",
       "</table>\n",
       "</div>"
      ],
      "text/plain": [
       "           Code        Category Average\n",
       "6116  E09000001  All categories    2377\n",
       "6117  E09000002  All categories    1192\n",
       "6118  E09000003  All categories    1548\n",
       "6119  E09000004  All categories    1084\n",
       "6120  E09000005  All categories    1578"
      ]
     },
     "execution_count": 28,
     "metadata": {},
     "output_type": "execute_result"
    }
   ],
   "source": [
    "dfs['LSOA_AVERAGE_RENTS_MOD'].head()"
   ]
  },
  {
   "cell_type": "code",
   "execution_count": 29,
   "metadata": {
    "id": "BMLxstKUWmjY"
   },
   "outputs": [],
   "source": [
    "dfs['LSOA_AVERAGE_RENTS_MOD'].drop(columns = [\"Category\"], inplace = True)\n",
    "dfs['LSOA_AVERAGE_RENTS_MOD'].columns = [\"lad17cd\", \"average_rent\"]"
   ]
  },
  {
   "cell_type": "markdown",
   "metadata": {
    "id": "gumx99VxWmjY"
   },
   "source": [
    "### Obtaining output area code mappings"
   ]
  },
  {
   "cell_type": "code",
   "execution_count": 30,
   "metadata": {
    "id": "Aij1eHexWmjY"
   },
   "outputs": [],
   "source": [
    "dfs[\"MSOA_TO_LSOA_MAPPING\"] = pd.read_csv(urls['MSOA_TO_LSOA_MAPPING'])"
   ]
  },
  {
   "cell_type": "code",
   "execution_count": 31,
   "metadata": {
    "colab": {
     "base_uri": "https://localhost:8080/",
     "height": 0
    },
    "id": "E2E8N9a-WmjY",
    "outputId": "a999183d-38c5-463b-cb1d-cccd55019aef"
   },
   "outputs": [
    {
     "data": {
      "text/html": [
       "<div>\n",
       "<style scoped>\n",
       "    .dataframe tbody tr th:only-of-type {\n",
       "        vertical-align: middle;\n",
       "    }\n",
       "\n",
       "    .dataframe tbody tr th {\n",
       "        vertical-align: top;\n",
       "    }\n",
       "\n",
       "    .dataframe thead th {\n",
       "        text-align: right;\n",
       "    }\n",
       "</style>\n",
       "<table border=\"1\" class=\"dataframe\">\n",
       "  <thead>\n",
       "    <tr style=\"text-align: right;\">\n",
       "      <th></th>\n",
       "      <th>OA11CD</th>\n",
       "      <th>OAC11CD</th>\n",
       "      <th>OAC11NM</th>\n",
       "      <th>LSOA11CD</th>\n",
       "      <th>LSOA11NM</th>\n",
       "      <th>SOAC11CD</th>\n",
       "      <th>SOAC11NM</th>\n",
       "      <th>MSOA11CD</th>\n",
       "      <th>MSOA11NM</th>\n",
       "      <th>LAD17CD</th>\n",
       "      <th>LAD17NM</th>\n",
       "      <th>LACCD</th>\n",
       "      <th>LACNM</th>\n",
       "      <th>RGN11CD</th>\n",
       "      <th>RGN11NM</th>\n",
       "      <th>CTRY11CD</th>\n",
       "      <th>CTRY11NM</th>\n",
       "      <th>FID</th>\n",
       "    </tr>\n",
       "  </thead>\n",
       "  <tbody>\n",
       "    <tr>\n",
       "      <th>0</th>\n",
       "      <td>E00060343</td>\n",
       "      <td>7d1</td>\n",
       "      <td>Ageing Communities and Families</td>\n",
       "      <td>E01011966</td>\n",
       "      <td>Hartlepool 006B</td>\n",
       "      <td>5b</td>\n",
       "      <td>Aspiring urban households</td>\n",
       "      <td>E02002488</td>\n",
       "      <td>Hartlepool 006</td>\n",
       "      <td>E06000001</td>\n",
       "      <td>Hartlepool</td>\n",
       "      <td>6a2r</td>\n",
       "      <td>Mining Legacy</td>\n",
       "      <td>E12000001</td>\n",
       "      <td>North East</td>\n",
       "      <td>E92000001</td>\n",
       "      <td>England</td>\n",
       "      <td>1</td>\n",
       "    </tr>\n",
       "    <tr>\n",
       "      <th>1</th>\n",
       "      <td>E00174083</td>\n",
       "      <td>7d1</td>\n",
       "      <td>Ageing Communities and Families</td>\n",
       "      <td>E01011974</td>\n",
       "      <td>Hartlepool 005B</td>\n",
       "      <td>4b</td>\n",
       "      <td>Constrained renters</td>\n",
       "      <td>E02002487</td>\n",
       "      <td>Hartlepool 005</td>\n",
       "      <td>E06000001</td>\n",
       "      <td>Hartlepool</td>\n",
       "      <td>6a2r</td>\n",
       "      <td>Mining Legacy</td>\n",
       "      <td>E12000001</td>\n",
       "      <td>North East</td>\n",
       "      <td>E92000001</td>\n",
       "      <td>England</td>\n",
       "      <td>2</td>\n",
       "    </tr>\n",
       "    <tr>\n",
       "      <th>2</th>\n",
       "      <td>E00060349</td>\n",
       "      <td>6a4</td>\n",
       "      <td>Ageing in Suburbia</td>\n",
       "      <td>E01011965</td>\n",
       "      <td>Hartlepool 006A</td>\n",
       "      <td>8b</td>\n",
       "      <td>Ageing suburbanites</td>\n",
       "      <td>E02002488</td>\n",
       "      <td>Hartlepool 006</td>\n",
       "      <td>E06000001</td>\n",
       "      <td>Hartlepool</td>\n",
       "      <td>6a2r</td>\n",
       "      <td>Mining Legacy</td>\n",
       "      <td>E12000001</td>\n",
       "      <td>North East</td>\n",
       "      <td>E92000001</td>\n",
       "      <td>England</td>\n",
       "      <td>3</td>\n",
       "    </tr>\n",
       "  </tbody>\n",
       "</table>\n",
       "</div>"
      ],
      "text/plain": [
       "      OA11CD OAC11CD                          OAC11NM   LSOA11CD  \\\n",
       "0  E00060343     7d1  Ageing Communities and Families  E01011966   \n",
       "1  E00174083     7d1  Ageing Communities and Families  E01011974   \n",
       "2  E00060349     6a4               Ageing in Suburbia  E01011965   \n",
       "\n",
       "          LSOA11NM SOAC11CD                   SOAC11NM   MSOA11CD  \\\n",
       "0  Hartlepool 006B       5b  Aspiring urban households  E02002488   \n",
       "1  Hartlepool 005B       4b        Constrained renters  E02002487   \n",
       "2  Hartlepool 006A       8b        Ageing suburbanites  E02002488   \n",
       "\n",
       "         MSOA11NM    LAD17CD     LAD17NM LACCD          LACNM    RGN11CD  \\\n",
       "0  Hartlepool 006  E06000001  Hartlepool  6a2r  Mining Legacy  E12000001   \n",
       "1  Hartlepool 005  E06000001  Hartlepool  6a2r  Mining Legacy  E12000001   \n",
       "2  Hartlepool 006  E06000001  Hartlepool  6a2r  Mining Legacy  E12000001   \n",
       "\n",
       "      RGN11NM   CTRY11CD CTRY11NM  FID  \n",
       "0  North East  E92000001  England    1  \n",
       "1  North East  E92000001  England    2  \n",
       "2  North East  E92000001  England    3  "
      ]
     },
     "execution_count": 31,
     "metadata": {},
     "output_type": "execute_result"
    }
   ],
   "source": [
    "dfs[\"MSOA_TO_LSOA_MAPPING\"].head(3)"
   ]
  },
  {
   "cell_type": "code",
   "execution_count": 32,
   "metadata": {
    "id": "-tg09gLSWmjY"
   },
   "outputs": [],
   "source": [
    "dfs[\"MSOA_TO_LSOA_MAPPING_MOD\"] = dfs[\"MSOA_TO_LSOA_MAPPING\"][[\"LAD17CD\", \"MSOA11CD\"]]"
   ]
  },
  {
   "cell_type": "code",
   "execution_count": 33,
   "metadata": {
    "colab": {
     "base_uri": "https://localhost:8080/"
    },
    "id": "vtreRa6TWmjZ",
    "outputId": "ef416e28-a62d-440f-db9d-64ea1ed38e69"
   },
   "outputs": [
    {
     "data": {
      "text/plain": [
       "(227759, 2)"
      ]
     },
     "execution_count": 33,
     "metadata": {},
     "output_type": "execute_result"
    }
   ],
   "source": [
    "dfs[\"MSOA_TO_LSOA_MAPPING_MOD\"].shape"
   ]
  },
  {
   "cell_type": "code",
   "execution_count": 34,
   "metadata": {
    "id": "RXpAu9ouWmjZ"
   },
   "outputs": [],
   "source": [
    "dfs[\"MSOA_TO_LSOA_MAPPING_MOD\"] = dfs[\"MSOA_TO_LSOA_MAPPING_MOD\"].drop_duplicates()"
   ]
  },
  {
   "cell_type": "code",
   "execution_count": 35,
   "metadata": {
    "colab": {
     "base_uri": "https://localhost:8080/"
    },
    "id": "ztmgXlL8WmjZ",
    "outputId": "62661325-550f-414e-f1a8-6a1017646dd9"
   },
   "outputs": [
    {
     "data": {
      "text/plain": [
       "(8480, 2)"
      ]
     },
     "execution_count": 35,
     "metadata": {},
     "output_type": "execute_result"
    }
   ],
   "source": [
    "dfs[\"MSOA_TO_LSOA_MAPPING_MOD\"].shape"
   ]
  },
  {
   "cell_type": "code",
   "execution_count": 36,
   "metadata": {
    "id": "VR7YncfdWmjZ"
   },
   "outputs": [],
   "source": [
    "dfs[\"MSOA_TO_LSOA_MAPPING_MOD\"].rename(columns = {\"LAD17CD\": \"LAD17CD\".lower(), \"MSOA11CD\": \"MSOA11CD\".lower()}, inplace = True)"
   ]
  },
  {
   "cell_type": "code",
   "execution_count": 37,
   "metadata": {
    "colab": {
     "base_uri": "https://localhost:8080/",
     "height": 0
    },
    "id": "omeZRGgZWmjZ",
    "outputId": "3d5f12f0-de01-4611-b9f9-84c92a9bc0ce"
   },
   "outputs": [
    {
     "data": {
      "text/html": [
       "<div>\n",
       "<style scoped>\n",
       "    .dataframe tbody tr th:only-of-type {\n",
       "        vertical-align: middle;\n",
       "    }\n",
       "\n",
       "    .dataframe tbody tr th {\n",
       "        vertical-align: top;\n",
       "    }\n",
       "\n",
       "    .dataframe thead th {\n",
       "        text-align: right;\n",
       "    }\n",
       "</style>\n",
       "<table border=\"1\" class=\"dataframe\">\n",
       "  <thead>\n",
       "    <tr style=\"text-align: right;\">\n",
       "      <th></th>\n",
       "      <th>lad17cd</th>\n",
       "      <th>msoa11cd</th>\n",
       "    </tr>\n",
       "  </thead>\n",
       "  <tbody>\n",
       "    <tr>\n",
       "      <th>0</th>\n",
       "      <td>E06000001</td>\n",
       "      <td>E02002488</td>\n",
       "    </tr>\n",
       "    <tr>\n",
       "      <th>1</th>\n",
       "      <td>E06000001</td>\n",
       "      <td>E02002487</td>\n",
       "    </tr>\n",
       "    <tr>\n",
       "      <th>4</th>\n",
       "      <td>E06000001</td>\n",
       "      <td>E02002490</td>\n",
       "    </tr>\n",
       "    <tr>\n",
       "      <th>5</th>\n",
       "      <td>E06000001</td>\n",
       "      <td>E02002483</td>\n",
       "    </tr>\n",
       "    <tr>\n",
       "      <th>6</th>\n",
       "      <td>E06000001</td>\n",
       "      <td>E02002485</td>\n",
       "    </tr>\n",
       "  </tbody>\n",
       "</table>\n",
       "</div>"
      ],
      "text/plain": [
       "     lad17cd   msoa11cd\n",
       "0  E06000001  E02002488\n",
       "1  E06000001  E02002487\n",
       "4  E06000001  E02002490\n",
       "5  E06000001  E02002483\n",
       "6  E06000001  E02002485"
      ]
     },
     "execution_count": 37,
     "metadata": {},
     "output_type": "execute_result"
    }
   ],
   "source": [
    "dfs[\"MSOA_TO_LSOA_MAPPING_MOD\"].head()"
   ]
  },
  {
   "cell_type": "markdown",
   "metadata": {
    "id": "zY4HIqBzWmjZ"
   },
   "source": [
    "### Merging \"average rent\" and \"msoa to lsoa mapping\" dataframes"
   ]
  },
  {
   "cell_type": "code",
   "execution_count": 38,
   "metadata": {
    "id": "obeyJT5oWmjZ"
   },
   "outputs": [],
   "source": [
    "dfs['LSOA_AVERAGE_RENTS_MOD'] = dfs['LSOA_AVERAGE_RENTS_MOD'].merge(dfs[\"MSOA_TO_LSOA_MAPPING_MOD\"], how = \"left\", left_on = \"lad17cd\", right_on = \"lad17cd\")"
   ]
  },
  {
   "cell_type": "code",
   "execution_count": 39,
   "metadata": {
    "colab": {
     "base_uri": "https://localhost:8080/",
     "height": 0
    },
    "id": "5heH9OX-Wmja",
    "outputId": "264c63b5-7a78-4912-831b-f3df4a0dd4f4"
   },
   "outputs": [
    {
     "data": {
      "text/html": [
       "<div>\n",
       "<style scoped>\n",
       "    .dataframe tbody tr th:only-of-type {\n",
       "        vertical-align: middle;\n",
       "    }\n",
       "\n",
       "    .dataframe tbody tr th {\n",
       "        vertical-align: top;\n",
       "    }\n",
       "\n",
       "    .dataframe thead th {\n",
       "        text-align: right;\n",
       "    }\n",
       "</style>\n",
       "<table border=\"1\" class=\"dataframe\">\n",
       "  <thead>\n",
       "    <tr style=\"text-align: right;\">\n",
       "      <th></th>\n",
       "      <th>lad17cd</th>\n",
       "      <th>average_rent</th>\n",
       "      <th>msoa11cd</th>\n",
       "    </tr>\n",
       "  </thead>\n",
       "  <tbody>\n",
       "    <tr>\n",
       "      <th>0</th>\n",
       "      <td>E09000001</td>\n",
       "      <td>2377</td>\n",
       "      <td>E02000001</td>\n",
       "    </tr>\n",
       "    <tr>\n",
       "      <th>1</th>\n",
       "      <td>E09000002</td>\n",
       "      <td>1192</td>\n",
       "      <td>E02000003</td>\n",
       "    </tr>\n",
       "    <tr>\n",
       "      <th>2</th>\n",
       "      <td>E09000002</td>\n",
       "      <td>1192</td>\n",
       "      <td>E02000002</td>\n",
       "    </tr>\n",
       "  </tbody>\n",
       "</table>\n",
       "</div>"
      ],
      "text/plain": [
       "     lad17cd average_rent   msoa11cd\n",
       "0  E09000001         2377  E02000001\n",
       "1  E09000002         1192  E02000003\n",
       "2  E09000002         1192  E02000002"
      ]
     },
     "execution_count": 39,
     "metadata": {},
     "output_type": "execute_result"
    }
   ],
   "source": [
    "dfs['LSOA_AVERAGE_RENTS_MOD'].head(3)"
   ]
  },
  {
   "cell_type": "code",
   "execution_count": 40,
   "metadata": {
    "colab": {
     "base_uri": "https://localhost:8080/"
    },
    "id": "7uK3TOpPWmja",
    "outputId": "1b3fefa9-a3c3-48da-bfc8-b41614cd25bf"
   },
   "outputs": [
    {
     "data": {
      "text/plain": [
       "(994, 3)"
      ]
     },
     "execution_count": 40,
     "metadata": {},
     "output_type": "execute_result"
    }
   ],
   "source": [
    "dfs['LSOA_AVERAGE_RENTS_MOD'].shape"
   ]
  },
  {
   "cell_type": "markdown",
   "metadata": {
    "id": "OMaRTsI1kGPb"
   },
   "source": [
    "## Obtaining the weighted centroid locations of the MSOAs in the UK\n",
    "Since the found dataset is provided in JSON format, this acquisition process was a bit different. Pandas' json_normlaize was used to facilitate data processing."
   ]
  },
  {
   "cell_type": "code",
   "execution_count": 42,
   "metadata": {
    "colab": {
     "base_uri": "https://localhost:8080/"
    },
    "id": "wlYwdhA_kRSW",
    "outputId": "a163fe40-dd01-4a44-efa4-d3e0c3e094ac"
   },
   "outputs": [
    {
     "name": "stderr",
     "output_type": "stream",
     "text": [
      "<ipython-input-42-702670bf0c9b>:1: FutureWarning: pandas.io.json.json_normalize is deprecated, use pandas.json_normalize instead\n",
      "  dfs[\"MSOA_POP_WEIGHTED_COORDS\"] = json_normalize(requests.get(urls[\"MSOA_POP_WEIGHTED_COORDS\"]).json()[\"features\"])\n"
     ]
    }
   ],
   "source": [
    "dfs[\"MSOA_POP_WEIGHTED_COORDS\"] = json_normalize(requests.get(urls[\"MSOA_POP_WEIGHTED_COORDS\"]).json()[\"features\"])"
   ]
  },
  {
   "cell_type": "markdown",
   "metadata": {
    "id": "2ZFcPER9kV_c"
   },
   "source": [
    "### Filtering the dataframe to relevant features"
   ]
  },
  {
   "cell_type": "code",
   "execution_count": 43,
   "metadata": {
    "colab": {
     "base_uri": "https://localhost:8080/",
     "height": 0
    },
    "id": "JOxcmH1VkWHo",
    "outputId": "2764a4f8-d3a1-4639-a2d2-f6a9be100229"
   },
   "outputs": [
    {
     "data": {
      "text/html": [
       "<div>\n",
       "<style scoped>\n",
       "    .dataframe tbody tr th:only-of-type {\n",
       "        vertical-align: middle;\n",
       "    }\n",
       "\n",
       "    .dataframe tbody tr th {\n",
       "        vertical-align: top;\n",
       "    }\n",
       "\n",
       "    .dataframe thead th {\n",
       "        text-align: right;\n",
       "    }\n",
       "</style>\n",
       "<table border=\"1\" class=\"dataframe\">\n",
       "  <thead>\n",
       "    <tr style=\"text-align: right;\">\n",
       "      <th></th>\n",
       "      <th>objectid</th>\n",
       "      <th>msoa11cd</th>\n",
       "      <th>msoa11nm</th>\n",
       "      <th>type</th>\n",
       "      <th>coordinates</th>\n",
       "    </tr>\n",
       "  </thead>\n",
       "  <tbody>\n",
       "    <tr>\n",
       "      <th>0</th>\n",
       "      <td>1</td>\n",
       "      <td>E02002536</td>\n",
       "      <td>Stockton-on-Tees 002</td>\n",
       "      <td>Point</td>\n",
       "      <td>[-1.295773277600421, 54.61069062106589]</td>\n",
       "    </tr>\n",
       "    <tr>\n",
       "      <th>1</th>\n",
       "      <td>2</td>\n",
       "      <td>E02002537</td>\n",
       "      <td>Stockton-on-Tees 003</td>\n",
       "      <td>Point</td>\n",
       "      <td>[-1.277262994489106, 54.611313190100496]</td>\n",
       "    </tr>\n",
       "    <tr>\n",
       "      <th>2</th>\n",
       "      <td>3</td>\n",
       "      <td>E02002534</td>\n",
       "      <td>Redcar and Cleveland 020</td>\n",
       "      <td>Point</td>\n",
       "      <td>[-1.05345763288785, 54.52764636018806]</td>\n",
       "    </tr>\n",
       "  </tbody>\n",
       "</table>\n",
       "</div>"
      ],
      "text/plain": [
       "   objectid   msoa11cd                  msoa11nm   type  \\\n",
       "0         1  E02002536      Stockton-on-Tees 002  Point   \n",
       "1         2  E02002537      Stockton-on-Tees 003  Point   \n",
       "2         3  E02002534  Redcar and Cleveland 020  Point   \n",
       "\n",
       "                                coordinates  \n",
       "0   [-1.295773277600421, 54.61069062106589]  \n",
       "1  [-1.277262994489106, 54.611313190100496]  \n",
       "2    [-1.05345763288785, 54.52764636018806]  "
      ]
     },
     "execution_count": 43,
     "metadata": {},
     "output_type": "execute_result"
    }
   ],
   "source": [
    "dfs[\"MSOA_POP_WEIGHTED_COORDS_mod\"] = dfs[\"MSOA_POP_WEIGHTED_COORDS\"].drop(columns = [\"type\"])\n",
    "dfs[\"MSOA_POP_WEIGHTED_COORDS_mod\"].columns = list(c.split(\".\")[1] for c in dfs[\"MSOA_POP_WEIGHTED_COORDS_mod\"].columns)\n",
    "dfs[\"MSOA_POP_WEIGHTED_COORDS_mod\"].head(3)"
   ]
  },
  {
   "cell_type": "markdown",
   "metadata": {
    "id": "pYqergsZor-Z"
   },
   "source": [
    "## Merging the obtained DataFrames"
   ]
  },
  {
   "cell_type": "code",
   "execution_count": 44,
   "metadata": {
    "id": "TcIES4XQoyHv"
   },
   "outputs": [],
   "source": [
    "dfs[\"all\"] = dfs[\"MSOA_INCOME_2018_mod\"].merge(\n",
    "    dfs[\"MSOA_POP_WEIGHTED_COORDS_mod\"], how = \"left\", left_on = \"msoa11cd\", right_on = \"msoa11cd\").merge(\n",
    "    dfs[\"MSOA_ETH_2011_mod\"], how = \"left\", left_on = \"msoa11cd\", right_on = \"msoa11cd\").merge(\n",
    "    dfs['LSOA_AVERAGE_RENTS_MOD'], how = \"left\",  left_on = \"msoa11cd\", right_on = \"msoa11cd\"\n",
    ")"
   ]
  },
  {
   "cell_type": "code",
   "execution_count": 45,
   "metadata": {
    "colab": {
     "base_uri": "https://localhost:8080/",
     "height": 0
    },
    "id": "4f8k_8vdWmjb",
    "outputId": "f0c9411b-7ca6-4a47-d57e-5c4ce96a277b"
   },
   "outputs": [
    {
     "data": {
      "text/html": [
       "<div>\n",
       "<style scoped>\n",
       "    .dataframe tbody tr th:only-of-type {\n",
       "        vertical-align: middle;\n",
       "    }\n",
       "\n",
       "    .dataframe tbody tr th {\n",
       "        vertical-align: top;\n",
       "    }\n",
       "\n",
       "    .dataframe thead th {\n",
       "        text-align: right;\n",
       "    }\n",
       "</style>\n",
       "<table border=\"1\" class=\"dataframe\">\n",
       "  <thead>\n",
       "    <tr style=\"text-align: right;\">\n",
       "      <th></th>\n",
       "      <th>msoa11cd</th>\n",
       "      <th>region_name</th>\n",
       "      <th>total_annual_income</th>\n",
       "      <th>objectid</th>\n",
       "      <th>msoa11nm</th>\n",
       "      <th>type</th>\n",
       "      <th>coordinates</th>\n",
       "      <th>total_population</th>\n",
       "      <th>asian_population_percentage</th>\n",
       "      <th>asian_population_count</th>\n",
       "      <th>lad17cd</th>\n",
       "      <th>average_rent</th>\n",
       "    </tr>\n",
       "  </thead>\n",
       "  <tbody>\n",
       "    <tr>\n",
       "      <th>0</th>\n",
       "      <td>E02000166</td>\n",
       "      <td>London</td>\n",
       "      <td>52900</td>\n",
       "      <td>4694</td>\n",
       "      <td>Camden 001</td>\n",
       "      <td>Point</td>\n",
       "      <td>[-0.147053479241724, 51.562958220745536]</td>\n",
       "      <td>7924</td>\n",
       "      <td>0.057673</td>\n",
       "      <td>457.0</td>\n",
       "      <td>E09000007</td>\n",
       "      <td>2427</td>\n",
       "    </tr>\n",
       "    <tr>\n",
       "      <th>1</th>\n",
       "      <td>E02000167</td>\n",
       "      <td>London</td>\n",
       "      <td>68200</td>\n",
       "      <td>4695</td>\n",
       "      <td>Camden 002</td>\n",
       "      <td>Point</td>\n",
       "      <td>[-0.173301975759992, 51.557260102499264]</td>\n",
       "      <td>7944</td>\n",
       "      <td>0.067095</td>\n",
       "      <td>533.0</td>\n",
       "      <td>E09000007</td>\n",
       "      <td>2427</td>\n",
       "    </tr>\n",
       "    <tr>\n",
       "      <th>2</th>\n",
       "      <td>E02000168</td>\n",
       "      <td>London</td>\n",
       "      <td>57000</td>\n",
       "      <td>4701</td>\n",
       "      <td>Camden 003</td>\n",
       "      <td>Point</td>\n",
       "      <td>[-0.141544566585947, 51.55567394711822]</td>\n",
       "      <td>8172</td>\n",
       "      <td>0.071831</td>\n",
       "      <td>587.0</td>\n",
       "      <td>E09000007</td>\n",
       "      <td>2427</td>\n",
       "    </tr>\n",
       "  </tbody>\n",
       "</table>\n",
       "</div>"
      ],
      "text/plain": [
       "    msoa11cd region_name  total_annual_income  objectid    msoa11nm   type  \\\n",
       "0  E02000166      London                52900      4694  Camden 001  Point   \n",
       "1  E02000167      London                68200      4695  Camden 002  Point   \n",
       "2  E02000168      London                57000      4701  Camden 003  Point   \n",
       "\n",
       "                                coordinates  total_population  \\\n",
       "0  [-0.147053479241724, 51.562958220745536]              7924   \n",
       "1  [-0.173301975759992, 51.557260102499264]              7944   \n",
       "2   [-0.141544566585947, 51.55567394711822]              8172   \n",
       "\n",
       "   asian_population_percentage  asian_population_count    lad17cd average_rent  \n",
       "0                     0.057673                   457.0  E09000007         2427  \n",
       "1                     0.067095                   533.0  E09000007         2427  \n",
       "2                     0.071831                   587.0  E09000007         2427  "
      ]
     },
     "execution_count": 45,
     "metadata": {},
     "output_type": "execute_result"
    }
   ],
   "source": [
    "dfs[\"all\"].head(3)"
   ]
  },
  {
   "cell_type": "code",
   "execution_count": 46,
   "metadata": {
    "colab": {
     "base_uri": "https://localhost:8080/"
    },
    "id": "FPrAu2ghpl_a",
    "outputId": "d73f7115-584f-4952-e23b-0ec2c97d3680"
   },
   "outputs": [
    {
     "data": {
      "text/plain": [
       "array(['msoa11cd', 'region_name', 'total_annual_income', 'objectid',\n",
       "       'msoa11nm', 'type', 'coordinates', 'total_population',\n",
       "       'asian_population_percentage', 'asian_population_count', 'lad17cd',\n",
       "       'average_rent'], dtype=object)"
      ]
     },
     "execution_count": 46,
     "metadata": {},
     "output_type": "execute_result"
    }
   ],
   "source": [
    "dfs[\"all\"].columns.values"
   ]
  },
  {
   "cell_type": "code",
   "execution_count": 47,
   "metadata": {
    "id": "ZeYLW7xzpkNw"
   },
   "outputs": [],
   "source": [
    "#### A bit of tidying up...removing duplicate columns\n",
    "dfs[\"all\"].drop(columns = [\"objectid\", \"type\"], inplace = True)"
   ]
  },
  {
   "cell_type": "code",
   "execution_count": 48,
   "metadata": {
    "colab": {
     "base_uri": "https://localhost:8080/"
    },
    "id": "w_ZAfEoTqEKM",
    "outputId": "577a306d-a2c4-4a07-bd14-4bccd32bc860"
   },
   "outputs": [
    {
     "data": {
      "text/plain": [
       "msoa11cd                       0\n",
       "region_name                    0\n",
       "total_annual_income            0\n",
       "msoa11nm                       0\n",
       "coordinates                    0\n",
       "total_population               0\n",
       "asian_population_percentage    0\n",
       "asian_population_count         0\n",
       "lad17cd                        0\n",
       "average_rent                   0\n",
       "dtype: int64"
      ]
     },
     "execution_count": 48,
     "metadata": {},
     "output_type": "execute_result"
    }
   ],
   "source": [
    "#### Checking for join fails -> counting null values for each column\n",
    "dfs[\"all\"].isna().sum()"
   ]
  },
  {
   "cell_type": "markdown",
   "metadata": {
    "id": "OCFYAGO-qavn"
   },
   "source": [
    "## Obtaining geographical data for Chloropeth visualisation"
   ]
  },
  {
   "cell_type": "code",
   "execution_count": 49,
   "metadata": {
    "colab": {
     "base_uri": "https://localhost:8080/"
    },
    "id": "71S8U-kAqllC",
    "outputId": "a4c5a4a8-3929-4377-aab3-66c633c058c3"
   },
   "outputs": [
    {
     "data": {
      "text/plain": [
       "dict_keys(['type', 'name', 'crs', 'features'])"
      ]
     },
     "execution_count": 49,
     "metadata": {},
     "output_type": "execute_result"
    }
   ],
   "source": [
    "#### Checking the Geo Json file's structure to find the key to be matched on!\n",
    "json_response = requests.get(urls[\"MSOA_GSON\"]).json()\n",
    "json_response.keys()"
   ]
  },
  {
   "cell_type": "code",
   "execution_count": 50,
   "metadata": {
    "colab": {
     "base_uri": "https://localhost:8080/",
     "height": 0
    },
    "id": "bRYhNkJ0q2aQ",
    "outputId": "1862ac3c-424e-42ba-fa45-549c71ff8851"
   },
   "outputs": [
    {
     "data": {
      "text/plain": [
       "'E02000001'"
      ]
     },
     "execution_count": 50,
     "metadata": {},
     "output_type": "execute_result"
    }
   ],
   "source": [
    "json_response[\"features\"][0][\"properties\"][\"msoa11cd\"]"
   ]
  },
  {
   "cell_type": "markdown",
   "metadata": {
    "id": "QzZnK0IdZn6x"
   },
   "source": []
  },
  {
   "cell_type": "markdown",
   "metadata": {
    "id": "QmX6gcXGWmjb"
   },
   "source": [
    "## Housekeeping: deleting dataframes that are no longer used to reduce the notebook's memory footprint."
   ]
  },
  {
   "cell_type": "code",
   "execution_count": 51,
   "metadata": {
    "colab": {
     "base_uri": "https://localhost:8080/"
    },
    "id": "e_cp0_QCWmjc",
    "outputId": "e76b9430-0753-42e9-9842-f734f4999d12"
   },
   "outputs": [
    {
     "data": {
      "text/plain": [
       "['MSOA_ETH_2011',\n",
       " 'MSOA_ETH_2011_mod',\n",
       " 'MSOA_INCOME_2018',\n",
       " 'MSOA_INCOME_2018_mod',\n",
       " 'LSOA_AVERAGE_RENTS',\n",
       " 'LSOA_AVERAGE_RENTS_MOD',\n",
       " 'MSOA_TO_LSOA_MAPPING',\n",
       " 'MSOA_TO_LSOA_MAPPING_MOD',\n",
       " 'MSOA_POP_WEIGHTED_COORDS',\n",
       " 'MSOA_POP_WEIGHTED_COORDS_mod',\n",
       " 'all']"
      ]
     },
     "execution_count": 51,
     "metadata": {},
     "output_type": "execute_result"
    }
   ],
   "source": [
    "all_keys = list(dfs.keys())\n",
    "all_keys"
   ]
  },
  {
   "cell_type": "code",
   "execution_count": 52,
   "metadata": {
    "id": "jzv4U66yWmjc"
   },
   "outputs": [],
   "source": [
    "for k in all_keys:\n",
    "    if(k!=\"all\"):\n",
    "        del dfs[k]\n",
    "del io_buff\n",
    "del raw_data"
   ]
  },
  {
   "cell_type": "code",
   "execution_count": 53,
   "metadata": {
    "colab": {
     "base_uri": "https://localhost:8080/"
    },
    "id": "NPY1jzClWmjc",
    "outputId": "9ebef44b-3061-48fb-82b2-cdcb1c39d340"
   },
   "outputs": [
    {
     "data": {
      "text/plain": [
       "dict_keys(['all'])"
      ]
     },
     "execution_count": 53,
     "metadata": {},
     "output_type": "execute_result"
    }
   ],
   "source": [
    "dfs.keys()"
   ]
  },
  {
   "cell_type": "markdown",
   "metadata": {
    "id": "_4ZLkA65rBMZ"
   },
   "source": [
    "### Filtering the retrieved Geo JSON to locations within London"
   ]
  },
  {
   "cell_type": "code",
   "execution_count": 54,
   "metadata": {
    "colab": {
     "base_uri": "https://localhost:8080/"
    },
    "id": "ZT-7WK6kWmje",
    "outputId": "7e8f8583-dd1e-4c30-c2b2-e860954f1d92"
   },
   "outputs": [
    {
     "name": "stdout",
     "output_type": "stream",
     "text": [
      "983\n"
     ]
    }
   ],
   "source": [
    "MSOA_codes = dfs[\"all\"][\"msoa11cd\"].unique()\n",
    "filtered_list  = filter_geo_json_with_tooltip(json_response, MSOA_codes, dfs_all = dfs[\"all\"], dfs_tooltip_cols = 'total_annual_income')\n",
    "json_response[\"features\"] = filtered_list"
   ]
  },
  {
   "cell_type": "code",
   "execution_count": 55,
   "metadata": {
    "id": "88xTJg1SrXh3"
   },
   "outputs": [],
   "source": [
    "#### Reassigning the features key value so that metadata does not have to be redefined.\n",
    "json_response[\"features\"]= filtered_list"
   ]
  },
  {
   "cell_type": "code",
   "execution_count": 56,
   "metadata": {
    "colab": {
     "base_uri": "https://localhost:8080/"
    },
    "id": "uduMmkqUWmje",
    "outputId": "44e83ad6-2712-45ed-9e7a-469dce7c8ec5"
   },
   "outputs": [
    {
     "data": {
      "text/plain": [
       "{'objectid': 1,\n",
       " 'msoa11cd': 'E02000001',\n",
       " 'msoa11nm': 'City of London 001',\n",
       " 'msoa11nmw': 'City of London 001',\n",
       " 'st_areashape': 3151465.786567,\n",
       " 'st_lengthshape': 9651.748978229714,\n",
       " 't': 'MSOA ID: E02000001 MSOA name:City of London 001<br>total_annual_income: 65400<br>'}"
      ]
     },
     "execution_count": 56,
     "metadata": {},
     "output_type": "execute_result"
    }
   ],
   "source": [
    "json_response[\"features\"][0][\"properties\"]"
   ]
  },
  {
   "cell_type": "markdown",
   "metadata": {
    "id": "5pjeMVQluVtN"
   },
   "source": [
    "## Plotting the Income by MSOAs"
   ]
  },
  {
   "cell_type": "code",
   "execution_count": 57,
   "metadata": {
    "colab": {
     "base_uri": "https://localhost:8080/",
     "height": 774
    },
    "id": "wivng08FWNFQ",
    "outputId": "5168a807-8b35-46a2-9fb8-c85b642c0734"
   },
   "outputs": [
    {
     "data": {
      "text/plain": [
       "Text(0, 0.5, 'Total income')"
      ]
     },
     "execution_count": 57,
     "metadata": {},
     "output_type": "execute_result"
    },
    {
     "data": {
      "image/png": "[encoded data removed]",
      "text/plain": [
       "<Figure size 1440x720 with 1 Axes>"
      ]
     },
     "metadata": {},
     "output_type": "display_data"
    }
   ],
   "source": [
    "ax = dfs[\"all\"].sort_values(by='total_annual_income', ascending = False)\\\n",
    ".head(30)\\\n",
    ".plot(x ='msoa11nm',\n",
    "      y = 'total_annual_income',\n",
    "      kind = \"bar\",\n",
    "      label = \"Household income\")\n",
    "ax.set_title(\"The top 30 MSOA areas based on Total annual income\")\n",
    "ax.set_xlabel(\"MSOA\")\n",
    "ax.set_ylabel(\"Total income\")"
   ]
  },
  {
   "cell_type": "markdown",
   "metadata": {
    "id": "dqBMRqe-daOR"
   },
   "source": [
    "### Chloropeth map of Total income"
   ]
  },
  {
   "cell_type": "code",
   "execution_count": 58,
   "metadata": {
    "colab": {
     "base_uri": "https://localhost:8080/"
    },
    "id": "Mi7cTkn4uiC9",
    "outputId": "339a6ff7-2858-4bca-db76-1a04313e19a8"
   },
   "outputs": [
    {
     "name": "stdout",
     "output_type": "stream",
     "text": [
      "983\n"
     ]
    }
   ],
   "source": [
    "MSOA_codes = dfs[\"all\"][\"msoa11cd\"].unique()\n",
    "filtered_list  = filter_geo_json_with_tooltip(json_response, MSOA_codes, dfs_all = dfs[\"all\"], dfs_tooltip_cols = \"total_annual_income\", tooltip_name = \"total_annual_income\")\n",
    "json_response[\"features\"] = filtered_list"
   ]
  },
  {
   "cell_type": "code",
   "execution_count": 59,
   "metadata": {
    "colab": {
     "base_uri": "https://localhost:8080/"
    },
    "id": "fmXOZjTb80Qx",
    "outputId": "09cd31e0-7ed1-4de6-bd0a-ef1ab8bbe7b3"
   },
   "outputs": [
    {
     "data": {
      "text/plain": [
       "<folium.features.GeoJson at 0x22a77538220>"
      ]
     },
     "execution_count": 59,
     "metadata": {},
     "output_type": "execute_result"
    }
   ],
   "source": [
    "maps[\"income_map\"] = maps[\"base_map\"]()\n",
    "maps[\"income_choro_layer\"] = folium.Choropleth(\n",
    "    data = dfs[\"all\"],\n",
    "    columns = [\"msoa11cd\", 'total_annual_income'],\n",
    "    geo_data = json_response,\n",
    "    key_on = \"feature.properties.msoa11cd\",\n",
    "    fill_color = \"YlOrRd\"\n",
    ")\n",
    "maps[\"income_choro_layer\"].add_to(maps[\"income_map\"])\n",
    "\n",
    "maps[\"gson_popup\"] = folium.features.GeoJsonTooltip(fields = [\"total_annual_income\"], labels = False)\n",
    "maps[\"income_choro_layer\"].geojson.add_child(maps[\"gson_popup\"])"
   ]
  },
  {
   "cell_type": "markdown",
   "metadata": {
    "id": "LieT0PgEZ2Xc"
   },
   "source": [
    "#### Uncomment line below to view map"
   ]
  },
  {
   "cell_type": "code",
   "execution_count": 60,
   "metadata": {
    "colab": {
     "base_uri": "https://localhost:8080/",
     "height": 387
    },
    "id": "Ry788kgEA8hm",
    "outputId": "029a1fb1-309b-4602-e3a2-c5c88370451c",
    "scrolled": true
   },
   "outputs": [],
   "source": [
    "#maps[\"income_map\"]"
   ]
  },
  {
   "cell_type": "markdown",
   "metadata": {
    "id": "FJRpvXlyZeSz"
   },
   "source": [
    "## Plotting the MSOA's with the highest percentage of asian population"
   ]
  },
  {
   "cell_type": "code",
   "execution_count": 61,
   "metadata": {
    "colab": {
     "base_uri": "https://localhost:8080/",
     "height": 706
    },
    "id": "fUmoaJ1HcNPa",
    "outputId": "36a1d5a0-e850-4a10-8969-5552cb0e0268"
   },
   "outputs": [
    {
     "data": {
      "text/plain": [
       "Text(0.5, 1.0, 'Top 30 MSOA based on the percentage of asian population')"
      ]
     },
     "execution_count": 61,
     "metadata": {},
     "output_type": "execute_result"
    },
    {
     "data": {
      "image/png": "[encoded data removed]",
      "text/plain": [
       "<Figure size 1440x720 with 1 Axes>"
      ]
     },
     "metadata": {},
     "output_type": "display_data"
    }
   ],
   "source": [
    "ax = dfs[\"all\"]\\\n",
    ".sort_values(by = \"asian_population_percentage\",\n",
    "             ascending = False)\\\n",
    "             .head(30)\\\n",
    "             .plot(x = \"msoa11nm\", y = \"asian_population_percentage\", kind = \"bar\", label = \"Asian percentage\")\n",
    "ax.set_ylabel(\"Ethnicity percentage\")\n",
    "ax.set_xlabel(\"MSOA\")\n",
    "ax.set_title(\"Top 30 MSOA based on the percentage of asian population\")"
   ]
  },
  {
   "cell_type": "markdown",
   "metadata": {
    "id": "uBfPxV14dhrM"
   },
   "source": [
    "### Chloropeth map of asian population's distribution"
   ]
  },
  {
   "cell_type": "code",
   "execution_count": 62,
   "metadata": {
    "colab": {
     "base_uri": "https://localhost:8080/"
    },
    "id": "QKl61ugvWmjf",
    "outputId": "e77a73dc-4af3-452e-bdea-d5ef19caaa15"
   },
   "outputs": [
    {
     "name": "stdout",
     "output_type": "stream",
     "text": [
      "983\n"
     ]
    }
   ],
   "source": [
    "MSOA_codes = dfs[\"all\"][\"msoa11cd\"].unique()\n",
    "filtered_list  = filter_geo_json_with_tooltip(json_response, MSOA_codes, dfs_all = dfs[\"all\"], dfs_tooltip_cols = \"asian_population_percentage\")\n",
    "json_response[\"features\"] = filtered_list"
   ]
  },
  {
   "cell_type": "code",
   "execution_count": 63,
   "metadata": {
    "colab": {
     "base_uri": "https://localhost:8080/"
    },
    "id": "pcTbWQNEw4nP",
    "outputId": "2df54717-dade-442e-b56c-69231673e6ef"
   },
   "outputs": [
    {
     "data": {
      "text/plain": [
       "<folium.features.GeoJson at 0x22b521269d0>"
      ]
     },
     "execution_count": 63,
     "metadata": {},
     "output_type": "execute_result"
    }
   ],
   "source": [
    "maps[\"selected_eth_choro_layer\"] = folium.Choropleth(\n",
    "    data = dfs[\"all\"],\n",
    "    columns = [\"msoa11cd\", \"asian_population_percentage\"],\n",
    "    geo_data = json_response,\n",
    "    key_on = \"feature.properties.msoa11cd\",\n",
    "    fill_color = \"YlOrRd\"\n",
    ")\n",
    "maps[\"selected_eth_choro_layer\"].geojson.add_child(\n",
    "    folium.features.GeoJsonTooltip(fields = [\"asian_population_percentage\"], labels = False)\n",
    ")"
   ]
  },
  {
   "cell_type": "code",
   "execution_count": 64,
   "metadata": {
    "id": "O93ufXlCWmjg",
    "scrolled": true
   },
   "outputs": [],
   "source": [
    "m2 = maps['base_map']()\n",
    "m2 = m2.add_child(maps[\"selected_eth_choro_layer\"])\n"
   ]
  },
  {
   "cell_type": "markdown",
   "metadata": {
    "id": "vaAFHxF8Z8ns"
   },
   "source": [
    "#### Uncomment line below to view map"
   ]
  },
  {
   "cell_type": "code",
   "execution_count": 65,
   "metadata": {
    "id": "rcvKMQbmWmjj"
   },
   "outputs": [],
   "source": [
    "#m2"
   ]
  },
  {
   "cell_type": "markdown",
   "metadata": {
    "id": "dG9lUT68dSjR"
   },
   "source": [
    "# FourSquare Data Acquisition"
   ]
  },
  {
   "cell_type": "markdown",
   "metadata": {
    "id": "1DcKHxHpaIIC"
   },
   "source": [
    "## Acquiring FourSquare data\n",
    "This was a lengthy process, the results have been saved to the git repository. If you would like to re-perform it, please uncomment the cell below (approximately 6 hours due to the \"500 requests per hour\" limitation of my FourSquare free tier account)."
   ]
  },
  {
   "cell_type": "code",
   "execution_count": 66,
   "metadata": {
    "id": "iGy8GJbVaf5f"
   },
   "outputs": [],
   "source": [
    " # Don't run this unless you are ready to be very patient...\n",
    " #patient_foursquare_calls(dfs)"
   ]
  },
  {
   "cell_type": "markdown",
   "metadata": {
    "id": "fJikd0FNWmjk"
   },
   "source": [
    "### Loading the requested FourSquare data"
   ]
  },
  {
   "cell_type": "code",
   "execution_count": 67,
   "metadata": {
    "id": "Qig7QNc0Wmjk"
   },
   "outputs": [],
   "source": [
    "\n",
    "dfs[\"foursquare_data\"] = pd.read_csv(urls[\"FOURSQUARE_PULLED_DATA\"])"
   ]
  },
  {
   "cell_type": "code",
   "execution_count": 68,
   "metadata": {
    "colab": {
     "base_uri": "https://localhost:8080/"
    },
    "id": "bDoFQtMrWmjk",
    "outputId": "9492cb61-b8bb-462e-8fa2-b6d18fecdb33"
   },
   "outputs": [
    {
     "data": {
      "text/plain": [
       "Index(['Unnamed: 0', 'msoa_id', 'venue_name', 'venue_location',\n",
       "       'venue_category', 'venue_type'],\n",
       "      dtype='object')"
      ]
     },
     "execution_count": 68,
     "metadata": {},
     "output_type": "execute_result"
    }
   ],
   "source": [
    "dfs[\"foursquare_data\"].columns"
   ]
  },
  {
   "cell_type": "code",
   "execution_count": 69,
   "metadata": {
    "id": "7itl-9XbWmjl"
   },
   "outputs": [],
   "source": [
    "dfs[\"foursquare_data\"].rename(columns = {\"msoa_id\": \"msoa11cd\"}, inplace = True)"
   ]
  },
  {
   "cell_type": "code",
   "execution_count": 70,
   "metadata": {
    "colab": {
     "base_uri": "https://localhost:8080/",
     "height": 0
    },
    "id": "JFG48EqxWmjl",
    "outputId": "0b5d26b6-2a61-47d6-850b-ac870d4c8f6e"
   },
   "outputs": [
    {
     "data": {
      "text/html": [
       "<div>\n",
       "<style scoped>\n",
       "    .dataframe tbody tr th:only-of-type {\n",
       "        vertical-align: middle;\n",
       "    }\n",
       "\n",
       "    .dataframe tbody tr th {\n",
       "        vertical-align: top;\n",
       "    }\n",
       "\n",
       "    .dataframe thead th {\n",
       "        text-align: right;\n",
       "    }\n",
       "</style>\n",
       "<table border=\"1\" class=\"dataframe\">\n",
       "  <thead>\n",
       "    <tr style=\"text-align: right;\">\n",
       "      <th></th>\n",
       "      <th>Unnamed: 0</th>\n",
       "      <th>msoa11cd</th>\n",
       "      <th>venue_name</th>\n",
       "      <th>venue_location</th>\n",
       "      <th>venue_category</th>\n",
       "      <th>venue_type</th>\n",
       "    </tr>\n",
       "  </thead>\n",
       "  <tbody>\n",
       "    <tr>\n",
       "      <th>0</th>\n",
       "      <td>0</td>\n",
       "      <td>E02000166</td>\n",
       "      <td>GAIL's Bakery</td>\n",
       "      <td>[51.561942387816735, -0.14952846174338522]</td>\n",
       "      <td>Bakery</td>\n",
       "      <td>general</td>\n",
       "    </tr>\n",
       "    <tr>\n",
       "      <th>1</th>\n",
       "      <td>1</td>\n",
       "      <td>E02000166</td>\n",
       "      <td>Cricks Corner Coffee Shop</td>\n",
       "      <td>[51.563154464737124, -0.14062298415308833]</td>\n",
       "      <td>Coffee Shop</td>\n",
       "      <td>general</td>\n",
       "    </tr>\n",
       "    <tr>\n",
       "      <th>2</th>\n",
       "      <td>2</td>\n",
       "      <td>E02000166</td>\n",
       "      <td>The Bull &amp; Last</td>\n",
       "      <td>[51.55884185195939, -0.14874054471874976]</td>\n",
       "      <td>Gastropub</td>\n",
       "      <td>general</td>\n",
       "    </tr>\n",
       "  </tbody>\n",
       "</table>\n",
       "</div>"
      ],
      "text/plain": [
       "   Unnamed: 0   msoa11cd                 venue_name  \\\n",
       "0           0  E02000166              GAIL's Bakery   \n",
       "1           1  E02000166  Cricks Corner Coffee Shop   \n",
       "2           2  E02000166            The Bull & Last   \n",
       "\n",
       "                               venue_location venue_category venue_type  \n",
       "0  [51.561942387816735, -0.14952846174338522]         Bakery    general  \n",
       "1  [51.563154464737124, -0.14062298415308833]    Coffee Shop    general  \n",
       "2   [51.55884185195939, -0.14874054471874976]      Gastropub    general  "
      ]
     },
     "execution_count": 70,
     "metadata": {},
     "output_type": "execute_result"
    }
   ],
   "source": [
    "dfs[\"foursquare_data\"].head(3)"
   ]
  },
  {
   "cell_type": "code",
   "execution_count": 71,
   "metadata": {
    "colab": {
     "base_uri": "https://localhost:8080/"
    },
    "id": "d2owfv1CWmjl",
    "outputId": "92c1345b-6f5d-4f74-821f-659fbc83c72e"
   },
   "outputs": [
    {
     "data": {
      "text/plain": [
       "array(['Bakery', 'Coffee Shop', 'Gastropub', 'Park', 'Pub',\n",
       "       'Farmers Market', 'Mediterranean Restaurant', 'Wine Shop',\n",
       "       'Italian Restaurant', 'Historic Site', 'Scenic Lookout', 'Pool',\n",
       "       'Japanese Restaurant', 'Pizza Place', 'Lounge', 'Wine Bar', 'Café',\n",
       "       'Food', 'Ice Cream Shop', 'Seafood Restaurant', 'Playground',\n",
       "       'Lake', 'Plaza', 'Tea Room', 'Ethiopian Restaurant',\n",
       "       'Indian Restaurant', 'Thai Restaurant', 'Bar', 'Tapas Restaurant',\n",
       "       'Grocery Store', 'Music Venue', 'French Restaurant', 'Hotel',\n",
       "       'Kebab Restaurant', 'Sandwich Place',\n",
       "       'Vegetarian / Vegan Restaurant', 'Gym / Fitness Center',\n",
       "       'Food Court', 'Bike Rental / Bike Share', 'Turkish Restaurant',\n",
       "       'Gym', 'Martial Arts School', 'Hookah Bar', 'Fast Food Restaurant',\n",
       "       'Bus Stop', 'Track Stadium', 'Hobby Shop', 'Creperie', 'Bookstore',\n",
       "       'Movie Theater', 'Museum', 'Arts & Crafts Store', 'Bagel Shop',\n",
       "       'Deli / Bodega', 'Outdoors & Recreation', 'History Museum',\n",
       "       'American Restaurant', 'Vape Store', 'Argentinian Restaurant',\n",
       "       'Dim Sum Restaurant', 'Greek Restaurant', 'Burger Joint',\n",
       "       'Convenience Store', 'Bed & Breakfast', 'Bistro', 'Diner',\n",
       "       'Clothing Store', 'Train Station', 'Food & Drink Shop',\n",
       "       'Asian Restaurant', 'English Restaurant', 'Pharmacy', 'Juice Bar',\n",
       "       'Chinese Restaurant', 'Israeli Restaurant', 'Baby Store',\n",
       "       'Beer Store', 'Food Truck', 'Vietnamese Restaurant',\n",
       "       'Cocktail Bar', 'Middle Eastern Restaurant', 'Yoga Studio',\n",
       "       'Restaurant', 'Farm', 'Supermarket', 'Modern European Restaurant',\n",
       "       'Bike Shop', 'Art Gallery', 'Malay Restaurant', 'Gym Pool',\n",
       "       'Garden Center', 'Flea Market', 'Portuguese Restaurant',\n",
       "       'Record Shop', 'Community Center', 'Breakfast Spot',\n",
       "       'Fish & Chips Shop', 'Fruit & Vegetable Store', 'Tennis Court',\n",
       "       'Szechuan Restaurant', 'Cricket Ground', 'Falafel Restaurant',\n",
       "       'Stationery Store', 'BBQ Joint', 'Wings Joint',\n",
       "       'Afghan Restaurant', 'Spanish Restaurant', 'Gift Shop', 'Platform',\n",
       "       'Metro Station', 'Hill', 'Sushi Restaurant',\n",
       "       'Brazilian Restaurant', 'Kids Store', 'Furniture / Home Store',\n",
       "       'Monument / Landmark', 'Brewery', 'Recreation Center',\n",
       "       'Gymnastics Gym', 'Market', 'Speakeasy', 'Liquor Store',\n",
       "       'Health Food Store', 'Caribbean Restaurant', 'Optical Shop',\n",
       "       'Hostel', 'Outdoor Sculpture', 'Dessert Shop', 'Theater',\n",
       "       'Organic Grocery', 'Burrito Place', 'Hotel Bar',\n",
       "       'Department Store', 'Shoe Store', 'Canal', 'Pet Store',\n",
       "       'Event Space', 'VR Cafe', 'Ramen Restaurant', 'Soccer Field',\n",
       "       'Korean Restaurant', 'Doner Restaurant', 'Czech Restaurant',\n",
       "       'Persian Restaurant', 'Cosmetics Shop', 'Multiplex',\n",
       "       'Cupcake Shop', 'Fish Market', 'Street Food Gathering', 'Spa',\n",
       "       'Gourmet Shop', 'Discount Store', 'Warehouse Store', 'IT Services',\n",
       "       'Athletics & Sports', 'Canal Lock', 'Shopping Plaza', 'Beer Bar',\n",
       "       'Office', 'Rock Club', 'Mobile Phone Shop', 'Theme Restaurant',\n",
       "       'Caucasian Restaurant', 'Pilates Studio', 'Gelato Shop',\n",
       "       'Cantonese Restaurant', 'Moroccan Restaurant', 'Shopping Mall',\n",
       "       'Zoo Exhibit', 'Zoo', 'Jazz Club', 'Pedestrian Plaza',\n",
       "       'Snack Place', 'Mexican Restaurant', 'Church', 'Recording Studio',\n",
       "       'Garden', 'New American Restaurant', 'Escape Room', 'Art Museum',\n",
       "       'Mamak Restaurant', 'Chocolate Shop', 'Science Museum',\n",
       "       'Film Studio', 'Library', 'Nature Preserve', 'Dance Studio',\n",
       "       'African Restaurant', 'College Residence Hall', 'Building',\n",
       "       'Food Stand', 'Theme Park Ride / Attraction', 'Souvlaki Shop',\n",
       "       'Steakhouse', 'Salad Place', 'Used Bookstore', \"Men's Store\",\n",
       "       'Paper / Office Supplies Store', 'Lebanese Restaurant',\n",
       "       'Sports Bar', 'Exhibit', 'Cheese Shop', 'Soup Place',\n",
       "       'Camera Store', 'Scandinavian Restaurant', 'Cycle Studio',\n",
       "       'Fabric Shop', 'Okonomiyaki Restaurant', 'Miscellaneous Shop',\n",
       "       'Lingerie Store', 'Comic Shop', 'Donut Shop', 'Electronics Store',\n",
       "       'Arcade', 'Whisky Bar', 'Comedy Club', 'Neighborhood',\n",
       "       'Opera House', 'Boutique', 'General Entertainment',\n",
       "       'Sri Lankan Restaurant', 'Japanese Curry Restaurant',\n",
       "       'Salon / Barbershop', 'Indie Movie Theater',\n",
       "       'Performing Arts Venue', 'Concert Hall', 'Botanical Garden',\n",
       "       'Roof Deck', 'Taco Place', 'Butcher', 'Boxing Gym',\n",
       "       'Hardware Store', 'Betting Shop', 'Pawn Shop',\n",
       "       'Construction & Landscaping', 'Weight Loss Center', 'River',\n",
       "       'Rental Car Location', 'Trail', 'Reservoir', 'Climbing Gym',\n",
       "       'Baseball Field', 'Outdoor Gym', 'Cigkofte Place', 'Auto Garage',\n",
       "       'Sporting Goods Shop', 'Health & Beauty Service',\n",
       "       'Fried Chicken Joint', 'South Indian Restaurant',\n",
       "       'Australian Restaurant', 'Nightclub', 'Tailor Shop',\n",
       "       'Knitting Store', 'Noodle House', 'Bowling Alley', 'Irish Pub',\n",
       "       'Coworking Space', 'Thrift / Vintage Store', 'Print Shop',\n",
       "       'Dumpling Restaurant', 'Sake Bar', 'Coffee Roaster',\n",
       "       'Skating Rink', 'Business Service', 'Flower Shop',\n",
       "       'Cuban Restaurant', 'Dive Bar', 'Gay Bar', 'Skate Park',\n",
       "       'Antique Shop', 'Taiwanese Restaurant', 'Udon Restaurant',\n",
       "       'Arepa Restaurant', 'Photography Studio', 'Candy Store',\n",
       "       'Circus School', 'Filipino Restaurant', 'School', 'Costume Shop',\n",
       "       'Adult Boutique', 'Social Club', 'Laundry Service',\n",
       "       'Video Game Store', 'Soccer Stadium', 'Food Service', 'Pool Hall',\n",
       "       'Pakistani Restaurant', 'Mini Golf', 'Toy / Game Store',\n",
       "       'Music Store', 'Frozen Yogurt Shop', 'Bubble Tea Shop',\n",
       "       'Jewelry Store', \"Women's Store\", 'Latin American Restaurant',\n",
       "       'Go Kart Track', 'Massage Studio', 'Boarding House',\n",
       "       'Polish Restaurant', 'Indian Chinese Restaurant', 'Gas Station',\n",
       "       'German Restaurant', 'Tennis Stadium', 'Indie Theater',\n",
       "       'Convention Center', 'Road', 'Rock Climbing Spot',\n",
       "       'Motorcycle Shop', 'Waterfront', 'General College & University',\n",
       "       'Heliport', 'Indoor Play Area', 'Child Care Service', 'Pie Shop',\n",
       "       'Sports Club', 'Bus Station', 'College Football Field', 'Stadium',\n",
       "       'Lawyer', 'Golf Course', 'Shop & Service', 'Hungarian Restaurant',\n",
       "       'Supplement Shop', 'Palace', 'Bulgarian Restaurant', 'Beer Garden',\n",
       "       'Smoke Shop', 'Carpet Store', 'Eastern European Restaurant',\n",
       "       'Forest', 'Light Rail Station', 'South American Restaurant',\n",
       "       'Insurance Office', 'Dry Cleaner', 'Gluten-free Restaurant',\n",
       "       'Bank', 'Home Service', 'Himalayan Restaurant',\n",
       "       'Residential Building (Apartment / Condo)', 'Shaanxi Restaurant',\n",
       "       'Tiki Bar', 'Peruvian Restaurant', 'Hunan Restaurant',\n",
       "       'Austrian Restaurant', 'Street Art', 'Herbs & Spices Store',\n",
       "       'Nail Salon', 'Piano Bar', 'University', 'Champagne Bar',\n",
       "       'Russian Restaurant', 'Perfume Shop', 'Design Studio',\n",
       "       'Grilled Meat Restaurant', 'Pastry Shop', 'Harbor / Marina',\n",
       "       'College Cafeteria', 'Winery', 'Indonesian Restaurant', 'Windmill',\n",
       "       'Mental Health Office', 'Bike Trail', 'Bridal Shop', 'RV Park',\n",
       "       'Video Store', 'Event Service', 'Post Office', 'Tech Startup',\n",
       "       'Tree', 'Rugby Pitch', 'Laundromat', 'Veterinarian',\n",
       "       'Real Estate Office', 'Aquarium', 'Other Repair Shop',\n",
       "       'Frame Store', 'Comfort Food Restaurant', 'Buffet',\n",
       "       'Financial or Legal Service', 'Newsstand', 'Astrologer',\n",
       "       'Accessories Store', 'Kitchen Supply Store', 'Locksmith',\n",
       "       'Rafting', 'Pier', 'Lighthouse', 'Bridge', 'Beach',\n",
       "       'Recruiting Agency', 'Airport Service', 'Airport',\n",
       "       'Airport Terminal', 'Border Crossing', 'Taxi Stand',\n",
       "       'Airport Lounge', 'Empanada Restaurant', 'Distillery', 'Castle',\n",
       "       'Souvenir Shop', 'Temple', 'Public Art', 'Xinjiang Restaurant',\n",
       "       'Gaming Cafe', 'Acupuncturist', 'Buddhist Temple',\n",
       "       'Veneto Restaurant', 'Shipping Store', 'Community College',\n",
       "       'North Indian Restaurant', 'Jewish Restaurant', 'Intersection',\n",
       "       'Poke Place', 'Smoothie Shop', 'Arts & Entertainment',\n",
       "       'Golf Driving Range', 'Outlet Mall', 'Tunnel', 'Animal Shelter',\n",
       "       'Chaat Place', 'Auto Workshop', 'Track', 'Town Hall', 'Club House',\n",
       "       'Casino', 'Iraqi Restaurant', 'Stables', 'Fountain',\n",
       "       'Molecular Gastronomy Restaurant', 'Scottish Restaurant',\n",
       "       'Fishing Store', 'Lighting Store', 'Tanning Salon',\n",
       "       'Advertising Agency', 'Rugby Stadium', 'Entertainment Service',\n",
       "       'Waste Facility', 'Outdoor Supply Store', 'Student Center',\n",
       "       'Kosher Restaurant', 'Shabu-Shabu Restaurant', 'Automotive Shop',\n",
       "       'Taxi', 'Leather Goods Store', 'Medical Supply Store',\n",
       "       'Paintball Field', 'Industrial Estate', 'Outlet Store',\n",
       "       'Halal Restaurant', 'Currency Exchange', 'Daycare',\n",
       "       'Driving School', 'Romanian Restaurant', 'Bus Line', 'TV Station',\n",
       "       'Sculpture Garden', 'Tram Station', 'Cave', 'Medical Center',\n",
       "       'Photography Lab', 'Football Stadium', 'Dosa Place',\n",
       "       'Distribution Center', 'Internet Cafe', 'Pet Service', 'Factory',\n",
       "       'Cafeteria', 'Mobility Store', 'Southern / Soul Food Restaurant',\n",
       "       'Brasserie', 'Hockey Field', 'Boat or Ferry', 'Eye Doctor',\n",
       "       'Campground', 'Auto Dealership', 'Tourist Information Center',\n",
       "       'Planetarium', 'Observatory', 'Boat Rental', 'Karaoke Bar',\n",
       "       'Preschool', 'Mattress Store', 'Racetrack', 'Trade School',\n",
       "       'Military Base', 'General Travel', 'Nursery School', 'Notary',\n",
       "       'Rest Area', 'Belgian Restaurant', 'Gun Shop', 'Memorial Site',\n",
       "       'Rental Service', 'Used Auto Dealership', 'College Soccer Field',\n",
       "       'Cajun / Creole Restaurant', 'Pet Café', 'Vacation Rental',\n",
       "       'Tour Provider', 'Travel Agency', 'Physical Therapist', 'Field'],\n",
       "      dtype=object)"
      ]
     },
     "execution_count": 71,
     "metadata": {},
     "output_type": "execute_result"
    }
   ],
   "source": [
    "dfs[\"foursquare_data\"][\"venue_category\"].unique()"
   ]
  },
  {
   "cell_type": "code",
   "execution_count": 72,
   "metadata": {
    "colab": {
     "base_uri": "https://localhost:8080/"
    },
    "id": "WMkw0HKAWmjl",
    "outputId": "5e0c21b8-5147-4977-95ab-c547c8dc9e02"
   },
   "outputs": [
    {
     "data": {
      "text/plain": [
       "1978"
      ]
     },
     "execution_count": 72,
     "metadata": {},
     "output_type": "execute_result"
    }
   ],
   "source": [
    "boolean_mask_asian = dfs[\"foursquare_data\"][\"venue_category\"].str.match(re.compile(\".*(cambodian|korea|japanese|chinese|asian|vietnamese|thai|laos|Taiwan).*(restaurant|pub).*\",  re.IGNORECASE))\n",
    "boolean_mask_asian.sum()"
   ]
  },
  {
   "cell_type": "code",
   "execution_count": 73,
   "metadata": {
    "colab": {
     "base_uri": "https://localhost:8080/"
    },
    "id": "hicdQUkAWmjl",
    "outputId": "1e8a7055-330e-49df-d569-d16cf0d58101"
   },
   "outputs": [
    {
     "data": {
      "text/plain": [
       "16407"
      ]
     },
     "execution_count": 73,
     "metadata": {},
     "output_type": "execute_result"
    }
   ],
   "source": [
    "boolean_mask_hosp = dfs[\"foursquare_data\"][\"venue_category\"].str.match(re.compile(\".*(restaurant|pub|food|takeaway).*\",  re.IGNORECASE))\n",
    "boolean_mask_hosp.sum()"
   ]
  },
  {
   "cell_type": "code",
   "execution_count": 74,
   "metadata": {
    "colab": {
     "base_uri": "https://localhost:8080/",
     "height": 0
    },
    "id": "Q4Rf5fa_Wmjl",
    "outputId": "58fec641-5b0c-4770-abc3-42db9ae7f5d3"
   },
   "outputs": [
    {
     "data": {
      "text/html": [
       "<div>\n",
       "<style scoped>\n",
       "    .dataframe tbody tr th:only-of-type {\n",
       "        vertical-align: middle;\n",
       "    }\n",
       "\n",
       "    .dataframe tbody tr th {\n",
       "        vertical-align: top;\n",
       "    }\n",
       "\n",
       "    .dataframe thead th {\n",
       "        text-align: right;\n",
       "    }\n",
       "</style>\n",
       "<table border=\"1\" class=\"dataframe\">\n",
       "  <thead>\n",
       "    <tr style=\"text-align: right;\">\n",
       "      <th></th>\n",
       "      <th>Unnamed: 0</th>\n",
       "      <th>msoa11cd</th>\n",
       "      <th>venue_name</th>\n",
       "      <th>venue_location</th>\n",
       "      <th>venue_category</th>\n",
       "      <th>venue_type</th>\n",
       "    </tr>\n",
       "  </thead>\n",
       "  <tbody>\n",
       "    <tr>\n",
       "      <th>20</th>\n",
       "      <td>20</td>\n",
       "      <td>E02000166</td>\n",
       "      <td>Sushi Wa</td>\n",
       "      <td>[51.56770612567367, -0.13895830261556405]</td>\n",
       "      <td>Japanese Restaurant</td>\n",
       "      <td>general</td>\n",
       "    </tr>\n",
       "    <tr>\n",
       "      <th>50</th>\n",
       "      <td>50</td>\n",
       "      <td>E02000166</td>\n",
       "      <td>Blue Moon Cafe</td>\n",
       "      <td>[51.556080091231095, -0.13897987616981256]</td>\n",
       "      <td>Thai Restaurant</td>\n",
       "      <td>general</td>\n",
       "    </tr>\n",
       "    <tr>\n",
       "      <th>103</th>\n",
       "      <td>3</td>\n",
       "      <td>E02000167</td>\n",
       "      <td>Jin Kichi</td>\n",
       "      <td>[51.557211, -0.17837]</td>\n",
       "      <td>Japanese Restaurant</td>\n",
       "      <td>general</td>\n",
       "    </tr>\n",
       "    <tr>\n",
       "      <th>119</th>\n",
       "      <td>19</td>\n",
       "      <td>E02000167</td>\n",
       "      <td>Patara</td>\n",
       "      <td>[51.555497, -0.176086]</td>\n",
       "      <td>Thai Restaurant</td>\n",
       "      <td>general</td>\n",
       "    </tr>\n",
       "    <tr>\n",
       "      <th>132</th>\n",
       "      <td>32</td>\n",
       "      <td>E02000167</td>\n",
       "      <td>The Little Thai</td>\n",
       "      <td>[51.55411500485513, -0.16473718750726135]</td>\n",
       "      <td>Thai Restaurant</td>\n",
       "      <td>general</td>\n",
       "    </tr>\n",
       "  </tbody>\n",
       "</table>\n",
       "</div>"
      ],
      "text/plain": [
       "     Unnamed: 0   msoa11cd       venue_name  \\\n",
       "20           20  E02000166         Sushi Wa   \n",
       "50           50  E02000166   Blue Moon Cafe   \n",
       "103           3  E02000167        Jin Kichi   \n",
       "119          19  E02000167           Patara   \n",
       "132          32  E02000167  The Little Thai   \n",
       "\n",
       "                                 venue_location       venue_category  \\\n",
       "20    [51.56770612567367, -0.13895830261556405]  Japanese Restaurant   \n",
       "50   [51.556080091231095, -0.13897987616981256]      Thai Restaurant   \n",
       "103                       [51.557211, -0.17837]  Japanese Restaurant   \n",
       "119                      [51.555497, -0.176086]      Thai Restaurant   \n",
       "132   [51.55411500485513, -0.16473718750726135]      Thai Restaurant   \n",
       "\n",
       "    venue_type  \n",
       "20     general  \n",
       "50     general  \n",
       "103    general  \n",
       "119    general  \n",
       "132    general  "
      ]
     },
     "execution_count": 74,
     "metadata": {},
     "output_type": "execute_result"
    }
   ],
   "source": [
    "dfs[\"foursquare_data\"][boolean_mask_asian].head()"
   ]
  },
  {
   "cell_type": "code",
   "execution_count": 75,
   "metadata": {
    "colab": {
     "base_uri": "https://localhost:8080/"
    },
    "id": "swaKPzT8Wmjl",
    "outputId": "63ce5314-2599-4f4a-ad35-2ac8cdc39305"
   },
   "outputs": [
    {
     "data": {
      "text/plain": [
       "(619, 6)"
      ]
     },
     "execution_count": 75,
     "metadata": {},
     "output_type": "execute_result"
    }
   ],
   "source": [
    "asian_gb = dfs[\"foursquare_data\"][boolean_mask_asian].groupby(by=\"msoa11cd\").count().reset_index()\n",
    "asian_gb.shape"
   ]
  },
  {
   "cell_type": "code",
   "execution_count": 76,
   "metadata": {
    "colab": {
     "base_uri": "https://localhost:8080/",
     "height": 0
    },
    "id": "f9z_jB-xWmjm",
    "outputId": "2a168f5c-fd62-4b91-d95d-eda4f45f942e"
   },
   "outputs": [
    {
     "data": {
      "text/html": [
       "<div>\n",
       "<style scoped>\n",
       "    .dataframe tbody tr th:only-of-type {\n",
       "        vertical-align: middle;\n",
       "    }\n",
       "\n",
       "    .dataframe tbody tr th {\n",
       "        vertical-align: top;\n",
       "    }\n",
       "\n",
       "    .dataframe thead th {\n",
       "        text-align: right;\n",
       "    }\n",
       "</style>\n",
       "<table border=\"1\" class=\"dataframe\">\n",
       "  <thead>\n",
       "    <tr style=\"text-align: right;\">\n",
       "      <th></th>\n",
       "      <th>Unnamed: 0</th>\n",
       "      <th>msoa11cd</th>\n",
       "      <th>venue_name</th>\n",
       "      <th>venue_location</th>\n",
       "      <th>venue_category</th>\n",
       "      <th>venue_type</th>\n",
       "    </tr>\n",
       "  </thead>\n",
       "  <tbody>\n",
       "    <tr>\n",
       "      <th>2</th>\n",
       "      <td>2</td>\n",
       "      <td>E02000166</td>\n",
       "      <td>The Bull &amp; Last</td>\n",
       "      <td>[51.55884185195939, -0.14874054471874976]</td>\n",
       "      <td>Gastropub</td>\n",
       "      <td>general</td>\n",
       "    </tr>\n",
       "    <tr>\n",
       "      <th>4</th>\n",
       "      <td>4</td>\n",
       "      <td>E02000166</td>\n",
       "      <td>The Star</td>\n",
       "      <td>[51.563563936526265, -0.1426646603228414]</td>\n",
       "      <td>Pub</td>\n",
       "      <td>general</td>\n",
       "    </tr>\n",
       "    <tr>\n",
       "      <th>6</th>\n",
       "      <td>6</td>\n",
       "      <td>E02000166</td>\n",
       "      <td>The Southampton Arms</td>\n",
       "      <td>[51.55616658460647, -0.14608916145533812]</td>\n",
       "      <td>Pub</td>\n",
       "      <td>general</td>\n",
       "    </tr>\n",
       "    <tr>\n",
       "      <th>7</th>\n",
       "      <td>7</td>\n",
       "      <td>E02000166</td>\n",
       "      <td>Bistro Laz</td>\n",
       "      <td>[51.561332709944146, -0.1505282882085311]</td>\n",
       "      <td>Mediterranean Restaurant</td>\n",
       "      <td>general</td>\n",
       "    </tr>\n",
       "    <tr>\n",
       "      <th>9</th>\n",
       "      <td>9</td>\n",
       "      <td>E02000166</td>\n",
       "      <td>Dartmouth Arms</td>\n",
       "      <td>[51.55853921583215, -0.14362610179879062]</td>\n",
       "      <td>Pub</td>\n",
       "      <td>general</td>\n",
       "    </tr>\n",
       "  </tbody>\n",
       "</table>\n",
       "</div>"
      ],
      "text/plain": [
       "   Unnamed: 0   msoa11cd            venue_name  \\\n",
       "2           2  E02000166       The Bull & Last   \n",
       "4           4  E02000166              The Star   \n",
       "6           6  E02000166  The Southampton Arms   \n",
       "7           7  E02000166            Bistro Laz   \n",
       "9           9  E02000166        Dartmouth Arms   \n",
       "\n",
       "                              venue_location            venue_category  \\\n",
       "2  [51.55884185195939, -0.14874054471874976]                 Gastropub   \n",
       "4  [51.563563936526265, -0.1426646603228414]                       Pub   \n",
       "6  [51.55616658460647, -0.14608916145533812]                       Pub   \n",
       "7  [51.561332709944146, -0.1505282882085311]  Mediterranean Restaurant   \n",
       "9  [51.55853921583215, -0.14362610179879062]                       Pub   \n",
       "\n",
       "  venue_type  \n",
       "2    general  \n",
       "4    general  \n",
       "6    general  \n",
       "7    general  \n",
       "9    general  "
      ]
     },
     "execution_count": 76,
     "metadata": {},
     "output_type": "execute_result"
    }
   ],
   "source": [
    "dfs[\"foursquare_data\"][boolean_mask_hosp].head()"
   ]
  },
  {
   "cell_type": "code",
   "execution_count": 77,
   "metadata": {
    "colab": {
     "base_uri": "https://localhost:8080/"
    },
    "id": "7WPnbX9OWmjm",
    "outputId": "2853278e-7717-46b4-d089-66464d3b8940"
   },
   "outputs": [
    {
     "data": {
      "text/plain": [
       "(957, 6)"
      ]
     },
     "execution_count": 77,
     "metadata": {},
     "output_type": "execute_result"
    }
   ],
   "source": [
    "hosp_gb = dfs[\"foursquare_data\"][boolean_mask_hosp].groupby(by=\"msoa11cd\").count().reset_index()\n",
    "hosp_gb.shape"
   ]
  },
  {
   "cell_type": "code",
   "execution_count": 78,
   "metadata": {
    "colab": {
     "base_uri": "https://localhost:8080/",
     "height": 0
    },
    "id": "XWg-BNM7Wmjm",
    "outputId": "c2a2214c-9b7c-4f0c-8acf-1e8ce1cfe133"
   },
   "outputs": [
    {
     "data": {
      "text/html": [
       "<div>\n",
       "<style scoped>\n",
       "    .dataframe tbody tr th:only-of-type {\n",
       "        vertical-align: middle;\n",
       "    }\n",
       "\n",
       "    .dataframe tbody tr th {\n",
       "        vertical-align: top;\n",
       "    }\n",
       "\n",
       "    .dataframe thead th {\n",
       "        text-align: right;\n",
       "    }\n",
       "</style>\n",
       "<table border=\"1\" class=\"dataframe\">\n",
       "  <thead>\n",
       "    <tr style=\"text-align: right;\">\n",
       "      <th></th>\n",
       "      <th>msoa11cd</th>\n",
       "      <th>Unnamed: 0</th>\n",
       "      <th>venue_name</th>\n",
       "      <th>venue_location</th>\n",
       "      <th>venue_category</th>\n",
       "      <th>venue_type</th>\n",
       "    </tr>\n",
       "  </thead>\n",
       "  <tbody>\n",
       "    <tr>\n",
       "      <th>0</th>\n",
       "      <td>E02000001</td>\n",
       "      <td>25</td>\n",
       "      <td>25</td>\n",
       "      <td>25</td>\n",
       "      <td>25</td>\n",
       "      <td>25</td>\n",
       "    </tr>\n",
       "    <tr>\n",
       "      <th>1</th>\n",
       "      <td>E02000002</td>\n",
       "      <td>4</td>\n",
       "      <td>4</td>\n",
       "      <td>4</td>\n",
       "      <td>4</td>\n",
       "      <td>4</td>\n",
       "    </tr>\n",
       "    <tr>\n",
       "      <th>2</th>\n",
       "      <td>E02000003</td>\n",
       "      <td>4</td>\n",
       "      <td>4</td>\n",
       "      <td>4</td>\n",
       "      <td>4</td>\n",
       "      <td>4</td>\n",
       "    </tr>\n",
       "  </tbody>\n",
       "</table>\n",
       "</div>"
      ],
      "text/plain": [
       "    msoa11cd  Unnamed: 0  venue_name  venue_location  venue_category  \\\n",
       "0  E02000001          25          25              25              25   \n",
       "1  E02000002           4           4               4               4   \n",
       "2  E02000003           4           4               4               4   \n",
       "\n",
       "   venue_type  \n",
       "0          25  \n",
       "1           4  \n",
       "2           4  "
      ]
     },
     "execution_count": 78,
     "metadata": {},
     "output_type": "execute_result"
    }
   ],
   "source": [
    "hosp_gb.head(3)"
   ]
  },
  {
   "cell_type": "code",
   "execution_count": 79,
   "metadata": {
    "id": "E4pu38ZcWmjo"
   },
   "outputs": [],
   "source": [
    "aggr_asian_hosp = asian_gb[[\"msoa11cd\", \"venue_name\"]]\\\n",
    ".rename(columns = {\"venue_name\": \"asian_hospitality_count\"})\\\n",
    ".merge(hosp_gb[[\"msoa11cd\", \"venue_name\"]].rename(columns = {\"venue_name\": \"all_hospitality_count\"}),\n",
    "       how = \"left\",\n",
    "       left_on = \"msoa11cd\",\n",
    "       right_on = \"msoa11cd\")"
   ]
  },
  {
   "cell_type": "code",
   "execution_count": 80,
   "metadata": {
    "id": "fdQqTynOWmjo"
   },
   "outputs": [],
   "source": [
    "aggr_asian_hosp[\"asian_hospitality_percentage\"] = aggr_asian_hosp[\"asian_hospitality_count\"] / aggr_asian_hosp[\"all_hospitality_count\"]"
   ]
  },
  {
   "cell_type": "code",
   "execution_count": null,
   "metadata": {},
   "outputs": [],
   "source": []
  },
  {
   "cell_type": "code",
   "execution_count": 81,
   "metadata": {
    "colab": {
     "base_uri": "https://localhost:8080/",
     "height": 0
    },
    "id": "oTBxrn3qWmjo",
    "outputId": "cbae827c-57fd-4abc-f1ad-03bc54327386"
   },
   "outputs": [
    {
     "data": {
      "text/html": [
       "<div>\n",
       "<style scoped>\n",
       "    .dataframe tbody tr th:only-of-type {\n",
       "        vertical-align: middle;\n",
       "    }\n",
       "\n",
       "    .dataframe tbody tr th {\n",
       "        vertical-align: top;\n",
       "    }\n",
       "\n",
       "    .dataframe thead th {\n",
       "        text-align: right;\n",
       "    }\n",
       "</style>\n",
       "<table border=\"1\" class=\"dataframe\">\n",
       "  <thead>\n",
       "    <tr style=\"text-align: right;\">\n",
       "      <th></th>\n",
       "      <th>msoa11cd</th>\n",
       "      <th>asian_hospitality_count</th>\n",
       "      <th>all_hospitality_count</th>\n",
       "      <th>asian_hospitality_percentage</th>\n",
       "    </tr>\n",
       "  </thead>\n",
       "  <tbody>\n",
       "    <tr>\n",
       "      <th>0</th>\n",
       "      <td>E02000001</td>\n",
       "      <td>4</td>\n",
       "      <td>25</td>\n",
       "      <td>0.160000</td>\n",
       "    </tr>\n",
       "    <tr>\n",
       "      <th>1</th>\n",
       "      <td>E02000005</td>\n",
       "      <td>2</td>\n",
       "      <td>4</td>\n",
       "      <td>0.500000</td>\n",
       "    </tr>\n",
       "    <tr>\n",
       "      <th>2</th>\n",
       "      <td>E02000012</td>\n",
       "      <td>1</td>\n",
       "      <td>2</td>\n",
       "      <td>0.500000</td>\n",
       "    </tr>\n",
       "    <tr>\n",
       "      <th>3</th>\n",
       "      <td>E02000013</td>\n",
       "      <td>1</td>\n",
       "      <td>2</td>\n",
       "      <td>0.500000</td>\n",
       "    </tr>\n",
       "    <tr>\n",
       "      <th>4</th>\n",
       "      <td>E02000016</td>\n",
       "      <td>1</td>\n",
       "      <td>6</td>\n",
       "      <td>0.166667</td>\n",
       "    </tr>\n",
       "  </tbody>\n",
       "</table>\n",
       "</div>"
      ],
      "text/plain": [
       "    msoa11cd  asian_hospitality_count  all_hospitality_count  \\\n",
       "0  E02000001                        4                     25   \n",
       "1  E02000005                        2                      4   \n",
       "2  E02000012                        1                      2   \n",
       "3  E02000013                        1                      2   \n",
       "4  E02000016                        1                      6   \n",
       "\n",
       "   asian_hospitality_percentage  \n",
       "0                      0.160000  \n",
       "1                      0.500000  \n",
       "2                      0.500000  \n",
       "3                      0.500000  \n",
       "4                      0.166667  "
      ]
     },
     "execution_count": 81,
     "metadata": {},
     "output_type": "execute_result"
    }
   ],
   "source": [
    "aggr_asian_hosp.head()"
   ]
  },
  {
   "cell_type": "markdown",
   "metadata": {
    "id": "f8ahhyKVWmjo"
   },
   "source": [
    "### Merging the retrieved FourSquare data with the main DataFrame"
   ]
  },
  {
   "cell_type": "code",
   "execution_count": 82,
   "metadata": {
    "colab": {
     "base_uri": "https://localhost:8080/",
     "height": 206
    },
    "id": "s7tulaaNWmjp",
    "outputId": "28be280d-fc21-4f43-8200-000d50ea96f0"
   },
   "outputs": [
    {
     "data": {
      "text/html": [
       "<div>\n",
       "<style scoped>\n",
       "    .dataframe tbody tr th:only-of-type {\n",
       "        vertical-align: middle;\n",
       "    }\n",
       "\n",
       "    .dataframe tbody tr th {\n",
       "        vertical-align: top;\n",
       "    }\n",
       "\n",
       "    .dataframe thead th {\n",
       "        text-align: right;\n",
       "    }\n",
       "</style>\n",
       "<table border=\"1\" class=\"dataframe\">\n",
       "  <thead>\n",
       "    <tr style=\"text-align: right;\">\n",
       "      <th></th>\n",
       "      <th>msoa11cd</th>\n",
       "      <th>region_name</th>\n",
       "      <th>total_annual_income</th>\n",
       "      <th>msoa11nm</th>\n",
       "      <th>coordinates</th>\n",
       "      <th>total_population</th>\n",
       "      <th>asian_population_percentage</th>\n",
       "      <th>asian_population_count</th>\n",
       "      <th>lad17cd</th>\n",
       "      <th>average_rent</th>\n",
       "      <th>asian_hospitality_count</th>\n",
       "      <th>all_hospitality_count</th>\n",
       "      <th>asian_hospitality_percentage</th>\n",
       "    </tr>\n",
       "  </thead>\n",
       "  <tbody>\n",
       "    <tr>\n",
       "      <th>0</th>\n",
       "      <td>E02000166</td>\n",
       "      <td>London</td>\n",
       "      <td>52900</td>\n",
       "      <td>Camden 001</td>\n",
       "      <td>[-0.147053479241724, 51.562958220745536]</td>\n",
       "      <td>7924</td>\n",
       "      <td>0.057673</td>\n",
       "      <td>457.0</td>\n",
       "      <td>E09000007</td>\n",
       "      <td>2427</td>\n",
       "      <td>2.0</td>\n",
       "      <td>42.0</td>\n",
       "      <td>0.047619</td>\n",
       "    </tr>\n",
       "    <tr>\n",
       "      <th>1</th>\n",
       "      <td>E02000167</td>\n",
       "      <td>London</td>\n",
       "      <td>68200</td>\n",
       "      <td>Camden 002</td>\n",
       "      <td>[-0.173301975759992, 51.557260102499264]</td>\n",
       "      <td>7944</td>\n",
       "      <td>0.067095</td>\n",
       "      <td>533.0</td>\n",
       "      <td>E09000007</td>\n",
       "      <td>2427</td>\n",
       "      <td>5.0</td>\n",
       "      <td>35.0</td>\n",
       "      <td>0.142857</td>\n",
       "    </tr>\n",
       "    <tr>\n",
       "      <th>2</th>\n",
       "      <td>E02000168</td>\n",
       "      <td>London</td>\n",
       "      <td>57000</td>\n",
       "      <td>Camden 003</td>\n",
       "      <td>[-0.141544566585947, 51.55567394711822]</td>\n",
       "      <td>8172</td>\n",
       "      <td>0.071831</td>\n",
       "      <td>587.0</td>\n",
       "      <td>E09000007</td>\n",
       "      <td>2427</td>\n",
       "      <td>4.0</td>\n",
       "      <td>45.0</td>\n",
       "      <td>0.088889</td>\n",
       "    </tr>\n",
       "  </tbody>\n",
       "</table>\n",
       "</div>"
      ],
      "text/plain": [
       "    msoa11cd region_name  total_annual_income    msoa11nm  \\\n",
       "0  E02000166      London                52900  Camden 001   \n",
       "1  E02000167      London                68200  Camden 002   \n",
       "2  E02000168      London                57000  Camden 003   \n",
       "\n",
       "                                coordinates  total_population  \\\n",
       "0  [-0.147053479241724, 51.562958220745536]              7924   \n",
       "1  [-0.173301975759992, 51.557260102499264]              7944   \n",
       "2   [-0.141544566585947, 51.55567394711822]              8172   \n",
       "\n",
       "   asian_population_percentage  asian_population_count    lad17cd  \\\n",
       "0                     0.057673                   457.0  E09000007   \n",
       "1                     0.067095                   533.0  E09000007   \n",
       "2                     0.071831                   587.0  E09000007   \n",
       "\n",
       "  average_rent  asian_hospitality_count  all_hospitality_count  \\\n",
       "0         2427                      2.0                   42.0   \n",
       "1         2427                      5.0                   35.0   \n",
       "2         2427                      4.0                   45.0   \n",
       "\n",
       "   asian_hospitality_percentage  \n",
       "0                      0.047619  \n",
       "1                      0.142857  \n",
       "2                      0.088889  "
      ]
     },
     "execution_count": 82,
     "metadata": {},
     "output_type": "execute_result"
    }
   ],
   "source": [
    "dfs[\"all\"] = dfs[\"all\"].merge(aggr_asian_hosp, how = \"left\", left_on = \"msoa11cd\", right_on=\"msoa11cd\")\n",
    "dfs[\"all\"].head(3)"
   ]
  },
  {
   "cell_type": "code",
   "execution_count": 83,
   "metadata": {
    "colab": {
     "base_uri": "https://localhost:8080/"
    },
    "id": "B37dh2VmWmjp",
    "outputId": "a5e6a399-13b7-451f-f562-e7e021bf4c53"
   },
   "outputs": [
    {
     "data": {
      "text/plain": [
       "msoa11cd                          0\n",
       "region_name                       0\n",
       "total_annual_income               0\n",
       "msoa11nm                          0\n",
       "coordinates                       0\n",
       "total_population                  0\n",
       "asian_population_percentage       0\n",
       "asian_population_count            0\n",
       "lad17cd                           0\n",
       "average_rent                      0\n",
       "asian_hospitality_count         406\n",
       "all_hospitality_count           406\n",
       "asian_hospitality_percentage    406\n",
       "dtype: int64"
      ]
     },
     "execution_count": 83,
     "metadata": {},
     "output_type": "execute_result"
    }
   ],
   "source": [
    "dfs[\"all\"].isna().sum()"
   ]
  },
  {
   "cell_type": "code",
   "execution_count": 84,
   "metadata": {
    "id": "vOHja3YRWmjp"
   },
   "outputs": [],
   "source": [
    "dfs[\"all\"].drop(columns = [\"all_hospitality_count\"], inplace = True)"
   ]
  },
  {
   "cell_type": "code",
   "execution_count": 85,
   "metadata": {
    "id": "WTtX-2laWmjp"
   },
   "outputs": [],
   "source": [
    "dfs[\"all\"] = dfs[\"all\"].merge(hosp_gb[[\"msoa11cd\", \"venue_type\"]], how = \"left\")\n",
    "dfs[\"all\"].rename(columns = {\"venue_type\": \"all_hospitality_count\"}, inplace = True)"
   ]
  },
  {
   "cell_type": "code",
   "execution_count": 86,
   "metadata": {
    "colab": {
     "base_uri": "https://localhost:8080/"
    },
    "id": "boWOfH0hWmjp",
    "outputId": "045137ae-d3b7-4b22-9a0a-05ad190b22b6"
   },
   "outputs": [
    {
     "data": {
      "text/plain": [
       "msoa11cd                          0\n",
       "region_name                       0\n",
       "total_annual_income               0\n",
       "msoa11nm                          0\n",
       "coordinates                       0\n",
       "total_population                  0\n",
       "asian_population_percentage       0\n",
       "asian_population_count            0\n",
       "lad17cd                           0\n",
       "average_rent                      0\n",
       "asian_hospitality_count         406\n",
       "asian_hospitality_percentage    406\n",
       "all_hospitality_count            27\n",
       "dtype: int64"
      ]
     },
     "execution_count": 86,
     "metadata": {},
     "output_type": "execute_result"
    }
   ],
   "source": [
    "dfs[\"all\"].isna().sum()"
   ]
  },
  {
   "cell_type": "code",
   "execution_count": 87,
   "metadata": {
    "id": "rZMo-6mEWmjp"
   },
   "outputs": [],
   "source": [
    "dfs[\"all\"].fillna(0, inplace = True)"
   ]
  },
  {
   "cell_type": "code",
   "execution_count": 88,
   "metadata": {
    "colab": {
     "base_uri": "https://localhost:8080/"
    },
    "id": "KYMN42V_Wmjq",
    "outputId": "19b9e17f-d9dd-42d5-866a-2eeee145d977"
   },
   "outputs": [
    {
     "data": {
      "text/plain": [
       "msoa11cd                        0\n",
       "region_name                     0\n",
       "total_annual_income             0\n",
       "msoa11nm                        0\n",
       "coordinates                     0\n",
       "total_population                0\n",
       "asian_population_percentage     0\n",
       "asian_population_count          0\n",
       "lad17cd                         0\n",
       "average_rent                    0\n",
       "asian_hospitality_count         0\n",
       "asian_hospitality_percentage    0\n",
       "all_hospitality_count           0\n",
       "dtype: int64"
      ]
     },
     "execution_count": 88,
     "metadata": {},
     "output_type": "execute_result"
    }
   ],
   "source": [
    "dfs[\"all\"].isna().sum()"
   ]
  },
  {
   "cell_type": "code",
   "execution_count": 89,
   "metadata": {
    "id": "S-wisTdoWmjq"
   },
   "outputs": [],
   "source": [
    "dfs[\"all\"][\"pop_relative_hospitality_frequency\"] = dfs[\"all\"][\"all_hospitality_count\"] / dfs[\"all\"][\"total_population\"]"
   ]
  },
  {
   "cell_type": "code",
   "execution_count": 90,
   "metadata": {},
   "outputs": [],
   "source": [
    "dfs[\"all\"][\"asian_pop_relative_asian_hospitality_frequency\"] = dfs[\"all\"][\"asian_hospitality_count\"] / dfs[\"all\"][\"total_population\"] * dfs[\"all\"][\"asian_population_percentage\"]      "
   ]
  },
  {
   "cell_type": "code",
   "execution_count": 91,
   "metadata": {
    "colab": {
     "base_uri": "https://localhost:8080/"
    },
    "id": "AFJPk_brWmjq",
    "outputId": "e7487d15-2947-4250-e933-9926e08af1f2"
   },
   "outputs": [
    {
     "name": "stdout",
     "output_type": "stream",
     "text": [
      "983\n"
     ]
    }
   ],
   "source": [
    "filtered_list  = filter_geo_json_with_tooltip(json_response, MSOA_codes, dfs_all = dfs[\"all\"], dfs_tooltip_cols = \"asian_hospitality_percentage\", tooltip_name = \"asian_hospitality_percentage\")\n",
    "json_response[\"features\"] = filtered_list"
   ]
  },
  {
   "cell_type": "markdown",
   "metadata": {
    "id": "SmI_KZwdWmjr"
   },
   "source": [
    "### Displaying the relative ratio of asian hospitality facilities by MSOA in a Choloropeth map"
   ]
  },
  {
   "cell_type": "code",
   "execution_count": 92,
   "metadata": {
    "colab": {
     "base_uri": "https://localhost:8080/"
    },
    "id": "ciMCgARfWmjr",
    "outputId": "a5dbd6e8-cf7a-490e-865b-f7bdbfc2eb89"
   },
   "outputs": [
    {
     "data": {
      "text/plain": [
       "<folium.features.GeoJson at 0x22b4f44d2b0>"
      ]
     },
     "execution_count": 92,
     "metadata": {},
     "output_type": "execute_result"
    }
   ],
   "source": [
    "maps[\"asian_frequency\"] = maps[\"base_map\"]()\n",
    "maps[\"asian_frequency_choropleth\"] = folium.Choropleth(geo_data = json_response , \n",
    "                                                       data = dfs[\"all\"], \n",
    "                                                       columns = [\"msoa11cd\", \"asian_hospitality_percentage\"],\n",
    "                                                       key_on = \"feature.properties.msoa11cd\",\n",
    "                                                       fill_color = \"BuPu\")\n",
    "maps[\"asian_frequency_choropleth\"].geojson.add_child(\n",
    "        folium.features.GeoJsonTooltip(fields = [\"asian_hospitality_percentage\"], labels = False)\n",
    ")"
   ]
  },
  {
   "cell_type": "code",
   "execution_count": 93,
   "metadata": {
    "colab": {
     "base_uri": "https://localhost:8080/"
    },
    "id": "zJ8DjBNdlz32",
    "outputId": "ff2a7a45-3f47-4c96-8208-a9b77471a7fa"
   },
   "outputs": [
    {
     "data": {
      "text/plain": [
       "<folium.features.GeoJsonTooltip at 0x22b4f44df10>"
      ]
     },
     "execution_count": 93,
     "metadata": {},
     "output_type": "execute_result"
    }
   ],
   "source": [
    "folium.features.GeoJsonTooltip(fields = [\"asian_hospitality_percentage\"], labels = False)\n",
    "\n"
   ]
  },
  {
   "cell_type": "code",
   "execution_count": 94,
   "metadata": {
    "colab": {
     "base_uri": "https://localhost:8080/"
    },
    "id": "aUxzJ0sBWmjr",
    "outputId": "6c3aa9d4-72c7-4d3d-c5ea-062a60d66963",
    "scrolled": true
   },
   "outputs": [
    {
     "data": {
      "text/plain": [
       "<folium.features.Choropleth at 0x22b4f44dd60>"
      ]
     },
     "execution_count": 94,
     "metadata": {},
     "output_type": "execute_result"
    }
   ],
   "source": [
    "maps[\"asian_frequency_choropleth\"].add_to(maps[\"asian_frequency\"])"
   ]
  },
  {
   "cell_type": "markdown",
   "metadata": {
    "id": "cUlGbZrHbAVV"
   },
   "source": [
    "#### Uncomment the following line to view the map"
   ]
  },
  {
   "cell_type": "code",
   "execution_count": 95,
   "metadata": {
    "id": "IK362_APbFBA"
   },
   "outputs": [],
   "source": [
    "#maps[\"asian_frequency\"]"
   ]
  },
  {
   "cell_type": "markdown",
   "metadata": {
    "id": "THf5sLGaWmjr"
   },
   "source": [
    "# Clustering tendency analysis"
   ]
  },
  {
   "cell_type": "markdown",
   "metadata": {
    "id": "0x_J_MJoWmjs"
   },
   "source": [
    "### Feature selection"
   ]
  },
  {
   "cell_type": "code",
   "execution_count": 96,
   "metadata": {
    "colab": {
     "base_uri": "https://localhost:8080/"
    },
    "id": "jem6fXGpWmjs",
    "outputId": "fd41f353-a89b-4d3b-8ca3-0fd0225aa71b"
   },
   "outputs": [
    {
     "data": {
      "text/plain": [
       "Index(['msoa11cd', 'region_name', 'total_annual_income', 'msoa11nm',\n",
       "       'coordinates', 'total_population', 'asian_population_percentage',\n",
       "       'asian_population_count', 'lad17cd', 'average_rent',\n",
       "       'asian_hospitality_count', 'asian_hospitality_percentage',\n",
       "       'all_hospitality_count', 'pop_relative_hospitality_frequency',\n",
       "       'asian_pop_relative_asian_hospitality_frequency'],\n",
       "      dtype='object')"
      ]
     },
     "execution_count": 96,
     "metadata": {},
     "output_type": "execute_result"
    }
   ],
   "source": [
    "dfs[\"all\"].columns"
   ]
  },
  {
   "cell_type": "code",
   "execution_count": 139,
   "metadata": {
    "id": "t6FOpNTaWmjs"
   },
   "outputs": [],
   "source": [
    "selected_feature_columns = [\"total_annual_income\",\n",
    "                            #\"asian_population_percentage\",\n",
    "                            #\"asian_population_count\",\n",
    "                            #\"asian_hospitality_percentage\",\n",
    "                            \"asian_pop_relative_asian_hospitality_frequency\",\n",
    "                            \"pop_relative_hospitality_frequency\",\n",
    "                            \"average_rent\"\n",
    "                           ]"
   ]
  },
  {
   "cell_type": "markdown",
   "metadata": {
    "id": "qPdaxjMIblYu"
   },
   "source": [
    "### Data scaling (StandardScaler == Z-score)"
   ]
  },
  {
   "cell_type": "code",
   "execution_count": 140,
   "metadata": {
    "id": "zOi26hK9Wmjt"
   },
   "outputs": [],
   "source": [
    "column_data_for_hopkins_statistics = dfs[\"all\"]\\\n",
    "[selected_feature_columns].values\n",
    "column_data_for_hopkins_statistics_normed = column_data_for_hopkins_statistics =  MinMaxScaler().fit_transform(column_data_for_hopkins_statistics)"
   ]
  },
  {
   "cell_type": "code",
   "execution_count": 141,
   "metadata": {
    "colab": {
     "base_uri": "https://localhost:8080/"
    },
    "id": "Ma8Bcl6mWmjt",
    "outputId": "3d4c712a-1ee2-4779-caa6-d444de3b492a"
   },
   "outputs": [
    {
     "data": {
      "text/plain": [
       "(1107, 4)"
      ]
     },
     "execution_count": 141,
     "metadata": {},
     "output_type": "execute_result"
    }
   ],
   "source": [
    "column_data_for_hopkins_statistics.shape"
   ]
  },
  {
   "cell_type": "code",
   "execution_count": 142,
   "metadata": {
    "colab": {
     "base_uri": "https://localhost:8080/"
    },
    "id": "DrXz9BL1Wmjt",
    "outputId": "3449575a-f286-40a1-8755-75fea1133e24"
   },
   "outputs": [
    {
     "data": {
      "text/plain": [
       "0.9211995266115716"
      ]
     },
     "execution_count": 142,
     "metadata": {},
     "output_type": "execute_result"
    }
   ],
   "source": [
    "my_hopkins = get_hopkins_statistics(column_data_for_hopkins_statistics_normed)\n",
    "my_hopkins"
   ]
  },
  {
   "cell_type": "markdown",
   "metadata": {
    "id": "jVZtAOOBbwWR"
   },
   "source": [
    "### Cross-checking the implemented hopkins statistics function with the module \"pyclustertend\"'s function\n",
    "The match between the two values was decided to be suffiient if the difference is less than 1%. The difference was thought to be the result of different pseudo-random-number-generator initialisations..."
   ]
  },
  {
   "cell_type": "code",
   "execution_count": 143,
   "metadata": {
    "colab": {
     "base_uri": "https://localhost:8080/"
    },
    "id": "NtkeUYE4Wmjt",
    "outputId": "e5b23bbd-878b-4935-b8e4-d5dcd62f2680"
   },
   "outputs": [
    {
     "name": "stdout",
     "output_type": "stream",
     "text": [
      "My implementation:0.9212, pyclustertend implementation: 0.9216, difference: 0.0004\n"
     ]
    }
   ],
   "source": [
    "pyclustertend_hopkins = 1 - hopkins(column_data_for_hopkins_statistics_normed,int(column_data_for_hopkins_statistics_normed.shape[0]*0.1))\n",
    "output = \"My implementation:{:.4f}, pyclustertend implementation: {:.4f}, difference: {:.4f}\".format(my_hopkins, pyclustertend_hopkins, abs(pyclustertend_hopkins - my_hopkins))\n",
    "print(output)"
   ]
  },
  {
   "cell_type": "markdown",
   "metadata": {
    "id": "FM47OjtausQ3"
   },
   "source": [
    "# Finding the optimal K for clustering"
   ]
  },
  {
   "cell_type": "markdown",
   "metadata": {
    "id": "hWXjzJcYdCq4"
   },
   "source": [
    "### Evaluating K numbers according to two metrics: WSS and Shilouette score\n",
    "WSS: Within cluster Sum of Squared Distances"
   ]
  },
  {
   "cell_type": "code",
   "execution_count": 144,
   "metadata": {
    "id": "zXKq-HzJWmjt"
   },
   "outputs": [],
   "source": [
    "kays = list(range(2, 20))\n",
    "from sklearn.cluster import KMeans\n",
    "from sklearn.metrics import silhouette_score\n",
    "from sklearn.metrics import davies_bouldin_score\n",
    "silhouette_scores = []\n",
    "wss_scores = []\n",
    "davies_scores = []"
   ]
  },
  {
   "cell_type": "code",
   "execution_count": null,
   "metadata": {
    "id": "v2oB8kjsWmju"
   },
   "outputs": [],
   "source": [
    "for i in kays:\n",
    "    model = KMeans(init = \"k-means++\", random_state = 0, n_init = 500, n_clusters = i)\n",
    "    model.fit(column_data_for_hopkins_statistics)\n",
    "    silhouette_scores.append(silhouette_score(column_data_for_hopkins_statistics, model.labels_, metric = 'euclidean'))\n",
    "    wss_scores.append(model.inertia_)\n",
    "    davies_scores.append(davies_bouldin_score(column_data_for_hopkins_statistics, model.labels_))"
   ]
  },
  {
   "cell_type": "markdown",
   "metadata": {
    "id": "LZItoYHRc16S"
   },
   "source": [
    "### Scaling the results to be between 0 and 1 for both metrics so that they can be visualised on the same plot"
   ]
  },
  {
   "cell_type": "code",
   "execution_count": null,
   "metadata": {
    "id": "Xs--XAB0Wmju"
   },
   "outputs": [],
   "source": [
    "from sklearn.preprocessing import MinMaxScaler\n",
    "silhouette_scores_hat = MinMaxScaler().fit_transform(np.array(silhouette_scores).reshape(18,1))\n",
    "wss_scores_hat =  MinMaxScaler().fit_transform(np.array(wss_scores).reshape(18,1))\n",
    "davies_scores_hat =  MinMaxScaler().fit_transform(np.array(davies_scores).reshape(18,1))"
   ]
  },
  {
   "cell_type": "markdown",
   "metadata": {
    "id": "yad620COdc43"
   },
   "source": [
    "### Visualising the results"
   ]
  },
  {
   "cell_type": "code",
   "execution_count": null,
   "metadata": {
    "id": "6MOou5NyWmju"
   },
   "outputs": [],
   "source": [
    "fig = plt.figure()\n",
    "ax = plt.gca()\n",
    "ax.plot(kays, silhouette_scores_hat, marker = \"o\", linestyle=\"--\", label = \"Silhouette scores\")\n",
    "ax.plot(kays, wss_scores_hat, marker = \"o\", linestyle=\"--\", label = \"Within Cluster Sum of Squares\")\n",
    "ax.plot(kays, davies_scores_hat, marker = \"o\", linestyle=\"--\", label = \"Davies-Bouldin score\")\n",
    "\n",
    "#ax.plot([4,4], [0,1.2], label = \"Identified ideal K number\")\n",
    "ax.set_xticks(list(range(1,21)))\n",
    "ax.set_xlabel(\"Number of K\")\n",
    "ax.legend()"
   ]
  },
  {
   "cell_type": "markdown",
   "metadata": {},
   "source": [
    "### Since the results were not conclusive, further indices were used."
   ]
  },
  {
   "cell_type": "code",
   "execution_count": null,
   "metadata": {},
   "outputs": [],
   "source": [
    "from yellowbrick.cluster import KElbowVisualizer"
   ]
  },
  {
   "cell_type": "code",
   "execution_count": null,
   "metadata": {},
   "outputs": [],
   "source": [
    "len(davies_scores)"
   ]
  },
  {
   "cell_type": "code",
   "execution_count": null,
   "metadata": {},
   "outputs": [],
   "source": [
    "fig, axes = plt.subplots(4)\n",
    "fig.set_figwidth(20)\n",
    "fig.set_figheight(15)\n",
    "fig.tight_layout(pad=3.0)\n",
    "metrics = [\"silhouette\", \"calinski_harabasz\", \"distortion\"]\n",
    "for i,m in enumerate(metrics):\n",
    "    model = KMeans()\n",
    "    visualizer = KElbowVisualizer(model, ax = axes[i], k=(2,20), metric=m, timings= True)\n",
    "    visualizer.fit(column_data_for_hopkins_statistics)        # Fit the data to the visualizer\n",
    "    axes[i].set_xticks(list(range(1,20)))\n",
    "    visualizer.finalize()\n",
    "    \n",
    "axes[3].plot(kays, davies_scores, marker = \"D\", linestyle=\"-\", label = \"Davies-Bouldin score\")\n",
    "min_score_location = np.argmin(davies_scores)\n",
    "axes[3].plot([min_score_location + 2, min_score_location + 2], [0, 1.5], linestyle=\"--\", color = '0')\n",
    "axes[3].set_xticks(list(range(1,20)))\n",
    "axes[3].annotate(\"--- elbow at k = {}, score = {:.3f}\".format(min_score_location + 2, \n",
    "                                                            davies_scores[min_score_location]), \n",
    "                 [0.85, 0.85],\n",
    "                 xycoords = \"axes fraction\",\n",
    "                backgroundcolor='1', \n",
    "                 alpha = 0.8,\n",
    "                fontsize = 13,\n",
    "                fontweight = \"bold\")\n",
    "axes[3].set_ylabel(\"Davies-Bouldin score\")\n",
    "axes[3].set_title(\"Davies-Bouldin Elbow for KMeans Clustering\")\n",
    "plt.show()"
   ]
  },
  {
   "cell_type": "code",
   "execution_count": null,
   "metadata": {},
   "outputs": [],
   "source": [
    "import scipy.cluster.hierarchy as shc\n",
    "from matplotlib import pyplot\n",
    "pyplot.figure(figsize=(20, 7))  \n",
    "pyplot.title(\"Dendrograms\")  \n",
    "dend = shc.dendrogram(shc.linkage(column_data_for_hopkins_statistics, method='ward'))"
   ]
  },
  {
   "cell_type": "markdown",
   "metadata": {
    "id": "teA78k3fdeVi"
   },
   "source": [
    "### Obtaining cluster labels based on the visual analysis above"
   ]
  },
  {
   "cell_type": "code",
   "execution_count": null,
   "metadata": {
    "id": "aSxuyZzDWmju"
   },
   "outputs": [],
   "source": [
    "model = KMeans(init = \"k-means++\", random_state = 0, n_init = 500, n_clusters = 6)\n",
    "model.fit(column_data_for_hopkins_statistics)\n",
    "dfs[\"all\"][\"cluster\"] = model.labels_"
   ]
  },
  {
   "cell_type": "markdown",
   "metadata": {
    "id": "9dOdeRyMWmjv"
   },
   "source": [
    "# Identifying the optimal clusters for the project goal"
   ]
  },
  {
   "cell_type": "code",
   "execution_count": null,
   "metadata": {
    "id": "D87wZxfQWmjv"
   },
   "outputs": [],
   "source": [
    "selected_feature_columns.append(\"cluster\")\n",
    "selected_feature_columns"
   ]
  },
  {
   "cell_type": "code",
   "execution_count": null,
   "metadata": {
    "id": "bpr1YNKGWmjv"
   },
   "outputs": [],
   "source": [
    "dfs[\"all\"][selected_feature_columns].groupby(by=\"cluster\").median()"
   ]
  },
  {
   "cell_type": "code",
   "execution_count": null,
   "metadata": {
    "id": "kUM3Zh6xWmjv"
   },
   "outputs": [],
   "source": [
    "dfs[\"all\"][selected_feature_columns].groupby(by=\"cluster\").mean()"
   ]
  },
  {
   "cell_type": "markdown",
   "metadata": {
    "id": "yLjq5nQ6u_QE"
   },
   "source": [
    "### Visualise clusters on the map"
   ]
  },
  {
   "cell_type": "code",
   "execution_count": null,
   "metadata": {
    "id": "AfLuwCGzWmjw"
   },
   "outputs": [],
   "source": [
    "filtered_list  = filter_geo_json_with_tooltip(json_response,\n",
    "                                              MSOA_codes,\n",
    "                                              dfs_all = dfs[\"all\"], \n",
    "                                              dfs_tooltip_cols = selected_feature_columns,\n",
    "                                              tooltip_name = \"comprehensive\")\n",
    "json_response[\"features\"] = filtered_list"
   ]
  },
  {
   "cell_type": "code",
   "execution_count": null,
   "metadata": {
    "id": "60xDfDiaWmjw"
   },
   "outputs": [],
   "source": [
    "final_map = maps[\"base_map\"]()"
   ]
  },
  {
   "cell_type": "code",
   "execution_count": null,
   "metadata": {
    "id": "_xE8ADxSp-ht"
   },
   "outputs": [],
   "source": [
    "final_choro = folium.Choropleth(\n",
    "    data = dfs[\"all\"],\n",
    "    geo_data = json_response,\n",
    "    columns = [\"msoa11cd\", \"cluster\"],\n",
    "    key_on = \"feature.properties.msoa11cd\",\n",
    "    fill_color = \"BuPu\",\n",
    "\n",
    ")\n",
    "final_choro.geojson.add_child(\n",
    "    folium.features.GeoJsonTooltip(labels = False, fields = [\"comprehensive\"])\n",
    ")\n",
    "final_choro.add_to(final_map)"
   ]
  },
  {
   "cell_type": "code",
   "execution_count": null,
   "metadata": {
    "id": "pE1V3aWLquIF"
   },
   "outputs": [],
   "source": [
    "final_map"
   ]
  },
  {
   "cell_type": "code",
   "execution_count": null,
   "metadata": {},
   "outputs": [],
   "source": [
    "final_choro"
   ]
  },
  {
   "cell_type": "code",
   "execution_count": null,
   "metadata": {},
   "outputs": [],
   "source": []
  },
  {
   "cell_type": "code",
   "execution_count": null,
   "metadata": {},
   "outputs": [],
   "source": []
  }
 ],
 "metadata": {
  "colab": {
   "collapsed_sections": [
    "oC4m9EyJbTQr",
    "DlwmNwhgchDU",
    "Cr45xdcucy4-",
    "Kf_hJaWqh1eI",
    "pL4I-QfrYQXr",
    "zYqJJNmoYVuI",
    "2U9N4Gz_X1aL",
    "fRRGIA0NbaIi",
    "0oJ92GZUi1Au",
    "BbPVGeYri9Q4",
    "2y8fEMfNjVo_",
    "OMaRTsI1kGPb",
    "pYqergsZor-Z",
    "OCFYAGO-qavn",
    "QmX6gcXGWmjb",
    "fJikd0FNWmjk"
   ],
   "name": "!MSOA_SEGMENTATION_OF_LONDON_TO_AID_DECISION_MAKING_IN_CHOOSING_RESTAURANT_LOCATION.ipynb",
   "provenance": []
  },
  "kernelspec": {
   "display_name": "Python 3",
   "language": "python",
   "name": "python3"
  },
  "language_info": {
   "codemirror_mode": {
    "name": "ipython",
    "version": 3
   },
   "file_extension": ".py",
   "mimetype": "text/x-python",
   "name": "python",
   "nbconvert_exporter": "python",
   "pygments_lexer": "ipython3",
   "version": "3.8.5"
  }
 },
 "nbformat": 4,
 "nbformat_minor": 4
}
